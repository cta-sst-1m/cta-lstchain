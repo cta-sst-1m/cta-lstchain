{
 "cells": [
  {
   "cell_type": "code",
   "execution_count": 6,
   "id": "turkish-starter",
   "metadata": {},
   "outputs": [],
   "source": [
    "from lstchain.io.io import read_dl2_to_pyirf, dl2_params_lstcam_key\n",
    "import logging\n",
    "import operator\n",
    "from lstchain.mc import plot_utils\n",
    "import os\n",
    "\n",
    "import numpy as np\n",
    "from astropy import table\n",
    "import astropy.units as u\n",
    "from astropy.io import fits\n",
    "import matplotlib.pyplot as plt\n",
    "from astropy.table import QTable\n",
    "import pandas as pd\n",
    "\n",
    "from pyirf.io.eventdisplay import read_eventdisplay_fits\n",
    "from pyirf.binning import (\n",
    "    create_bins_per_decade,\n",
    "    add_overflow_bins,\n",
    "    create_histogram_table,\n",
    ")\n",
    "from pyirf.cuts import calculate_percentile_cut, evaluate_binned_cut\n",
    "from pyirf.sensitivity import calculate_sensitivity\n",
    "from pyirf.utils import calculate_theta, calculate_source_fov_offset\n",
    "from pyirf.benchmarks import energy_bias_resolution, angular_resolution\n",
    "\n",
    "from pyirf.cuts import calculate_percentile_cut, evaluate_binned_cut\n",
    "from pyirf.sensitivity import calculate_sensitivity, estimate_background\n",
    "from pyirf.utils import calculate_theta, calculate_source_fov_offset\n",
    "from pyirf.benchmarks import energy_bias_resolution, angular_resolution\n",
    "\n",
    "from pyirf.spectral import (\n",
    "    calculate_event_weights,\n",
    "    PowerLaw,\n",
    "    CRAB_HEGRA,\n",
    "    IRFDOC_PROTON_SPECTRUM\n",
    ")\n",
    "from pyirf.cut_optimization import optimize_gh_cut\n",
    "\n",
    "from pyirf.irf import (\n",
    "    effective_area_per_energy,\n",
    "    energy_dispersion,\n",
    "    psf_table,\n",
    "    background_2d,\n",
    ")\n",
    "\n",
    "from pyirf.io import (\n",
    "    create_aeff2d_hdu,\n",
    "    create_psf_table_hdu,\n",
    "    create_energy_dispersion_hdu,\n",
    "    create_rad_max_hdu,\n",
    "    create_background_2d_hdu,\n",
    ")\n",
    "\n",
    "log = logging.getLogger(\"pyirf\")"
   ]
  },
  {
   "cell_type": "code",
   "execution_count": 3,
   "id": "hazardous-liberal",
   "metadata": {},
   "outputs": [],
   "source": [
    "def get_obstime_real(events):\n",
    "    \"\"\"Calculate the effective observation time\"\"\"\n",
    "    deltat = np.diff(events.dragon_time)\n",
    "    rate=1/np.mean(deltat[(deltat > 0) & (deltat < 0.1)])\n",
    "    dead_time = np.amin(deltat)\n",
    "    t_elapsed = events.shape[0]/rate * u.s\n",
    "    total_dead_time=events.shape[0]*dead_time\n",
    "    t_eff = t_elapsed/(1+rate*dead_time)\n",
    "    print(\"ELAPSED TIME: %.2f s\\n\" % t_elapsed.to_value(),\n",
    "          \"EFFECTIVE TIME: %.2f s\\n\" % t_eff.to_value(),\n",
    "          \"DEAD TIME: %0.2E s\\n\" % dead_time,\n",
    "          \"TOTAL DEAD TIME: %.2f s\\n\" % total_dead_time, \n",
    "          \"RATE: %.2f 1/s\\n\" % rate\n",
    "    )\n",
    "\n",
    "    return t_eff\n",
    "\n",
    "\n",
    "def read_real_dl2_to_pyirf(filename):\n",
    "    \"\"\"\n",
    "    Read DL2 files of real data from lstchain and convert into pyirf internal format\n",
    "    Parameters\n",
    "    ----------\n",
    "    filename: path\n",
    "    Returns\n",
    "    -------\n",
    "    `astropy.table.QTable`, `pyirf.simulations.SimulatedEventsInfo`\n",
    "    \"\"\"\n",
    "\n",
    "    ## mapping\n",
    "    name_mapping = {\n",
    "        'alt_tel': 'pointing_alt',\n",
    "        'az_tel': 'pointing_az',\n",
    "        'gammaness': 'gh_score',\n",
    "    }\n",
    "\n",
    "    unit_mapping = {\n",
    "        'reco_energy': u.TeV,\n",
    "        'pointing_alt': u.rad,\n",
    "        'pointing_az': u.rad,\n",
    "        'reco_alt': u.rad,\n",
    "        'reco_az': u.rad,\n",
    "    }\n",
    "\n",
    "    events = pd.read_hdf(filename, key=dl2_params_lstcam_key).rename(columns=name_mapping)\n",
    "    \n",
    "    obstime_real = get_obstime_real(events) #Calculate effective observation time\n",
    "    \n",
    "    events = events\n",
    "    events = table.QTable.from_pandas(events)\n",
    "\n",
    "    for k, v in unit_mapping.items():\n",
    "        events[k] *= v\n",
    "\n",
    "    return events, obstime_real"
   ]
  },
  {
   "cell_type": "code",
   "execution_count": 4,
   "id": "built-stable",
   "metadata": {},
   "outputs": [],
   "source": [
    "#Observation time for sensitivity\n",
    "T_OBS = 50 * u.hour\n",
    "# scaling between on and off region.\n",
    "# Make off region 5 times larger than on region for better\n",
    "# background statistics\n",
    "ALPHA = 1/5\n",
    "\n",
    "# Radius to use for calculating bg rate\n",
    "MAX_BG_RADIUS = 1.0 * u.deg\n",
    "\n",
    "# gamma efficiency used for first calculation of the binned theta cuts\n",
    "# initial theta cuts are calculated using a fixed g/h cut corresponding to this efficiency\n",
    "# then g/h cuts are optimized after applying these initial theta cuts. \n",
    "INITIAL_GH_CUT_EFFICENCY = 0.5\n",
    "\n",
    "#gamma efficiency used for gh cuts calculation\n",
    "MAX_GH_CUT_EFFICIENCY = 0.8\n",
    "GH_CUT_EFFICIENCY_STEP = 0.01\n",
    "\n",
    "#Number of energy bins\n",
    "N_EBINS = 20\n",
    "#Energy range\n",
    "EMIN=0.05  #TeV\n",
    "EMAX=50  #TeV\n",
    "\n",
    "#Fixed cuts\n",
    "INTENSITY_CUT = 100\n",
    "LEAKAGE2_CUT = 0.2\n"
   ]
  },
  {
   "cell_type": "code",
   "execution_count": 7,
   "id": "bearing-benefit",
   "metadata": {},
   "outputs": [],
   "source": [
    "path_to_data = '/fefs/aswg/workspace/david.miranda/data/prod5/dl2/lstchain_v.0.6.3/mono-lst-sipm-pmma-3ns/50.50/intensity_200_leakage_0.2'\n",
    "\n",
    "file_gammas = os.path.join(path_to_data, 'dl2_gamma_on_merge_test.h5')\n",
    "file_protons = os.path.join(path_to_data, 'dl2_proton_merge_test.h5')\n",
    "\n",
    "#file_on = \"/home/queenmab/DATA/LST/ON/Run2007_on.h5\"\n",
    "#file_off = \"/home/queenmab/DATA/LST/OFF.h5\""
   ]
  },
  {
   "cell_type": "code",
   "execution_count": 8,
   "id": "detailed-environment",
   "metadata": {},
   "outputs": [
    {
     "name": "stderr",
     "output_type": "stream",
     "text": [
      "Table '/simulation/run_config' has column 'obs_id' that is not in container MCHeaderContainer. It will be skipped\n",
      "Table '/simulation/run_config' has column 'obs_id' that is not in container MCHeaderContainer. It will be skipped\n"
     ]
    }
   ],
   "source": [
    "events_g, simu_info_g = read_dl2_to_pyirf(file_gammas)\n",
    "events_p, simu_info_p = read_dl2_to_pyirf(file_protons)"
   ]
  },
  {
   "cell_type": "code",
   "execution_count": 10,
   "id": "clinical-irrigation",
   "metadata": {},
   "outputs": [],
   "source": [
    "for events in (events_g, events_p):\n",
    "        events['good_events'] = (events['intensity']>=INTENSITY_CUT) & \\\n",
    "        (events['leakage_intensity_width_2']<=LEAKAGE2_CUT)"
   ]
  },
  {
   "cell_type": "code",
   "execution_count": 11,
   "id": "pleasant-covering",
   "metadata": {},
   "outputs": [],
   "source": [
    "particles = {\n",
    "         \"gamma\": {\n",
    "                \"events\": events_g[events_g['good_events']],\n",
    "                \"simulation_info\": simu_info_g,\n",
    "                \"target_spectrum\": CRAB_HEGRA\n",
    "            },\n",
    "        \"proton\": {\n",
    "                \"events\": events_p[events_p['good_events']],\n",
    "                \"simulation_info\": simu_info_p,\n",
    "                \"target_spectrum\": IRFDOC_PROTON_SPECTRUM\n",
    "            }\n",
    "        }"
   ]
  },
  {
   "cell_type": "code",
   "execution_count": 12,
   "id": "binding-singer",
   "metadata": {},
   "outputs": [],
   "source": [
    "# Manage MC gammas:\n",
    "#Get simulated spectrum\n",
    "particles[\"gamma\"][\"simulated_spectrum\"] = PowerLaw.from_simulation(particles[\"gamma\"][\"simulation_info\"], \n",
    "                                                                    T_OBS)\n",
    "#Reweight to target spectrum (Crab Hegra)\n",
    "particles[\"gamma\"][\"events\"][\"weight\"] = calculate_event_weights(\n",
    "        particles[\"gamma\"][\"events\"][\"true_energy\"], \n",
    "        particles[\"gamma\"][\"target_spectrum\"], \n",
    "        particles[\"gamma\"][\"simulated_spectrum\"]\n",
    "        )\n",
    "for prefix in ('true', 'reco'):\n",
    "    k = f\"{prefix}_source_fov_offset\"\n",
    "    particles[\"gamma\"][\"events\"][k] = calculate_source_fov_offset(particles[\"gamma\"][\"events\"], prefix=prefix) \n",
    "particles[\"gamma\"][\"events\"][\"source_fov_offset\"] = calculate_source_fov_offset(particles[\"gamma\"][\"events\"])\n",
    "# calculate theta / distance between reco and assumed source position\n",
    "# we handle only ON observations here, so the assumed source position\n",
    "# is the pointing position\n",
    "particles[\"gamma\"][\"events\"][\"theta\"] = calculate_theta(\n",
    "        particles[\"gamma\"][\"events\"],\n",
    "        assumed_source_az=particles[\"gamma\"][\"events\"][\"true_az\"],\n",
    "        assumed_source_alt=particles[\"gamma\"][\"events\"][\"true_alt\"],\n",
    "        )"
   ]
  },
  {
   "cell_type": "code",
   "execution_count": 13,
   "id": "essential-duplicate",
   "metadata": {},
   "outputs": [],
   "source": [
    "# Manage MC protons:\n",
    "#Get simulated spectrum\n",
    "particles[\"proton\"][\"simulated_spectrum\"] = PowerLaw.from_simulation(particles[\"proton\"][\"simulation_info\"], \n",
    "                                                                    T_OBS)\n",
    "#Reweight to target spectrum:\n",
    "particles[\"proton\"][\"events\"][\"weight\"] = calculate_event_weights(\n",
    "        particles[\"proton\"][\"events\"][\"true_energy\"], \n",
    "        particles[\"proton\"][\"target_spectrum\"], \n",
    "        particles[\"proton\"][\"simulated_spectrum\"]\n",
    "        )\n",
    "for prefix in ('true', 'reco'):\n",
    "    k = f\"{prefix}_source_fov_offset\"\n",
    "    particles[\"proton\"][\"events\"][k] = calculate_source_fov_offset(particles[\"proton\"][\"events\"], prefix=prefix)        \n",
    "# calculate theta / distance between reco and assumed source position\n",
    "# we handle only ON observations here, so the assumed source position\n",
    "# is the pointing position\n",
    "particles[\"proton\"][\"events\"][\"theta\"] = calculate_theta(\n",
    "        particles[\"proton\"][\"events\"],\n",
    "        assumed_source_az=particles[\"proton\"][\"events\"][\"pointing_az\"],\n",
    "        assumed_source_alt=particles[\"proton\"][\"events\"][\"pointing_alt\"],\n",
    "        )"
   ]
  },
  {
   "cell_type": "code",
   "execution_count": 14,
   "id": "right-africa",
   "metadata": {},
   "outputs": [],
   "source": [
    "#Get events\n",
    "gammas = particles[\"gamma\"][\"events\"]\n",
    "protons = particles[\"proton\"][\"events\"]"
   ]
  },
  {
   "cell_type": "code",
   "execution_count": 15,
   "id": "typical-burning",
   "metadata": {},
   "outputs": [],
   "source": [
    "#Sensitivity energy bins\n",
    "sensitivity_bins = np.logspace(np.log10(EMIN),\n",
    "    np.log10(EMAX), N_EBINS + 1) * u.TeV"
   ]
  },
  {
   "cell_type": "code",
   "execution_count": 16,
   "id": "similar-present",
   "metadata": {},
   "outputs": [],
   "source": [
    "signal=gammas\n",
    "background=protons"
   ]
  },
  {
   "cell_type": "code",
   "execution_count": 17,
   "id": "variable-merchant",
   "metadata": {},
   "outputs": [
    {
     "data": {
      "text/plain": [
       "0.55"
      ]
     },
     "execution_count": 17,
     "metadata": {},
     "output_type": "execute_result"
    }
   ],
   "source": [
    "#Calculate an initial GH cut for calculating initial theta cuts, based on INITIAL_GH_CUT_EFFICIENCY\n",
    "INITIAL_GH_CUT = np.quantile(signal['gh_score'], (1 - INITIAL_GH_CUT_EFFICENCY))\n",
    "INITIAL_GH_CUT"
   ]
  },
  {
   "cell_type": "code",
   "execution_count": 18,
   "id": "appreciated-remainder",
   "metadata": {},
   "outputs": [],
   "source": [
    "# theta cut is 68 percent containmente of the gammas\n",
    "# for now with a fixed global, unoptimized score cut\n",
    "mask_theta_cuts = signal[\"gh_score\"] >= INITIAL_GH_CUT\n",
    "theta_cuts = calculate_percentile_cut(\n",
    "        signal[\"theta\"][mask_theta_cuts],\n",
    "        signal[\"reco_energy\"][mask_theta_cuts],\n",
    "        bins=sensitivity_bins,\n",
    "        fill_value=np.nan * u.deg,\n",
    "        percentile=68,\n",
    ")"
   ]
  },
  {
   "cell_type": "code",
   "execution_count": 19,
   "id": "strange-cambodia",
   "metadata": {},
   "outputs": [],
   "source": [
    "# evaluate the initial theta cut\n",
    "signal[\"selected_theta\"] = evaluate_binned_cut(\n",
    "    signal[\"theta\"], signal[\"reco_energy\"], theta_cuts, operator.le\n",
    "    )"
   ]
  },
  {
   "cell_type": "code",
   "execution_count": 20,
   "id": "valuable-reverse",
   "metadata": {},
   "outputs": [
    {
     "name": "stderr",
     "output_type": "stream",
     "text": [
      "100%|██████████| 80/80 [00:20<00:00,  3.98it/s]\n"
     ]
    }
   ],
   "source": [
    "log.info(\"Optimizing G/H separation cut for best sensitivity\")\n",
    "gh_cut_efficiencies = np.arange(\n",
    "        GH_CUT_EFFICIENCY_STEP,\n",
    "        MAX_GH_CUT_EFFICIENCY + GH_CUT_EFFICIENCY_STEP / 2,\n",
    "        GH_CUT_EFFICIENCY_STEP\n",
    ")\n",
    "sensitivity_step_2, gh_cuts = optimize_gh_cut(\n",
    "    signal[signal[\"selected_theta\"]],\n",
    "    background,\n",
    "    reco_energy_bins=sensitivity_bins,\n",
    "    gh_cut_efficiencies=gh_cut_efficiencies,\n",
    "    theta_cuts=theta_cuts,\n",
    "    op=operator.ge,\n",
    "    alpha=ALPHA,\n",
    "    background_radius=MAX_BG_RADIUS,\n",
    ")"
   ]
  },
  {
   "cell_type": "code",
   "execution_count": 22,
   "id": "secure-scratch",
   "metadata": {},
   "outputs": [],
   "source": [
    "#Evaluate gh cut\n",
    "for tab in (gammas, protons):\n",
    "    tab[\"selected_gh\"] = evaluate_binned_cut(\n",
    "    tab[\"gh_score\"], tab[\"reco_energy\"], gh_cuts, operator.ge\n",
    "    )"
   ]
  },
  {
   "cell_type": "code",
   "execution_count": 23,
   "id": "neutral-bosnia",
   "metadata": {},
   "outputs": [],
   "source": [
    "#Evaluate gh cut:\n",
    "for tab in (gammas, protons):\n",
    "    tab[\"selected_gh\"] = evaluate_binned_cut(\n",
    "    tab[\"gh_score\"], tab[\"reco_energy\"], gh_cuts, operator.ge\n",
    "    )\n",
    "\n",
    "theta_cuts_opt = calculate_percentile_cut(\n",
    "    gammas[gammas[\"selected_gh\"]][\"theta\"],\n",
    "    gammas[gammas[\"selected_gh\"]][\"reco_energy\"],\n",
    "    sensitivity_bins,\n",
    "    percentile=68,\n",
    "    fill_value=0.32 * u.deg,\n",
    "    )"
   ]
  },
  {
   "cell_type": "code",
   "execution_count": 24,
   "id": "alert-paragraph",
   "metadata": {},
   "outputs": [],
   "source": [
    "gammas[\"selected_theta\"] = evaluate_binned_cut(\n",
    "        gammas[\"theta\"], gammas[\"reco_energy\"], theta_cuts_opt, operator.le\n",
    "    )\n",
    "gammas[\"selected\"] = gammas[\"selected_theta\"] & gammas[\"selected_gh\"]\n",
    "\n",
    "protons[\"selected\"] =  protons[\"selected_gh\"]"
   ]
  },
  {
   "cell_type": "code",
   "execution_count": 25,
   "id": "least-secretary",
   "metadata": {},
   "outputs": [],
   "source": [
    "gamma_hist = create_histogram_table(\n",
    "    gammas[gammas[\"selected\"]], bins=sensitivity_bins\n",
    "    )    \n",
    "proton_hist = estimate_background(\n",
    "    protons[protons[\"selected\"]],\n",
    "    reco_energy_bins=sensitivity_bins,\n",
    "    theta_cuts=theta_cuts_opt,\n",
    "    alpha=ALPHA,\n",
    "    background_radius=MAX_BG_RADIUS,\n",
    "    )"
   ]
  },
  {
   "cell_type": "code",
   "execution_count": 26,
   "id": "tight-discussion",
   "metadata": {},
   "outputs": [
    {
     "name": "stderr",
     "output_type": "stream",
     "text": [
      "/home/david.miranda/.conda/envs/sipm_lstchain.0.6.3/lib/python3.7/site-packages/pyirf/sensitivity.py:253: RuntimeWarning: invalid value encountered in multiply\n",
      "  s[\"n_signal\"] = signal_hist[\"n\"] * rel_sens\n",
      "/home/david.miranda/.conda/envs/sipm_lstchain.0.6.3/lib/python3.7/site-packages/astropy/units/quantity.py:477: RuntimeWarning: invalid value encountered in multiply\n",
      "  result = super().__array_ufunc__(function, method, *arrays, **kwargs)\n"
     ]
    },
    {
     "data": {
      "text/html": [
       "<i>QTable length=20</i>\n",
       "<table id=\"table140540938571152\" class=\"table-striped table-bordered table-condensed\">\n",
       "<thead><tr><th>reco_energy_low</th><th>reco_energy_high</th><th>reco_energy_center</th><th>n_signal</th><th>n_signal_weighted</th><th>n_background</th><th>n_background_weighted</th><th>significance</th><th>relative_sensitivity</th></tr></thead>\n",
       "<thead><tr><th>TeV</th><th>TeV</th><th>TeV</th><th></th><th></th><th></th><th></th><th></th><th></th></tr></thead>\n",
       "<thead><tr><th>float64</th><th>float64</th><th>float64</th><th>float64</th><th>float64</th><th>float64</th><th>float64</th><th>float64</th><th>float64</th></tr></thead>\n",
       "<tr><td>0.049999999999999996</td><td>0.0706268772311377</td><td>0.06031343861556884</td><td>383.3913673834442</td><td>836.8658932792929</td><td>69.04898195702769</td><td>83686.58932792935</td><td>5.848781416310029</td><td>0.6932936119049624</td></tr>\n",
       "<tr><td>0.0706268772311377</td><td>0.09976311574844397</td><td>0.08519499648979084</td><td>469.0330574711689</td><td>842.1542948379412</td><td>105.7514525237114</td><td>84215.42948379411</td><td>5.867232397374144</td><td>0.2557432156331346</td></tr>\n",
       "<tr><td>0.09976311574844397</td><td>0.14091914656322266</td><td>0.12034113115583331</td><td>507.6686441305956</td><td>765.9613792392677</td><td>85.59765317300538</td><td>76596.13792392676</td><td>5.595525677480721</td><td>0.11633103669353703</td></tr>\n",
       "<tr><td>0.14091914656322266</td><td>0.1990535852767486</td><td>0.16998636591998562</td><td>453.8498579250877</td><td>558.5205950465339</td><td>76.18299498016572</td><td>50911.99734766878</td><td>4.999999999997954</td><td>0.05899517196478457</td></tr>\n",
       "<tr><td>0.1990535852767486</td><td>0.2811706625951745</td><td>0.24011212393596154</td><td>383.07221120740354</td><td>383.9293900993324</td><td>37.82033055840686</td><td>23827.54824521375</td><td>5.0000000000010685</td><td>0.03294111369914898</td></tr>\n",
       "<tr><td>0.2811706625951745</td><td>0.39716411736214063</td><td>0.3391673899786576</td><td>212.45300261969035</td><td>171.29296664397825</td><td>8.462126563663256</td><td>4564.1850040832305</td><td>5.000000000000597</td><td>0.025237942815358797</td></tr>\n",
       "<tr><td>0.39716411736214063</td><td>0.5610092271509817</td><td>0.47908667225656115</td><td>83.76594862443146</td><td>54.462388071600465</td><td>0.8886718613724178</td><td>395.236835206074</td><td>4.999999999999993</td><td>0.016844148124759997</td></tr>\n",
       "<tr><td>0.5610092271509817</td><td>0.7924465962305566</td><td>0.6767279116907692</td><td>19.336624841087605</td><td>10.0</td><td>0.0</td><td>0.0</td><td>5.986250026900071</td><td>0.01782177404708535</td></tr>\n",
       "<tr><td>0.7924465962305566</td><td>1.1193605692841693</td><td>0.955903582757363</td><td>23.688339755864796</td><td>10.0</td><td>0.0</td><td>0.0</td><td>5.986250026900071</td><td>0.022517433228008362</td></tr>\n",
       "<tr><td>1.1193605692841693</td><td>1.5811388300841895</td><td>1.3502496996841793</td><td>57.00609914197827</td><td>19.876420618247646</td><td>0.10042037611846635</td><td>33.42441787800087</td><td>5.000000000000002</td><td>0.02214689166355022</td></tr>\n",
       "<tr><td>1.5811388300841895</td><td>2.233417960754815</td><td>1.9072783954195023</td><td>47.26457855416587</td><td>13.3877547395048</td><td>0.047617874434052396</td><td>9.744476203921211</td><td>5.0</td><td>0.03559079710404057</td></tr>\n",
       "<tr><td>2.233417960754815</td><td>3.1547867224009645</td><td>2.6941023415778895</td><td>57.263725825505034</td><td>13.324077405807857</td><td>0.06619235815908496</td><td>9.580618019879843</td><td>5.000000000000001</td><td>0.050011987620528414</td></tr>\n",
       "<tr><td>3.1547867224009645</td><td>4.456254690668727</td><td>3.8055207065348458</td><td>136.29373321235317</td><td>26.246512915314373</td><td>0.5238183317355606</td><td>70.19755973148168</td><td>5.000000000020493</td><td>0.0710233106890845</td></tr>\n",
       "<tr><td>4.456254690668727</td><td>6.294627058970836</td><td>5.375440874819782</td><td>65.42404640563596</td><td>10.0</td><td>0.0</td><td>0.0</td><td>5.986250026900071</td><td>0.06937862821382393</td></tr>\n",
       "<tr><td>6.294627058970836</td><td>8.891397050194612</td><td>7.593012054582724</td><td>172.45008576843315</td><td>20.65365951014386</td><td>0.3804822665638169</td><td>37.191712145988696</td><td>4.999999999999997</td><td>0.15592231986295946</td></tr>\n",
       "<tr><td>8.891397050194612</td><td>12.559432157547896</td><td>10.725414603871254</td><td>106.40342162995599</td><td>10.0</td><td>0.0</td><td>0.0</td><td>5.986250026900071</td><td>0.19595473596676977</td></tr>\n",
       "<tr><td>12.559432157547896</td><td>17.740669461678763</td><td>15.15005080961333</td><td>139.12102680958373</td><td>10.0</td><td>0.0</td><td>0.0</td><td>5.986250026900071</td><td>0.28219275214925704</td></tr>\n",
       "<tr><td>17.740669461678763</td><td>25.059361681363594</td><td>21.40001557152118</td><td>247.56466840158035</td><td>13.746411344214351</td><td>0.24105221327505996</td><td>10.692186545052033</td><td>4.999999999999999</td><td>0.9377449560665923</td></tr>\n",
       "<tr><td>25.059361681363594</td><td>35.3972892192069</td><td>30.228325450285247</td><td>nan</td><td>nan</td><td>0.0</td><td>0.0</td><td>nan</td><td>nan</td></tr>\n",
       "<tr><td>35.3972892192069</td><td>49.99999999999999</td><td>42.69864460960345</td><td>nan</td><td>nan</td><td>0.0</td><td>0.0</td><td>nan</td><td>inf</td></tr>\n",
       "</table>"
      ],
      "text/plain": [
       "<QTable length=20>\n",
       "  reco_energy_low      reco_energy_high  ... relative_sensitivity\n",
       "        TeV                  TeV         ...                     \n",
       "      float64              float64       ...       float64       \n",
       "-------------------- ------------------- ... --------------------\n",
       "0.049999999999999996  0.0706268772311377 ...   0.6932936119049624\n",
       "  0.0706268772311377 0.09976311574844397 ...   0.2557432156331346\n",
       " 0.09976311574844397 0.14091914656322266 ...  0.11633103669353703\n",
       " 0.14091914656322266  0.1990535852767486 ...  0.05899517196478457\n",
       "  0.1990535852767486  0.2811706625951745 ...  0.03294111369914898\n",
       "  0.2811706625951745 0.39716411736214063 ... 0.025237942815358797\n",
       " 0.39716411736214063  0.5610092271509817 ... 0.016844148124759997\n",
       "  0.5610092271509817  0.7924465962305566 ...  0.01782177404708535\n",
       "  0.7924465962305566  1.1193605692841693 ... 0.022517433228008362\n",
       "  1.1193605692841693  1.5811388300841895 ...  0.02214689166355022\n",
       "  1.5811388300841895   2.233417960754815 ...  0.03559079710404057\n",
       "   2.233417960754815  3.1547867224009645 ... 0.050011987620528414\n",
       "  3.1547867224009645   4.456254690668727 ...   0.0710233106890845\n",
       "   4.456254690668727   6.294627058970836 ...  0.06937862821382393\n",
       "   6.294627058970836   8.891397050194612 ...  0.15592231986295946\n",
       "   8.891397050194612  12.559432157547896 ...  0.19595473596676977\n",
       "  12.559432157547896  17.740669461678763 ...  0.28219275214925704\n",
       "  17.740669461678763  25.059361681363594 ...   0.9377449560665923\n",
       "  25.059361681363594    35.3972892192069 ...                  nan\n",
       "    35.3972892192069   49.99999999999999 ...                  inf"
      ]
     },
     "execution_count": 26,
     "metadata": {},
     "output_type": "execute_result"
    }
   ],
   "source": [
    "sensitivity_mc = calculate_sensitivity(\n",
    "    gamma_hist, proton_hist, alpha=ALPHA\n",
    ")\n",
    "sensitivity_mc"
   ]
  },
  {
   "cell_type": "code",
   "execution_count": 28,
   "id": "chief-carrier",
   "metadata": {},
   "outputs": [],
   "source": [
    "# scale relative sensitivity by Crab flux to get the flux sensitivity\n",
    "spectrum = particles['gamma']['target_spectrum']"
   ]
  },
  {
   "cell_type": "code",
   "execution_count": 31,
   "id": "aggressive-resolution",
   "metadata": {},
   "outputs": [],
   "source": [
    "sensitivity_mc[\"flux_sensitivity\"] = sensitivity_mc[\"relative_sensitivity\"] * spectrum(sensitivity_mc[\"reco_energy_center\"])"
   ]
  },
  {
   "cell_type": "code",
   "execution_count": 34,
   "id": "worse-processor",
   "metadata": {},
   "outputs": [
    {
     "data": {
      "image/png": "[encoded data removed]",
      "text/plain": [
       "<Figure size 864x576 with 1 Axes>"
      ]
     },
     "metadata": {
      "needs_background": "light"
     },
     "output_type": "display_data"
    }
   ],
   "source": [
    "plt.figure(figsize=(12,8))\n",
    "ax=plt.axes()\n",
    "unit = u.Unit('TeV cm-2 s-1')\n",
    "\n",
    "e = sensitivity_mc['reco_energy_center']\n",
    "\n",
    "s_mc = (e**2 * sensitivity_mc['flux_sensitivity'])\n",
    "\n",
    "plt.errorbar(\n",
    "    e.to_value(u.GeV),\n",
    "    s_mc.to_value(unit),\n",
    "    xerr=(sensitivity_mc['reco_energy_high'] - sensitivity_mc['reco_energy_low']).to_value(u.GeV) / 2,\n",
    "    label='MC gammas/protons',\n",
    "    )\n",
    "\n",
    "#Plot magic sensitivity\n",
    "s = np.loadtxt('/home/david.miranda/software/cta-lstchain_v.0.6.3/lstchain/spectra/data/magic_sensitivity.txt', skiprows = 1)\n",
    "ax.loglog(s[:,0], s[:,3] * np.power(s[:,0]/ 1e3, 2),\n",
    "              color = 'black', label = 'MAGIC (Aleksic et al. 2014)')\n",
    "\n",
    "#Plot Crab SED\n",
    "plot_utils.plot_Crab_SED(ax, 100, 5*u.GeV, 1e4*u.GeV, label=\"100% Crab\") #Energy in GeV\n",
    "plot_utils.plot_Crab_SED(ax, 10, 5*u.GeV, 1e4*u.GeV, linestyle='--', label=\"10% Crab\") #Energy in GeV\n",
    "plot_utils.plot_Crab_SED(ax, 1, 5*u.GeV, 1e4*u.GeV, linestyle=':', label=\"1% Crab\") #Energy in GeV\n",
    "\n",
    "\n",
    "# Style settings\n",
    "plt.title('Minimal Flux Needed for 5σ Detection in 50 hours')\n",
    "plt.xscale(\"log\")\n",
    "plt.yscale(\"log\")\n",
    "plt.xlabel(\"Reconstructed energy [GeV]\")\n",
    "plt.ylabel(rf\"$(E^2 \\cdot \\mathrm{{Flux Sensitivity}}) /$ ({unit.to_string('latex')})\")\n",
    "plt.grid(which=\"both\")\n",
    "plt.legend()\n",
    "plt.show()"
   ]
  },
  {
   "cell_type": "code",
   "execution_count": 37,
   "id": "dying-remove",
   "metadata": {},
   "outputs": [
    {
     "data": {
      "text/html": [
       "<i>QTable length=20</i>\n",
       "<table id=\"table140540938570256\" class=\"table-striped table-bordered table-condensed\">\n",
       "<thead><tr><th>reco_energy_low</th><th>reco_energy_high</th><th>reco_energy_center</th><th>n</th><th>n_weighted</th></tr></thead>\n",
       "<thead><tr><th>TeV</th><th>TeV</th><th>TeV</th><th></th><th></th></tr></thead>\n",
       "<thead><tr><th>float64</th><th>float64</th><th>float64</th><th>float64</th><th>float64</th></tr></thead>\n",
       "<tr><td>0.049999999999999996</td><td>0.0706268772311377</td><td>0.06031343861556884</td><td>69.04898195702769</td><td>83686.58932792935</td></tr>\n",
       "<tr><td>0.0706268772311377</td><td>0.09976311574844397</td><td>0.08519499648979084</td><td>105.7514525237114</td><td>84215.42948379411</td></tr>\n",
       "<tr><td>0.09976311574844397</td><td>0.14091914656322266</td><td>0.12034113115583331</td><td>85.59765317300538</td><td>76596.13792392676</td></tr>\n",
       "<tr><td>0.14091914656322266</td><td>0.1990535852767486</td><td>0.16998636591998562</td><td>76.18299498016572</td><td>50911.99734766878</td></tr>\n",
       "<tr><td>0.1990535852767486</td><td>0.2811706625951745</td><td>0.24011212393596154</td><td>37.82033055840686</td><td>23827.54824521375</td></tr>\n",
       "<tr><td>0.2811706625951745</td><td>0.39716411736214063</td><td>0.3391673899786576</td><td>8.462126563663256</td><td>4564.1850040832305</td></tr>\n",
       "<tr><td>0.39716411736214063</td><td>0.5610092271509817</td><td>0.47908667225656115</td><td>0.8886718613724178</td><td>395.236835206074</td></tr>\n",
       "<tr><td>0.5610092271509817</td><td>0.7924465962305566</td><td>0.6767279116907692</td><td>0.0</td><td>0.0</td></tr>\n",
       "<tr><td>0.7924465962305566</td><td>1.1193605692841693</td><td>0.955903582757363</td><td>0.0</td><td>0.0</td></tr>\n",
       "<tr><td>1.1193605692841693</td><td>1.5811388300841895</td><td>1.3502496996841793</td><td>0.10042037611846635</td><td>33.42441787800087</td></tr>\n",
       "<tr><td>1.5811388300841895</td><td>2.233417960754815</td><td>1.9072783954195023</td><td>0.047617874434052396</td><td>9.744476203921211</td></tr>\n",
       "<tr><td>2.233417960754815</td><td>3.1547867224009645</td><td>2.6941023415778895</td><td>0.06619235815908496</td><td>9.580618019879843</td></tr>\n",
       "<tr><td>3.1547867224009645</td><td>4.456254690668727</td><td>3.8055207065348458</td><td>0.5238183317355606</td><td>70.19755973148168</td></tr>\n",
       "<tr><td>4.456254690668727</td><td>6.294627058970836</td><td>5.375440874819782</td><td>0.0</td><td>0.0</td></tr>\n",
       "<tr><td>6.294627058970836</td><td>8.891397050194612</td><td>7.593012054582724</td><td>0.3804822665638169</td><td>37.191712145988696</td></tr>\n",
       "<tr><td>8.891397050194612</td><td>12.559432157547896</td><td>10.725414603871254</td><td>0.0</td><td>0.0</td></tr>\n",
       "<tr><td>12.559432157547896</td><td>17.740669461678763</td><td>15.15005080961333</td><td>0.0</td><td>0.0</td></tr>\n",
       "<tr><td>17.740669461678763</td><td>25.059361681363594</td><td>21.40001557152118</td><td>0.24105221327505996</td><td>10.692186545052033</td></tr>\n",
       "<tr><td>25.059361681363594</td><td>35.3972892192069</td><td>30.228325450285247</td><td>0.0</td><td>0.0</td></tr>\n",
       "<tr><td>35.3972892192069</td><td>49.99999999999999</td><td>42.69864460960345</td><td>0.0</td><td>0.0</td></tr>\n",
       "</table>"
      ],
      "text/plain": [
       "<QTable length=20>\n",
       "  reco_energy_low      reco_energy_high  ...     n_weighted    \n",
       "        TeV                  TeV         ...                   \n",
       "      float64              float64       ...      float64      \n",
       "-------------------- ------------------- ... ------------------\n",
       "0.049999999999999996  0.0706268772311377 ...  83686.58932792935\n",
       "  0.0706268772311377 0.09976311574844397 ...  84215.42948379411\n",
       " 0.09976311574844397 0.14091914656322266 ...  76596.13792392676\n",
       " 0.14091914656322266  0.1990535852767486 ...  50911.99734766878\n",
       "  0.1990535852767486  0.2811706625951745 ...  23827.54824521375\n",
       "  0.2811706625951745 0.39716411736214063 ... 4564.1850040832305\n",
       " 0.39716411736214063  0.5610092271509817 ...   395.236835206074\n",
       "  0.5610092271509817  0.7924465962305566 ...                0.0\n",
       "  0.7924465962305566  1.1193605692841693 ...                0.0\n",
       "  1.1193605692841693  1.5811388300841895 ...  33.42441787800087\n",
       "  1.5811388300841895   2.233417960754815 ...  9.744476203921211\n",
       "   2.233417960754815  3.1547867224009645 ...  9.580618019879843\n",
       "  3.1547867224009645   4.456254690668727 ...  70.19755973148168\n",
       "   4.456254690668727   6.294627058970836 ...                0.0\n",
       "   6.294627058970836   8.891397050194612 ... 37.191712145988696\n",
       "   8.891397050194612  12.559432157547896 ...                0.0\n",
       "  12.559432157547896  17.740669461678763 ...                0.0\n",
       "  17.740669461678763  25.059361681363594 ... 10.692186545052033\n",
       "  25.059361681363594    35.3972892192069 ...                0.0\n",
       "    35.3972892192069   49.99999999999999 ...                0.0"
      ]
     },
     "execution_count": 37,
     "metadata": {},
     "output_type": "execute_result"
    }
   ],
   "source": [
    "proton_hist"
   ]
  },
  {
   "cell_type": "code",
   "execution_count": 38,
   "id": "focused-spray",
   "metadata": {},
   "outputs": [
    {
     "data": {
      "text/html": [
       "<i>QTable length=20</i>\n",
       "<table id=\"table140540938094288\" class=\"table-striped table-bordered table-condensed\">\n",
       "<thead><tr><th>reco_energy_low</th><th>reco_energy_high</th><th>reco_energy_center</th><th>n</th><th>n_weighted</th></tr></thead>\n",
       "<thead><tr><th>TeV</th><th>TeV</th><th>TeV</th><th></th><th></th></tr></thead>\n",
       "<thead><tr><th>float64</th><th>float64</th><th>float64</th><th>int64</th><th>float64</th></tr></thead>\n",
       "<tr><td>0.049999999999999996</td><td>0.0706268772311377</td><td>0.06031343861556884</td><td>553</td><td>1207.0872699660927</td></tr>\n",
       "<tr><td>0.0706268772311377</td><td>0.09976311574844397</td><td>0.08519499648979084</td><td>1834</td><td>3292.9682719170046</td></tr>\n",
       "<tr><td>0.09976311574844397</td><td>0.14091914656322266</td><td>0.12034113115583331</td><td>4364</td><td>6584.325224033888</td></tr>\n",
       "<tr><td>0.14091914656322266</td><td>0.1990535852767486</td><td>0.16998636591998562</td><td>7693</td><td>9467.225477025922</td></tr>\n",
       "<tr><td>0.1990535852767486</td><td>0.2811706625951745</td><td>0.24011212393596154</td><td>11629</td><td>11655.021551662081</td></tr>\n",
       "<tr><td>0.2811706625951745</td><td>0.39716411736214063</td><td>0.3391673899786576</td><td>8418</td><td>6787.12080050107</td></tr>\n",
       "<tr><td>0.39716411736214063</td><td>0.5610092271509817</td><td>0.47908667225656115</td><td>4973</td><td>3233.312107457881</td></tr>\n",
       "<tr><td>0.5610092271509817</td><td>0.7924465962305566</td><td>0.6767279116907692</td><td>1085</td><td>561.1113671164203</td></tr>\n",
       "<tr><td>0.7924465962305566</td><td>1.1193605692841693</td><td>0.955903582757363</td><td>1052</td><td>444.1003509921138</td></tr>\n",
       "<tr><td>1.1193605692841693</td><td>1.5811388300841895</td><td>1.3502496996841793</td><td>2574</td><td>897.4812772918667</td></tr>\n",
       "<tr><td>1.5811388300841895</td><td>2.233417960754815</td><td>1.9072783954195023</td><td>1328</td><td>376.15776630034816</td></tr>\n",
       "<tr><td>2.233417960754815</td><td>3.1547867224009645</td><td>2.6941023415778895</td><td>1145</td><td>266.4176738366368</td></tr>\n",
       "<tr><td>3.1547867224009645</td><td>4.456254690668727</td><td>3.8055207065348458</td><td>1919</td><td>369.5478661958259</td></tr>\n",
       "<tr><td>4.456254690668727</td><td>6.294627058970836</td><td>5.375440874819782</td><td>943</td><td>144.13660600466392</td></tr>\n",
       "<tr><td>6.294627058970836</td><td>8.891397050194612</td><td>7.593012054582724</td><td>1106</td><td>132.46121227734693</td></tr>\n",
       "<tr><td>8.891397050194612</td><td>12.559432157547896</td><td>10.725414603871254</td><td>543</td><td>51.03219348419225</td></tr>\n",
       "<tr><td>12.559432157547896</td><td>17.740669461678763</td><td>15.15005080961333</td><td>493</td><td>35.43677122759982</td></tr>\n",
       "<tr><td>17.740669461678763</td><td>25.059361681363594</td><td>21.40001557152118</td><td>264</td><td>14.659008566544799</td></tr>\n",
       "<tr><td>25.059361681363594</td><td>35.3972892192069</td><td>30.228325450285247</td><td>8</td><td>0.3688311316000181</td></tr>\n",
       "<tr><td>35.3972892192069</td><td>49.99999999999999</td><td>42.69864460960345</td><td>0</td><td>0.0</td></tr>\n",
       "</table>"
      ],
      "text/plain": [
       "<QTable length=20>\n",
       "  reco_energy_low      reco_energy_high  ...   n       n_weighted    \n",
       "        TeV                  TeV         ...                         \n",
       "      float64              float64       ... int64      float64      \n",
       "-------------------- ------------------- ... ----- ------------------\n",
       "0.049999999999999996  0.0706268772311377 ...   553 1207.0872699660927\n",
       "  0.0706268772311377 0.09976311574844397 ...  1834 3292.9682719170046\n",
       " 0.09976311574844397 0.14091914656322266 ...  4364  6584.325224033888\n",
       " 0.14091914656322266  0.1990535852767486 ...  7693  9467.225477025922\n",
       "  0.1990535852767486  0.2811706625951745 ... 11629 11655.021551662081\n",
       "  0.2811706625951745 0.39716411736214063 ...  8418   6787.12080050107\n",
       " 0.39716411736214063  0.5610092271509817 ...  4973  3233.312107457881\n",
       "  0.5610092271509817  0.7924465962305566 ...  1085  561.1113671164203\n",
       "  0.7924465962305566  1.1193605692841693 ...  1052  444.1003509921138\n",
       "  1.1193605692841693  1.5811388300841895 ...  2574  897.4812772918667\n",
       "  1.5811388300841895   2.233417960754815 ...  1328 376.15776630034816\n",
       "   2.233417960754815  3.1547867224009645 ...  1145  266.4176738366368\n",
       "  3.1547867224009645   4.456254690668727 ...  1919  369.5478661958259\n",
       "   4.456254690668727   6.294627058970836 ...   943 144.13660600466392\n",
       "   6.294627058970836   8.891397050194612 ...  1106 132.46121227734693\n",
       "   8.891397050194612  12.559432157547896 ...   543  51.03219348419225\n",
       "  12.559432157547896  17.740669461678763 ...   493  35.43677122759982\n",
       "  17.740669461678763  25.059361681363594 ...   264 14.659008566544799\n",
       "  25.059361681363594    35.3972892192069 ...     8 0.3688311316000181\n",
       "    35.3972892192069   49.99999999999999 ...     0                0.0"
      ]
     },
     "execution_count": 38,
     "metadata": {},
     "output_type": "execute_result"
    }
   ],
   "source": [
    "gamma_hist"
   ]
  },
  {
   "cell_type": "code",
   "execution_count": 39,
   "id": "spiritual-characterization",
   "metadata": {},
   "outputs": [
    {
     "data": {
      "text/html": [
       "<i>QTable length=314360</i>\n",
       "<table id=\"table140540938568912\" class=\"table-striped table-bordered table-condensed\">\n",
       "<thead><tr><th>intensity</th><th>log_intensity</th><th>x</th><th>y</th><th>r</th><th>phi</th><th>length</th><th>width</th><th>psi</th><th>skewness</th><th>kurtosis</th><th>time_gradient</th><th>intercept</th><th>leakage_intensity_width_1</th><th>leakage_intensity_width_2</th><th>leakage_pixels_width_1</th><th>leakage_pixels_width_2</th><th>n_pixels</th><th>concentration_cog</th><th>concentration_core</th><th>concentration_pixel</th><th>n_islands</th><th>obs_id</th><th>event_id</th><th>calibration_id</th><th>true_energy</th><th>log_mc_energy</th><th>true_alt</th><th>true_az</th><th>mc_core_x</th><th>mc_core_y</th><th>mc_h_first_int</th><th>mc_type</th><th>pointing_az</th><th>pointing_alt</th><th>mc_x_max</th><th>mc_core_distance</th><th>wl</th><th>tel_id</th><th>tel_pos_x</th><th>tel_pos_y</th><th>tel_pos_z</th><th>trigger_type</th><th>disp_dx</th><th>disp_dy</th><th>disp_norm</th><th>disp_angle</th><th>disp_sign</th><th>src_x</th><th>src_y</th><th>log_reco_energy</th><th>reco_energy</th><th>reco_disp_dx</th><th>reco_disp_dy</th><th>reco_src_x</th><th>reco_src_y</th><th>reco_alt</th><th>reco_az</th><th>reco_type</th><th>gh_score</th><th>good_events</th><th>weight</th><th>true_source_fov_offset</th><th>reco_source_fov_offset</th><th>source_fov_offset</th><th>theta</th><th>selected_theta</th><th>selected_gh</th><th>selected</th></tr></thead>\n",
       "<thead><tr><th></th><th></th><th></th><th></th><th></th><th></th><th></th><th></th><th></th><th></th><th></th><th></th><th></th><th></th><th></th><th></th><th></th><th></th><th></th><th></th><th></th><th></th><th></th><th></th><th></th><th>TeV</th><th></th><th>rad</th><th>rad</th><th></th><th></th><th></th><th></th><th>rad</th><th>rad</th><th></th><th></th><th></th><th></th><th></th><th></th><th></th><th></th><th></th><th></th><th></th><th></th><th></th><th></th><th></th><th></th><th>TeV</th><th></th><th></th><th></th><th></th><th>rad</th><th>rad</th><th></th><th></th><th></th><th></th><th>deg</th><th>deg</th><th>deg</th><th>deg</th><th></th><th></th><th></th></tr></thead>\n",
       "<thead><tr><th>float64</th><th>float64</th><th>float64</th><th>float64</th><th>float64</th><th>float64</th><th>float64</th><th>float64</th><th>float64</th><th>float64</th><th>float64</th><th>float64</th><th>float64</th><th>float32</th><th>float32</th><th>float64</th><th>float64</th><th>int64</th><th>float64</th><th>float64</th><th>float64</th><th>int64</th><th>int32</th><th>int64</th><th>int64</th><th>float64</th><th>float64</th><th>float64</th><th>float64</th><th>float64</th><th>float64</th><th>float64</th><th>int64</th><th>float32</th><th>float32</th><th>float64</th><th>float64</th><th>float64</th><th>int64</th><th>float32</th><th>float32</th><th>float32</th><th>int64</th><th>float32</th><th>float32</th><th>float32</th><th>float32</th><th>float32</th><th>float32</th><th>float32</th><th>float64</th><th>float64</th><th>float64</th><th>float64</th><th>float64</th><th>float64</th><th>float64</th><th>float64</th><th>int64</th><th>float64</th><th>bool</th><th>float64</th><th>float64</th><th>float64</th><th>float64</th><th>float64</th><th>bool</th><th>bool</th><th>bool</th></tr></thead>\n",
       "<tr><td>842.8172659873962</td><td>2.925733424000897</td><td>0.2326798870284479</td><td>-0.15108514757780694</td><td>0.2774286424401399</td><td>-0.5759014038011381</td><td>0.15726747381159195</td><td>0.06841951182095933</td><td>-0.2771675147243109</td><td>-0.11420503035724984</td><td>1.811280594886691</td><td>-3.027869131572228</td><td>26.26420440089801</td><td>0.0</td><td>0.0</td><td>0.0</td><td>0.0</td><td>59</td><td>0.04140110953399817</td><td>0.2609262661151201</td><td>0.053366593873074124</td><td>2</td><td>1000</td><td>209</td><td>-1</td><td>0.1353185921907425</td><td>-0.8686425291147142</td><td>1.2217304706573486</td><td>3.1415927410125732</td><td>40.302940368652344</td><td>-122.52853393554688</td><td>26365.3125</td><td>0</td><td>3.1415927410125732</td><td>1.2217304706573486</td><td>198.57142639160156</td><td>131.67069582218534</td><td>0.4350518906593909</td><td>1</td><td>-70.93</td><td>-52.07</td><td>43.0</td><td>0</td><td>-0.23267867</td><td>0.15108515</td><td>0.2774276</td><td>-0.57590383</td><td>-1.0</td><td>1.223919e-06</td><td>0.0</td><td>-0.7440953976673743</td><td>0.18026217312301815</td><td>0.14412596050793586</td><td>-0.04634141150705531</td><td>0.3768058475363838</td><td>-0.19742655908486226</td><td>1.235116905169088</td><td>3.1201884908387507</td><td>101</td><td>0.2041666666666667</td><td>True</td><td>1.4156754662854307</td><td>3.3059086758748746e-07</td><td>0.8704682658922785</td><td>3.3059086758748746e-07</td><td>0.8704679730567799</td><td>False</td><td>False</td><td>False</td></tr>\n",
       "<tr><td>224.07349491119385</td><td>2.3503904879737565</td><td>0.0812485893128274</td><td>0.23425299835017724</td><td>0.24794313965377754</td><td>1.2369383566968488</td><td>0.0731089506296587</td><td>0.029758443213293843</td><td>1.3819452669635244</td><td>-0.6878023749954785</td><td>2.878056885135552</td><td>-2.97343681704336</td><td>25.34712926085553</td><td>0.0</td><td>0.0</td><td>0.0</td><td>0.0</td><td>16</td><td>0.2758479364377193</td><td>0.38041599836130774</td><td>0.14893265496383912</td><td>1</td><td>1000</td><td>2402</td><td>-1</td><td>0.04648441821336746</td><td>-1.3326926001854122</td><td>1.2217304706573486</td><td>3.1415927410125732</td><td>-15.65365219116211</td><td>51.10258865356445</td><td>20238.9296875</td><td>0</td><td>3.1415927410125732</td><td>1.2217304706573486</td><td>233.07691955566406</td><td>117.04724536411649</td><td>0.40704240666834973</td><td>1</td><td>-70.93</td><td>-52.07</td><td>43.0</td><td>0</td><td>-0.08124737</td><td>-0.234253</td><td>0.24794275</td><td>1.236943</td><td>-1.0</td><td>1.223919e-06</td><td>0.0</td><td>-1.2436239055904659</td><td>0.05706582423414837</td><td>0.002592218837876772</td><td>0.036217817325342905</td><td>0.08384080815070417</td><td>0.2704708156755201</td><td>1.2245955577972045</td><td>3.1700632112876566</td><td>101</td><td>0.24666666666666667</td><td>True</td><td>2.7458369812236816</td><td>3.3059086758748746e-07</td><td>0.5794382659278104</td><td>3.3059086758748746e-07</td><td>0.5794381680441709</td><td>True</td><td>False</td><td>False</td></tr>\n",
       "<tr><td>643.6946549415588</td><td>2.80867990288534</td><td>0.10167894913042928</td><td>-0.35493069513864695</td><td>0.3692078101122342</td><td>-1.2917930432176825</td><td>0.2000478140195511</td><td>0.039982768056837786</td><td>-1.325986728641997</td><td>0.1767459937161866</td><td>1.7710401074380546</td><td>3.5904674250511865</td><td>26.37613646781422</td><td>0.0</td><td>0.0</td><td>0.0</td><td>0.0</td><td>49</td><td>0.07177985276318201</td><td>0.39492707632192037</td><td>0.058799711583794455</td><td>1</td><td>1000</td><td>4701</td><td>-1</td><td>0.14379432797431946</td><td>-0.8422582445375392</td><td>1.2217304706573486</td><td>3.1415927410125732</td><td>-8.855626106262207</td><td>-196.48446655273438</td><td>26655.546875</td><td>0</td><td>3.1415927410125732</td><td>1.2217304706573486</td><td>165.0</td><td>157.19022288310802</td><td>0.19986605828609647</td><td>1</td><td>-70.93</td><td>-52.07</td><td>43.0</td><td>0</td><td>-0.10167772</td><td>0.3549307</td><td>0.36920747</td><td>-1.2917962</td><td>-1.0</td><td>1.223919e-06</td><td>0.0</td><td>-0.8417447475660496</td><td>0.14396444669359212</td><td>-0.06663295343654722</td><td>0.2661442561371031</td><td>0.03504599569388206</td><td>-0.08878643900154387</td><td>1.222968247415559</td><td>3.1322897651312758</td><td>0</td><td>0.6715000000000001</td><td>True</td><td>1.3633439942588887</td><td>3.3059086758748746e-07</td><td>0.19532308258327305</td><td>3.3059086758748746e-07</td><td>0.19532296120522558</td><td>True</td><td>False</td><td>False</td></tr>\n",
       "<tr><td>413.7528147697449</td><td>2.6167409613089956</td><td>-0.31536617900136465</td><td>0.07504303437881656</td><td>0.32417168887288883</td><td>2.907981965667767</td><td>0.12229265153195029</td><td>0.03639590626971374</td><td>-0.25983496929621047</td><td>0.1709985962624398</td><td>1.985610407969291</td><td>-0.34864293929667606</td><td>25.790052775219255</td><td>0.0</td><td>0.0</td><td>0.0</td><td>0.0</td><td>44</td><td>0.1573840356948222</td><td>0.43780112789181946</td><td>0.09843977142752248</td><td>2</td><td>1000</td><td>4704</td><td>-1</td><td>0.14379432797431946</td><td>-0.8422582445375392</td><td>1.2217304706573486</td><td>3.1415927410125732</td><td>-207.39251708984375</td><td>-17.941173553466797</td><td>26655.546875</td><td>0</td><td>3.1415927410125732</td><td>1.2217304706573486</td><td>165.0</td><td>140.66554397219238</td><td>0.29761319109353773</td><td>1</td><td>-70.93</td><td>-52.07</td><td>43.0</td><td>0</td><td>0.3153674</td><td>-0.07504304</td><td>0.32417288</td><td>-0.23360981</td><td>1.0</td><td>1.223919e-06</td><td>0.0</td><td>-1.1368298130816563</td><td>0.07297434186836535</td><td>-0.06182977169508726</td><td>0.010612033204958104</td><td>-0.3771959506964519</td><td>0.08565506758377466</td><td>1.2082467843505766</td><td>3.150217542471689</td><td>101</td><td>0.11883333333333333</td><td>True</td><td>1.3633439942588887</td><td>3.3059086758748746e-07</td><td>0.7914973376235077</td><td>3.3059086758748746e-07</td><td>0.791497660007675</td><td>False</td><td>False</td><td>False</td></tr>\n",
       "<tr><td>484.6174302101135</td><td>2.685399030329628</td><td>0.17693878268824498</td><td>-0.35427133281357415</td><td>0.3959993814044464</td><td>-1.1075934108047427</td><td>0.20225439506150023</td><td>0.042882059675267814</td><td>-1.1356317196449108</td><td>0.18210814656208327</td><td>1.9807601962120374</td><td>5.758218882748668</td><td>26.35583439834671</td><td>0.0</td><td>0.0</td><td>0.0</td><td>0.0</td><td>48</td><td>0.0977738180048461</td><td>0.40073639546742224</td><td>0.05628590788093472</td><td>2</td><td>1000</td><td>4706</td><td>-1</td><td>0.14379432797431946</td><td>-0.8422582445375392</td><td>1.2217304706573486</td><td>3.1415927410125732</td><td>25.372297286987305</td><td>-204.1906280517578</td><td>26655.546875</td><td>0</td><td>3.1415927410125732</td><td>1.2217304706573486</td><td>165.0</td><td>180.04115666490773</td><td>0.21202040955514717</td><td>1</td><td>-70.93</td><td>-52.07</td><td>43.0</td><td>0</td><td>-0.17693757</td><td>0.35427132</td><td>0.39599884</td><td>-1.1075962</td><td>-1.0</td><td>1.223919e-06</td><td>0.0</td><td>-0.7459318353880987</td><td>0.1795015341032121</td><td>-0.23919606823668407</td><td>0.4827463260469764</td><td>-0.062257285548439095</td><td>0.12847499323340228</td><td>1.2194782453940256</td><td>3.1549261481885704</td><td>0</td><td>0.8246666666666667</td><td>True</td><td>1.3633439942588887</td><td>3.3059086758748746e-07</td><td>0.2921362901898927</td><td>3.3059086758748746e-07</td><td>0.2921364343556468</td><td>True</td><td>True</td><td>True</td></tr>\n",
       "<tr><td>2478.7348189353943</td><td>3.3942300673756276</td><td>0.2787590306475173</td><td>0.2952366757548223</td><td>0.406043460578177</td><td>0.8140971951554095</td><td>0.2802761907392929</td><td>0.06558769130835873</td><td>0.8494855626686542</td><td>0.6755174169361413</td><td>2.6809653560531412</td><td>0.6927605062583226</td><td>25.987465146256593</td><td>0.0</td><td>0.0</td><td>0.0</td><td>0.0</td><td>131</td><td>0.057726979576231796</td><td>0.47440869455911916</td><td>0.051645169131105305</td><td>1</td><td>1000</td><td>10400</td><td>-1</td><td>0.23980163037776947</td><td>-0.6201478685196485</td><td>1.2217304706573486</td><td>3.1415927410125732</td><td>36.265968322753906</td><td>40.10053634643555</td><td>21525.953125</td><td>0</td><td>3.1415927410125732</td><td>1.2217304706573486</td><td>310.0</td><td>141.37320610431544</td><td>0.23401092734761422</td><td>1</td><td>-70.93</td><td>-52.07</td><td>43.0</td><td>0</td><td>-0.2787578</td><td>-0.29523668</td><td>0.4060426</td><td>0.8140994</td><td>-1.0</td><td>1.223919e-06</td><td>0.0</td><td>-0.4139008579309633</td><td>0.38556636588607635</td><td>-0.26908992834733536</td><td>-0.29173926203322365</td><td>0.00966910230018192</td><td>0.0034974137215986745</td><td>1.2220757685162877</td><td>3.141958293299628</td><td>101</td><td>0.4893333333333333</td><td>True</td><td>0.9928805798018517</td><td>3.3059086758748746e-07</td><td>0.021040218571837167</td><td>3.3059086758748746e-07</td><td>0.021039907693159037</td><td>True</td><td>False</td><td>False</td></tr>\n",
       "<tr><td>1831.9929208755493</td><td>3.2629237911491757</td><td>-0.21111503684957605</td><td>0.2600263016720139</td><td>0.33493766038656064</td><td>2.2527506278894722</td><td>0.1759564976301546</td><td>0.05749808053195707</td><td>-0.8654160944872087</td><td>-0.2893804595141091</td><td>2.136306207721878</td><td>1.8951064539730362</td><td>26.05893239990036</td><td>0.0</td><td>0.0</td><td>0.0</td><td>0.0</td><td>90</td><td>0.09931867572549645</td><td>0.31679317501212734</td><td>0.042668682378259444</td><td>2</td><td>1000</td><td>10407</td><td>-1</td><td>0.23980163037776947</td><td>-0.6201478685196485</td><td>1.2217304706573486</td><td>3.1415927410125732</td><td>-116.13005065917969</td><td>22.018999099731445</td><td>21525.953125</td><td>0</td><td>3.1415927410125732</td><td>1.2217304706573486</td><td>310.0</td><td>86.78838801581787</td><td>0.32677440905202076</td><td>1</td><td>-70.93</td><td>-52.07</td><td>43.0</td><td>0</td><td>0.21111625</td><td>-0.2600263</td><td>0.33493844</td><td>-0.8888392</td><td>1.0</td><td>1.223919e-06</td><td>0.0</td><td>-0.602405645779724</td><td>0.24980110446386902</td><td>0.17864889949490256</td><td>-0.21290579337842014</td><td>-0.03246613735467349</td><td>0.047120508293593766</td><td>1.2205670818351262</td><td>3.1464974791248537</td><td>0</td><td>0.7883333333333334</td><td>True</td><td>0.9928805798018517</td><td>3.3059086758748746e-07</td><td>0.11709272024699248</td><td>3.3059086758748746e-07</td><td>0.1170929078142897</td><td>True</td><td>True</td><td>True</td></tr>\n",
       "<tr><td>1437.1993370056152</td><td>3.1575170081882833</td><td>0.09754180432373231</td><td>-0.0768404886087586</td><td>0.12417271954967421</td><td>-0.6672388920548341</td><td>0.09296156064324182</td><td>0.06319927949650396</td><td>-0.684677399405836</td><td>0.3230934957156108</td><td>2.803363627634942</td><td>-7.315433085871159</td><td>26.50876108027031</td><td>0.0</td><td>0.0</td><td>0.0</td><td>0.0</td><td>59</td><td>0.18189582753969727</td><td>0.4164189582971619</td><td>0.07498997029044344</td><td>1</td><td>1000</td><td>10408</td><td>-1</td><td>0.23980163037776947</td><td>-0.6201478685196485</td><td>1.2217304706573486</td><td>3.1415927410125732</td><td>-25.62360382080078</td><td>-71.72368621826172</td><td>21525.953125</td><td>0</td><td>3.1415927410125732</td><td>1.2217304706573486</td><td>310.0</td><td>49.385594623948144</td><td>0.6798431422536414</td><td>1</td><td>-70.93</td><td>-52.07</td><td>43.0</td><td>0</td><td>-0.09754058</td><td>0.07684049</td><td>0.124171756</td><td>-0.667245</td><td>-1.0</td><td>1.223919e-06</td><td>0.0</td><td>-0.5952810155290242</td><td>0.2539329070066062</td><td>-0.07414109551832647</td><td>0.03451462083862863</td><td>0.023400708805405845</td><td>-0.04232586777012997</td><td>1.2225630582161253</td><td>3.137162860668163</td><td>0</td><td>0.9211666666666666</td><td>True</td><td>0.9928805798018517</td><td>3.3059086758748746e-07</td><td>0.09896608293308547</td><td>3.3059086758748746e-07</td><td>0.09896592297835034</td><td>True</td><td>True</td><td>True</td></tr>\n",
       "<tr><td>464.3622989654541</td><td>2.6668569526343355</td><td>0.5105044919932104</td><td>-0.049914792951300836</td><td>0.5129389075714739</td><td>-0.097465619928299</td><td>0.17140434024244777</td><td>0.040619747365800915</td><td>-0.034247429635086785</td><td>0.5924072369890717</td><td>2.490468350219953</td><td>4.338742159521547</td><td>26.45059053708799</td><td>0.0</td><td>0.0</td><td>0.0</td><td>0.0</td><td>41</td><td>0.09701446089320263</td><td>0.4051704993281821</td><td>0.08400953421504492</td><td>1</td><td>1000</td><td>13704</td><td>-1</td><td>0.1488521248102188</td><td>-0.8272449615764313</td><td>1.2217304706573486</td><td>3.1415927410125732</td><td>132.6371612548828</td><td>-70.0782241821289</td><td>18297.96484375</td><td>0</td><td>3.1415927410125732</td><td>1.2217304706573486</td><td>242.9729766845703</td><td>204.3621428122248</td><td>0.23698202337435068</td><td>1</td><td>-70.93</td><td>-52.07</td><td>43.0</td><td>0</td><td>-0.5105033</td><td>0.049914792</td><td>0.51293766</td><td>-0.09746585</td><td>-1.0</td><td>1.223919e-06</td><td>0.0</td><td>-0.7956168091214835</td><td>0.160096998883321</td><td>-0.4697850591502214</td><td>0.027842783199804936</td><td>0.040719432842988956</td><td>-0.0220720097514959</td><td>1.2231838732885307</td><td>3.1392787045787336</td><td>0</td><td>0.6155</td><td>True</td><td>1.3344343536717866</td><td>3.3059086758748746e-07</td><td>0.09477703085047524</td><td>3.3059086758748746e-07</td><td>0.09477674021144933</td><td>True</td><td>False</td><td>False</td></tr>\n",
       "<tr><td>...</td><td>...</td><td>...</td><td>...</td><td>...</td><td>...</td><td>...</td><td>...</td><td>...</td><td>...</td><td>...</td><td>...</td><td>...</td><td>...</td><td>...</td><td>...</td><td>...</td><td>...</td><td>...</td><td>...</td><td>...</td><td>...</td><td>...</td><td>...</td><td>...</td><td>...</td><td>...</td><td>...</td><td>...</td><td>...</td><td>...</td><td>...</td><td>...</td><td>...</td><td>...</td><td>...</td><td>...</td><td>...</td><td>...</td><td>...</td><td>...</td><td>...</td><td>...</td><td>...</td><td>...</td><td>...</td><td>...</td><td>...</td><td>...</td><td>...</td><td>...</td><td>...</td><td>...</td><td>...</td><td>...</td><td>...</td><td>...</td><td>...</td><td>...</td><td>...</td><td>...</td><td>...</td><td>...</td><td>...</td><td>...</td><td>...</td><td>...</td><td>...</td><td>...</td></tr>\n",
       "<tr><td>632.2735996246338</td><td>2.800905048369112</td><td>-0.12322812144066463</td><td>-0.3591748642068686</td><td>0.3797258919165477</td><td>-1.9012990844090711</td><td>0.09722263387548187</td><td>0.034915985604891425</td><td>1.1263289588826613</td><td>-0.06362655359360261</td><td>2.239059825052906</td><td>2.2658265462143983</td><td>25.822698288628988</td><td>0.0</td><td>0.0</td><td>0.0</td><td>0.0</td><td>37</td><td>0.1823993505561185</td><td>0.4222672012224096</td><td>0.11735236008169705</td><td>2</td><td>999</td><td>992405</td><td>-1</td><td>0.05811581015586853</td><td>-1.2357057035924863</td><td>1.2217304706573486</td><td>3.1415927410125732</td><td>-97.41441345214844</td><td>-170.8111114501953</td><td>14519.611328125</td><td>0</td><td>3.1415927410125732</td><td>1.2217304706573486</td><td>281.1111145019531</td><td>121.65884990678263</td><td>0.3591343313081824</td><td>1</td><td>-70.93</td><td>-52.07</td><td>43.0</td><td>0</td><td>0.12322935</td><td>0.35917488</td><td>0.3797263</td><td>1.2402905</td><td>1.0</td><td>1.223919e-06</td><td>0.0</td><td>-1.0122968201344584</td><td>0.09720826233062088</td><td>-0.047399317252498914</td><td>-0.09644407878700982</td><td>-0.17062743869316355</td><td>-0.45561894299387845</td><td>1.2152790573699737</td><td>3.0948298279362714</td><td>0</td><td>0.5898333333333333</td><td>True</td><td>2.3907979455328188</td><td>3.3059086758748746e-07</td><td>0.9955510236055554</td><td>3.3059086758748746e-07</td><td>0.9955511395527248</td><td>False</td><td>True</td><td>False</td></tr>\n",
       "<tr><td>518.0071325302124</td><td>2.714335739662583</td><td>-0.17530319218532042</td><td>0.24673121878980134</td><td>0.30266731491170995</td><td>2.188536345740226</td><td>0.10666482582916009</td><td>0.05057140828683862</td><td>-0.9189294328567892</td><td>-0.33671201999040085</td><td>2.7118390904209644</td><td>0.9641304554955556</td><td>25.797271883181377</td><td>0.0</td><td>0.0</td><td>0.0</td><td>0.0</td><td>38</td><td>0.12369271300879116</td><td>0.4359896804065414</td><td>0.07624061650093769</td><td>1</td><td>999</td><td>992407</td><td>-1</td><td>0.05811581015586853</td><td>-1.2357057035924863</td><td>1.2217304706573486</td><td>3.1415927410125732</td><td>-111.11662292480469</td><td>17.520416259765625</td><td>14519.611328125</td><td>0</td><td>3.1415927410125732</td><td>1.2217304706573486</td><td>281.1111145019531</td><td>80.36037972972316</td><td>0.4741151348977629</td><td>1</td><td>-70.93</td><td>-52.07</td><td>43.0</td><td>0</td><td>0.17530441</td><td>-0.24673122</td><td>0.30266804</td><td>-0.953053</td><td>1.0</td><td>1.223919e-06</td><td>0.0</td><td>-1.0115041380723264</td><td>0.09738585061038196</td><td>0.1206427900558903</td><td>-0.16680772230963778</td><td>-0.054660402129430116</td><td>0.07992349648016356</td><td>1.2197671748022896</td><td>3.149893786999464</td><td>101</td><td>0.4608333333333334</td><td>True</td><td>2.3907979455328188</td><td>3.3059086758748746e-07</td><td>0.19813546017362502</td><td>3.3059086758748746e-07</td><td>0.1981356467974534</td><td>True</td><td>False</td><td>False</td></tr>\n",
       "<tr><td>352.7320671081543</td><td>2.547444943464104</td><td>0.04216133331860048</td><td>-0.235497270688476</td><td>0.23924159865901973</td><td>-1.3936420483247842</td><td>0.1035195083773904</td><td>0.042263078193887846</td><td>1.437485080235051</td><td>-0.4909406937185576</td><td>2.5604635917928396</td><td>3.4892041084356933</td><td>25.879330471933123</td><td>0.0</td><td>0.0</td><td>0.0</td><td>0.0</td><td>30</td><td>0.21756438636028502</td><td>0.3856315894404893</td><td>0.10346421861862655</td><td>1</td><td>999</td><td>992408</td><td>-1</td><td>0.05811581015586853</td><td>-1.2357057035924863</td><td>1.2217304706573486</td><td>3.1415927410125732</td><td>-39.01613998413086</td><td>-121.39756774902344</td><td>14519.611328125</td><td>0</td><td>3.1415927410125732</td><td>1.2217304706573486</td><td>281.1111145019531</td><td>76.32041779825887</td><td>0.4082619677811229</td><td>1</td><td>-70.93</td><td>-52.07</td><td>43.0</td><td>0</td><td>-0.04216011</td><td>0.23549727</td><td>0.23924138</td><td>-1.3936471</td><td>-1.0</td><td>1.223919e-06</td><td>0.0</td><td>-1.0475023122595422</td><td>0.08963914133930717</td><td>-0.003805631173608821</td><td>-0.047759504940321384</td><td>0.03835570214499166</td><td>-0.28325677562879736</td><td>1.2229592208032398</td><td>3.111910580202029</td><td>101</td><td>0.3953333333333333</td><td>True</td><td>2.3907979455328188</td><td>3.3059086758748746e-07</td><td>0.5849116553929055</td><td>3.3059086758748746e-07</td><td>0.5849116110318753</td><td>True</td><td>False</td><td>False</td></tr>\n",
       "<tr><td>391.461754322052</td><td>2.5926893380459335</td><td>-0.49077756277747236</td><td>-0.6801403711096926</td><td>0.8387213724110207</td><td>-2.195860981091321</td><td>0.18936835664626908</td><td>0.04397116389458076</td><td>1.0015668254429697</td><td>0.02948948213153524</td><td>2.093256524237164</td><td>-13.548800714138238</td><td>26.69330420239901</td><td>0.0</td><td>0.0</td><td>0.0</td><td>0.0</td><td>45</td><td>0.09906920076590185</td><td>0.38407298381826505</td><td>0.06275187858972031</td><td>1</td><td>999</td><td>995202</td><td>-1</td><td>0.4436306655406952</td><td>-0.3529784412992408</td><td>1.2217304706573486</td><td>3.1415927410125732</td><td>-238.7069854736328</td><td>-289.59246826171875</td><td>22819.32421875</td><td>0</td><td>3.1415927410125732</td><td>1.2217304706573486</td><td>275.76922607421875</td><td>290.8024068441113</td><td>0.23219911010114938</td><td>1</td><td>-70.93</td><td>-52.07</td><td>43.0</td><td>0</td><td>0.49077877</td><td>0.6801404</td><td>0.8387221</td><td>0.9457305</td><td>1.0</td><td>1.223919e-06</td><td>0.0</td><td>-0.13498104686469012</td><td>0.7328565151837874</td><td>0.4914391213518246</td><td>0.768150047931392</td><td>0.000661558574352239</td><td>0.08800967682169936</td><td>1.2217405192044388</td><td>3.1507832188559717</td><td>0</td><td>0.765</td><td>True</td><td>0.678034779430196</td><td>3.3059086758748746e-07</td><td>0.18009733927551733</td><td>3.3059086758748746e-07</td><td>0.18009733679087345</td><td>False</td><td>False</td><td>False</td></tr>\n",
       "<tr><td>4376.800852298737</td><td>3.6411567863400127</td><td>0.3388062794823172</td><td>-0.10133816393727797</td><td>0.3536369868761307</td><td>-0.2906341685810415</td><td>0.18668953659908086</td><td>0.06699893545649994</td><td>-0.21678851880993266</td><td>0.6470609017461428</td><td>3.4826507334405767</td><td>1.3714927586436017</td><td>26.056493967577353</td><td>0.0</td><td>0.0</td><td>0.0</td><td>0.0</td><td>133</td><td>0.0942332538000347</td><td>0.5235519602890126</td><td>0.057567581041806364</td><td>2</td><td>999</td><td>995203</td><td>-1</td><td>0.4436306655406952</td><td>-0.3529784412992408</td><td>1.2217304706573486</td><td>3.1415927410125732</td><td>71.47905731201172</td><td>-89.5918960571289</td><td>22819.32421875</td><td>0</td><td>3.1415927410125732</td><td>1.2217304706573486</td><td>275.76922607421875</td><td>147.2692513664647</td><td>0.35887889957315267</td><td>1</td><td>-70.93</td><td>-52.07</td><td>43.0</td><td>0</td><td>-0.33880505</td><td>0.10133816</td><td>0.35363582</td><td>-0.29063517</td><td>-1.0</td><td>1.223919e-06</td><td>0.0</td><td>-0.3058911370003642</td><td>0.49443460955870694</td><td>-0.336969134114958</td><td>0.06650720907766326</td><td>0.001837145367359183</td><td>-0.03483095485961471</td><td>1.2217939510627431</td><td>3.1379549959839443</td><td>0</td><td>0.809674603174603</td><td>True</td><td>0.678034779430196</td><td>3.3059086758748746e-07</td><td>0.07137288386666454</td><td>3.3059086758748746e-07</td><td>0.0713728664547391</td><td>True</td><td>False</td><td>False</td></tr>\n",
       "<tr><td>362.498149394989</td><td>2.5593057937770927</td><td>0.7451272208664483</td><td>0.18500690581225473</td><td>0.7677513467747102</td><td>0.24336767978471968</td><td>0.15249461459529817</td><td>0.04938198585073407</td><td>0.21102100936981277</td><td>-0.2195346301614782</td><td>1.7420804468432087</td><td>11.674444978705884</td><td>27.330005529423786</td><td>0.0</td><td>0.0</td><td>0.0</td><td>0.0</td><td>50</td><td>0.07278329582473636</td><td>0.36440742001395005</td><td>0.0633199043859928</td><td>2</td><td>999</td><td>995208</td><td>-1</td><td>0.4436306655406952</td><td>-0.3529784412992408</td><td>1.2217304706573486</td><td>3.1415927410125732</td><td>224.85426330566406</td><td>12.570582389831543</td><td>22819.32421875</td><td>0</td><td>3.1415927410125732</td><td>1.2217304706573486</td><td>275.76922607421875</td><td>302.76514900504964</td><td>0.32382773635506895</td><td>1</td><td>-70.93</td><td>-52.07</td><td>43.0</td><td>0</td><td>-0.745126</td><td>-0.1850069</td><td>0.76775014</td><td>0.24336806</td><td>-1.0</td><td>1.223919e-06</td><td>0.0</td><td>-0.29330022418206575</td><td>0.5089788965127072</td><td>-0.8361049858200079</td><td>-0.17415705142805724</td><td>-0.09097776495355958</td><td>0.0108498543841975</td><td>1.2184810545515095</td><td>3.1427156749558054</td><td>101</td><td>0.4355</td><td>True</td><td>0.678034779430196</td><td>3.3059086758748746e-07</td><td>0.18748498121899082</td><td>3.3059086758748746e-07</td><td>0.18748530948373704</td><td>False</td><td>False</td><td>False</td></tr>\n",
       "<tr><td>833.5050296783447</td><td>2.920908224865836</td><td>-0.2673169522979012</td><td>0.23050804711974707</td><td>0.3529763629094701</td><td>2.4299996341493273</td><td>0.14198238387506204</td><td>0.04041814737045267</td><td>-0.7004064602120676</td><td>-0.10269414927692384</td><td>1.9858653998091704</td><td>0.9274258213787461</td><td>26.60966954800335</td><td>0.0</td><td>0.0</td><td>0.0</td><td>0.0</td><td>44</td><td>0.13675655228368608</td><td>0.33528609490481603</td><td>0.09418441240578289</td><td>1</td><td>999</td><td>995800</td><td>-1</td><td>0.1295793652534485</td><td>-0.8874641517838076</td><td>1.2217304706573486</td><td>3.1415927410125732</td><td>-145.0095672607422</td><td>17.661067962646484</td><td>17230.0390625</td><td>0</td><td>3.1415927410125732</td><td>1.2217304706573486</td><td>358.0</td><td>101.73595252896098</td><td>0.2846701560245585</td><td>1</td><td>-70.93</td><td>-52.07</td><td>43.0</td><td>0</td><td>0.2673182</td><td>-0.23050804</td><td>0.35297728</td><td>-0.71159077</td><td>1.0</td><td>1.223919e-06</td><td>0.0</td><td>-0.9426048370093101</td><td>0.11412877689074111</td><td>0.013542423797020232</td><td>-0.010710077089493035</td><td>-0.25377452850088095</td><td>0.21979797003025403</td><td>1.2125845035437588</td><td>3.1639834360065824</td><td>0</td><td>0.7193333333333333</td><td>True</td><td>1.4542300407654467</td><td>3.3059086758748746e-07</td><td>0.6869868121616876</td><td>3.3059086758748746e-07</td><td>0.6869870620578638</td><td>False</td><td>True</td><td>False</td></tr>\n",
       "<tr><td>384.4830918312073</td><td>2.584877245864718</td><td>-0.5558488331122716</td><td>0.027441861804542562</td><td>0.5565258134638263</td><td>3.0922634155113053</td><td>0.19566527693583097</td><td>0.03641124161022326</td><td>-0.03294292566618894</td><td>0.02966830546966974</td><td>1.7512577822851185</td><td>-5.7723793555753</td><td>25.68850667841433</td><td>0.0</td><td>0.0</td><td>0.0</td><td>0.0</td><td>38</td><td>0.07225352367616417</td><td>0.29323939753235656</td><td>0.0618343236490186</td><td>1</td><td>999</td><td>995807</td><td>-1</td><td>0.1295793652534485</td><td>-0.8874641517838076</td><td>1.2217304706573486</td><td>3.1415927410125732</td><td>-236.2041778564453</td><td>-45.12890625</td><td>17230.0390625</td><td>0</td><td>3.1415927410125732</td><td>1.2217304706573486</td><td>358.0</td><td>165.41986743876427</td><td>0.18608943896654917</td><td>1</td><td>-70.93</td><td>-52.07</td><td>43.0</td><td>0</td><td>0.55585</td><td>-0.027441861</td><td>0.556527</td><td>-0.049329128</td><td>1.0</td><td>1.223919e-06</td><td>0.0</td><td>-0.8029779629621299</td><td>0.15740627337748814</td><td>0.508255794715571</td><td>-0.016681567596656805</td><td>-0.04759303839670059</td><td>0.010760294207885757</td><td>1.2200305115805898</td><td>3.14271112465961</td><td>0</td><td>0.5636666666666666</td><td>True</td><td>1.4542300407654467</td><td>3.3059086758748746e-07</td><td>0.09984664051682715</td><td>3.3059086758748746e-07</td><td>0.09984696296912537</td><td>True</td><td>False</td><td>False</td></tr>\n",
       "<tr><td>494.0317578315735</td><td>2.693754867562709</td><td>0.0028655225041664834</td><td>-0.04367788028223494</td><td>0.04377177681076166</td><td>-1.5052844044137346</td><td>0.06974069401667307</td><td>0.04342969184846297</td><td>-1.4038947418205374</td><td>0.4456988060088103</td><td>2.9375134436226173</td><td>-6.324034689329217</td><td>26.325755004098944</td><td>0.0</td><td>0.0</td><td>0.0</td><td>0.0</td><td>27</td><td>0.36331790918660095</td><td>0.43782848885649484</td><td>0.18275692994363765</td><td>1</td><td>999</td><td>999202</td><td>-1</td><td>0.10410533845424652</td><td>-0.9825269995790359</td><td>1.2217304706573486</td><td>3.1415927410125732</td><td>-51.89714431762695</td><td>-74.9818344116211</td><td>28134.20703125</td><td>0</td><td>3.1415927410125732</td><td>1.2217304706573486</td><td>285.3846130371094</td><td>29.785932537568666</td><td>0.6227309960247905</td><td>1</td><td>-70.93</td><td>-52.07</td><td>43.0</td><td>0</td><td>-0.0028642986</td><td>0.04367788</td><td>0.043771695</td><td>-1.5053123</td><td>-1.0</td><td>1.223919e-06</td><td>0.0</td><td>-0.982326654925558</td><td>0.1041533744306005</td><td>-0.02600122139443122</td><td>0.0753821314521014</td><td>-0.023135698890264733</td><td>0.031704251169866464</td><td>1.2209024326624822</td><td>3.1448958398571314</td><td>0</td><td>0.6373333333333334</td><td>True</td><td>1.6656052362174327</td><td>3.3059086758748746e-07</td><td>0.08031268734916365</td><td>3.3059086758748746e-07</td><td>0.08031288222365561</td><td>True</td><td>False</td><td>False</td></tr>\n",
       "<tr><td>337.25416898727417</td><td>2.527957326933942</td><td>-0.37870483039036806</td><td>-0.0022007682335751853</td><td>0.3787112250010757</td><td>-3.1357814167550555</td><td>0.12401950896155567</td><td>0.0409026223031634</td><td>-0.018569791795839324</td><td>0.003033398985679489</td><td>1.904585178260177</td><td>-4.6220338322797145</td><td>24.986082581737726</td><td>0.0</td><td>0.0</td><td>0.0</td><td>0.0</td><td>33</td><td>0.12387035898876171</td><td>0.41865342130037136</td><td>0.06442620539921307</td><td>2</td><td>999</td><td>999605</td><td>-1</td><td>0.09966521710157394</td><td>-1.0014563828771628</td><td>1.2217304706573486</td><td>3.1415927410125732</td><td>-212.7471923828125</td><td>-53.72416687011719</td><td>20143.873046875</td><td>0</td><td>3.1415927410125732</td><td>1.2217304706573486</td><td>221.76470947265625</td><td>141.82683891925788</td><td>0.32980796848536664</td><td>1</td><td>-70.93</td><td>-52.07</td><td>43.0</td><td>0</td><td>0.37870607</td><td>0.0022007683</td><td>0.37871245</td><td>0.005811218</td><td>1.0</td><td>1.223919e-06</td><td>0.0</td><td>-0.9743351726848116</td><td>0.10608764952858171</td><td>0.3267875920105521</td><td>-0.01629134212986406</td><td>-0.05191723837981599</td><td>-0.018492110363439247</td><td>1.2198756816548357</td><td>3.139671554863308</td><td>0</td><td>0.5003333333333333</td><td>True</td><td>1.7112296444475716</td><td>3.3059086758748746e-07</td><td>0.11277492565692891</td><td>3.3059086758748746e-07</td><td>0.11277523708273426</td><td>True</td><td>False</td><td>False</td></tr>\n",
       "</table>"
      ],
      "text/plain": [
       "<QTable length=314360>\n",
       "    intensity        log_intensity    ... selected_gh selected\n",
       "                                      ...                     \n",
       "     float64            float64       ...     bool      bool  \n",
       "------------------ ------------------ ... ----------- --------\n",
       " 842.8172659873962  2.925733424000897 ...       False    False\n",
       "224.07349491119385 2.3503904879737565 ...       False    False\n",
       " 643.6946549415588   2.80867990288534 ...       False    False\n",
       " 413.7528147697449 2.6167409613089956 ...       False    False\n",
       " 484.6174302101135  2.685399030329628 ...        True     True\n",
       "2478.7348189353943 3.3942300673756276 ...       False    False\n",
       "1831.9929208755493 3.2629237911491757 ...        True     True\n",
       "1437.1993370056152 3.1575170081882833 ...        True     True\n",
       " 464.3622989654541 2.6668569526343355 ...       False    False\n",
       "               ...                ... ...         ...      ...\n",
       " 632.2735996246338  2.800905048369112 ...        True    False\n",
       " 518.0071325302124  2.714335739662583 ...       False    False\n",
       " 352.7320671081543  2.547444943464104 ...       False    False\n",
       "  391.461754322052 2.5926893380459335 ...       False    False\n",
       " 4376.800852298737 3.6411567863400127 ...       False    False\n",
       "  362.498149394989 2.5593057937770927 ...       False    False\n",
       " 833.5050296783447  2.920908224865836 ...        True    False\n",
       " 384.4830918312073  2.584877245864718 ...       False    False\n",
       " 494.0317578315735  2.693754867562709 ...       False    False\n",
       "337.25416898727417  2.527957326933942 ...       False    False"
      ]
     },
     "execution_count": 39,
     "metadata": {},
     "output_type": "execute_result"
    }
   ],
   "source": [
    "gammas"
   ]
  },
  {
   "cell_type": "code",
   "execution_count": 41,
   "id": "functioning-curtis",
   "metadata": {},
   "outputs": [
    {
     "data": {
      "text/html": [
       "<i>QTable length=184950</i>\n",
       "<table id=\"table140540938516816\" class=\"table-striped table-bordered table-condensed\">\n",
       "<thead><tr><th>intensity</th><th>log_intensity</th><th>x</th><th>y</th><th>r</th><th>phi</th><th>length</th><th>width</th><th>psi</th><th>skewness</th><th>kurtosis</th><th>time_gradient</th><th>intercept</th><th>leakage_intensity_width_1</th><th>leakage_intensity_width_2</th><th>leakage_pixels_width_1</th><th>leakage_pixels_width_2</th><th>n_pixels</th><th>concentration_cog</th><th>concentration_core</th><th>concentration_pixel</th><th>n_islands</th><th>obs_id</th><th>event_id</th><th>calibration_id</th><th>true_energy</th><th>log_mc_energy</th><th>true_alt</th><th>true_az</th><th>mc_core_x</th><th>mc_core_y</th><th>mc_h_first_int</th><th>mc_type</th><th>pointing_az</th><th>pointing_alt</th><th>mc_x_max</th><th>mc_core_distance</th><th>wl</th><th>tel_id</th><th>tel_pos_x</th><th>tel_pos_y</th><th>tel_pos_z</th><th>trigger_type</th><th>disp_dx</th><th>disp_dy</th><th>disp_norm</th><th>disp_angle</th><th>disp_sign</th><th>src_x</th><th>src_y</th><th>log_reco_energy</th><th>reco_energy</th><th>reco_disp_dx</th><th>reco_disp_dy</th><th>reco_src_x</th><th>reco_src_y</th><th>reco_alt</th><th>reco_az</th><th>reco_type</th><th>gh_score</th><th>good_events</th><th>weight</th><th>true_source_fov_offset</th><th>reco_source_fov_offset</th><th>theta</th><th>selected_gh</th><th>selected</th></tr></thead>\n",
       "<thead><tr><th></th><th></th><th></th><th></th><th></th><th></th><th></th><th></th><th></th><th></th><th></th><th></th><th></th><th></th><th></th><th></th><th></th><th></th><th></th><th></th><th></th><th></th><th></th><th></th><th></th><th>TeV</th><th></th><th>rad</th><th>rad</th><th></th><th></th><th></th><th></th><th>rad</th><th>rad</th><th></th><th></th><th></th><th></th><th></th><th></th><th></th><th></th><th></th><th></th><th></th><th></th><th></th><th></th><th></th><th></th><th>TeV</th><th></th><th></th><th></th><th></th><th>rad</th><th>rad</th><th></th><th></th><th></th><th></th><th>deg</th><th>deg</th><th>deg</th><th></th><th></th></tr></thead>\n",
       "<thead><tr><th>float64</th><th>float64</th><th>float64</th><th>float64</th><th>float64</th><th>float64</th><th>float64</th><th>float64</th><th>float64</th><th>float64</th><th>float64</th><th>float64</th><th>float64</th><th>float32</th><th>float32</th><th>float64</th><th>float64</th><th>int64</th><th>float64</th><th>float64</th><th>float64</th><th>int64</th><th>int32</th><th>int64</th><th>int64</th><th>float64</th><th>float64</th><th>float64</th><th>float64</th><th>float64</th><th>float64</th><th>float64</th><th>int64</th><th>float32</th><th>float32</th><th>float64</th><th>float64</th><th>float64</th><th>int64</th><th>float32</th><th>float32</th><th>float32</th><th>int64</th><th>float32</th><th>float32</th><th>float32</th><th>float32</th><th>float32</th><th>float32</th><th>float32</th><th>float64</th><th>float64</th><th>float64</th><th>float64</th><th>float64</th><th>float64</th><th>float64</th><th>float64</th><th>int64</th><th>float64</th><th>bool</th><th>float64</th><th>float64</th><th>float64</th><th>float64</th><th>bool</th><th>bool</th></tr></thead>\n",
       "<tr><td>272.9674320220947</td><td>2.436110834085337</td><td>0.4224041718275432</td><td>-0.4686015404201394</td><td>0.6308824677080829</td><td>-0.8372003432751777</td><td>0.06592108548128921</td><td>0.040747610102258615</td><td>1.4366860308004747</td><td>-0.00779692297458131</td><td>2.0671906346216185</td><td>1.6964901701023958</td><td>26.14027332585583</td><td>0.0</td><td>0.0</td><td>0.0</td><td>0.0</td><td>19</td><td>0.27883302649422803</td><td>0.4245068368753821</td><td>0.13754754974317632</td><td>1</td><td>2501</td><td>88701</td><td>-1</td><td>0.1559777557849884</td><td>-0.8069373325984416</td><td>1.2312166690826416</td><td>3.058166265487671</td><td>-27.692306518554688</td><td>-6.866317272186279</td><td>9519.181640625</td><td>101</td><td>3.1415927410125732</td><td>1.2217304706573486</td><td>557.368408203125</td><td>62.552946122083796</td><td>0.6181271106924394</td><td>1</td><td>-70.93</td><td>-52.07</td><td>43.0</td><td>0</td><td>-0.12630664</td><td>-0.30872002</td><td>0.3335587</td><td>1.1824441</td><td>-1.0</td><td>0.29609755</td><td>-0.7773216</td><td>-1.190133773849675</td><td>0.0645455381583449</td><td>-0.022493876208314452</td><td>0.0048149482224956516</td><td>0.39991029561922875</td><td>-0.46378659219764373</td><td>1.2356209118237407</td><td>3.0912229905497504</td><td>101</td><td>0.10733333333333334</td><td>True</td><td>1506.4355256731621</td><td>1.7020793595620656</td><td>1.2531035614793518</td><td>1.2531035617752522</td><td>False</td><td>False</td></tr>\n",
       "<tr><td>210.38424968719482</td><td>2.3230132234570817</td><td>-0.5494313777894181</td><td>-0.7547973238076734</td><td>0.9335919017037391</td><td>-2.200015236557002</td><td>0.05817767562826936</td><td>0.04047983421271583</td><td>1.06259507458574</td><td>-0.44643626819613585</td><td>2.1468582043045035</td><td>-3.6906506501143173</td><td>25.458591112197745</td><td>0.0</td><td>0.0</td><td>0.0</td><td>0.0</td><td>17</td><td>0.24241728301463425</td><td>0.24241728301463425</td><td>0.12534508743330097</td><td>1</td><td>2501</td><td>245702</td><td>-1</td><td>0.4613684415817261</td><td>-0.33595211531047914</td><td>1.1938244104385376</td><td>3.0017635822296143</td><td>10.12366008758545</td><td>220.43109130859375</td><td>25671.404296875</td><td>101</td><td>3.1415927410125732</td><td>1.2217304706573486</td><td>201.7073211669922</td><td>284.3000887462369</td><td>0.6957966913522772</td><td>1</td><td>-70.93</td><td>-52.07</td><td>43.0</td><td>0</td><td>-0.13737331</td><td>-0.68279195</td><td>0.69647413</td><td>1.3722534</td><td>-1.0</td><td>-0.6868047</td><td>-1.4375893</td><td>-1.1767662375778345</td><td>0.0665631341102095</td><td>-0.0002778451113020163</td><td>0.00955627040258557</td><td>-0.5497092229007201</td><td>-0.7452410534050878</td><td>1.2011758048007926</td><td>3.067874430002083</td><td>101</td><td>0.04833333333333333</td><td>True</td><td>769.0236822611778</td><td>3.2599142162089323</td><td>1.894872171155792</td><td>1.8948721716607766</td><td>False</td><td>False</td></tr>\n",
       "<tr><td>6699.325170516968</td><td>3.826031058002161</td><td>-0.6787216599676182</td><td>-0.3452045155683382</td><td>0.7614651989933422</td><td>-2.6710809195656595</td><td>0.48131036133780386</td><td>0.14878509868736056</td><td>-0.977525926896867</td><td>-0.9917749143536666</td><td>3.085738850476266</td><td>-9.429570363646395</td><td>30.99415598606482</td><td>0.0046499483</td><td>0.0140822735</td><td>0.0005008138224615</td><td>0.0013772380117691248</td><td>428</td><td>0.008385864645215162</td><td>0.4190929780621609</td><td>0.013168479314156075</td><td>3</td><td>2501</td><td>267302</td><td>-1</td><td>7.010843753814697</td><td>0.8457702883767259</td><td>1.20823073387146</td><td>3.0600733757019043</td><td>-177.2813720703125</td><td>115.72405242919922</td><td>30179.8203125</td><td>101</td><td>3.1415927410125732</td><td>1.2217304706573486</td><td>223.028564453125</td><td>198.6591508200058</td><td>0.3091250690589994</td><td>1</td><td>-70.93</td><td>-52.07</td><td>43.0</td><td>0</td><td>0.33172306</td><td>-0.46363258</td><td>0.5700836</td><td>-0.94975185</td><td>1.0</td><td>-0.3469986</td><td>-0.8088371</td><td>0.6071816760973473</td><td>4.047451711796685</td><td>0.6696312835735265</td><td>-1.046590802685156</td><td>-0.009090376394091715</td><td>-1.3917953182534943</td><td>1.2180309452028009</td><td>2.9972794982927686</td><td>101</td><td>0.0825</td><td>True</td><td>142.32192981025506</td><td>1.800948532881832</td><td>2.8480606144380234</td><td>2.8480606156090817</td><td>False</td><td>False</td></tr>\n",
       "<tr><td>40842.83802986145</td><td>4.6111159121094065</td><td>0.06839262784185098</td><td>-0.4770971511353803</td><td>0.4819743179512886</td><td>-1.4284147626803423</td><td>0.6180099086508193</td><td>0.19801823976498756</td><td>0.7786758597469975</td><td>0.8625571384683632</td><td>3.664242041309963</td><td>1.4326733338438657</td><td>28.398959117613007</td><td>0.0</td><td>0.0</td><td>0.0</td><td>0.0</td><td>1350</td><td>0.02045185417740567</td><td>0.49257349831238567</td><td>0.00926393849698071</td><td>9</td><td>2501</td><td>267305</td><td>-1</td><td>7.010843753814697</td><td>0.8457702883767259</td><td>1.20823073387146</td><td>3.0600733757019043</td><td>23.940208435058594</td><td>11.711992263793945</td><td>30179.8203125</td><td>101</td><td>3.1415927410125732</td><td>1.2217304706573486</td><td>223.028564453125</td><td>114.31753585791147</td><td>0.32041272638699636</td><td>1</td><td>-70.93</td><td>-52.07</td><td>43.0</td><td>0</td><td>-0.41539124</td><td>-0.33173993</td><td>0.53160256</td><td>0.6738992</td><td>-1.0</td><td>-0.3469986</td><td>-0.8088371</td><td>0.8746468271522063</td><td>7.492846353511909</td><td>-0.40590649719469224</td><td>-0.4195866410184367</td><td>-0.3375138693528413</td><td>-0.896683792153817</td><td>1.2083152758930205</td><td>3.051178973476786</td><td>101</td><td>0.0825</td><td>True</td><td>142.32192981025506</td><td>1.800948532881832</td><td>1.9604991582251308</td><td>1.960499158931811</td><td>False</td><td>False</td></tr>\n",
       "<tr><td>319.2895197868347</td><td>2.5041846636899483</td><td>0.2715936073980681</td><td>0.17555687287465369</td><td>0.32339341859880705</td><td>0.573837093335767</td><td>0.07139820519878019</td><td>0.06360350902898702</td><td>0.5723276135831616</td><td>-0.21734361268765276</td><td>2.5462603806745374</td><td>-2.1866439637355333</td><td>25.90689509703777</td><td>0.0</td><td>0.0</td><td>0.0</td><td>0.0</td><td>28</td><td>0.14869430106606174</td><td>0.364962955309401</td><td>0.06881900920186287</td><td>1</td><td>2501</td><td>348201</td><td>-1</td><td>0.21992042660713196</td><td>-0.6577344307084964</td><td>1.1764613389968872</td><td>3.125662088394165</td><td>468.8438415527344</td><td>23.021509170532227</td><td>12194.1533203125</td><td>101</td><td>3.1415927410125732</td><td>1.2217304706573486</td><td>379.1891784667969</td><td>544.9720497949635</td><td>0.8908278415669987</td><td>1</td><td>-70.93</td><td>-52.07</td><td>43.0</td><td>0</td><td>-1.5378441</td><td>-0.34709913</td><td>1.5765285</td><td>0.22198538</td><td>-1.0</td><td>-1.2662505</td><td>-0.17154226</td><td>-1.0812182233160443</td><td>0.08294338907086507</td><td>-0.032376414369155754</td><td>-0.0031609281101538855</td><td>0.23921719302891234</td><td>0.1723959447644998</td><td>1.230220611898181</td><td>3.1600254771983987</td><td>101</td><td>0.005</td><td>True</td><td>1217.4321032335874</td><td>2.614755240685694</td><td>0.6033727169115347</td><td>0.603372716996475</td><td>False</td><td>False</td></tr>\n",
       "<tr><td>229.2852988243103</td><td>2.3603762097924843</td><td>-0.34367996597234723</td><td>0.40116543233149454</td><td>0.5282514771474555</td><td>2.2791694629975416</td><td>0.07433162058825686</td><td>0.03670524825153628</td><td>-0.74466146631951</td><td>0.4220177566967346</td><td>2.402037426820057</td><td>-0.9244293932454721</td><td>25.089026414935656</td><td>0.0</td><td>0.0</td><td>0.0</td><td>0.0</td><td>21</td><td>0.3110252715919267</td><td>0.3601212606636739</td><td>0.17179132377032807</td><td>1</td><td>2501</td><td>595108</td><td>-1</td><td>0.430698037147522</td><td>-0.3658271074757154</td><td>1.2276625633239746</td><td>3.2673213481903076</td><td>-408.9219665527344</td><td>-440.1250915527344</td><td>16507.03125</td><td>101</td><td>3.1415927410125732</td><td>1.2217304706573486</td><td>283.75</td><td>514.6118183298377</td><td>0.4938039553160918</td><td>1</td><td>-70.93</td><td>-52.07</td><td>43.0</td><td>0</td><td>0.5796559</td><td>0.7805124</td><td>0.9722142</td><td>0.9320089</td><td>1.0</td><td>0.2359759</td><td>1.1816778</td><td>-1.225099226034097</td><td>0.05955260643406476</td><td>-0.01739576534465794</td><td>-0.01513344542799745</td><td>-0.36107573131700516</td><td>0.3860319869034971</td><td>1.2085828096164664</td><td>3.180506098338998</td><td>101</td><td>0.05749999999999999</td><td>True</td><td>802.5317245801425</td><td>2.4657550142309947</td><td>1.0816047036443566</td><td>1.081604703881885</td><td>False</td><td>False</td></tr>\n",
       "<tr><td>5722.879868507385</td><td>3.7576146295372674</td><td>0.7893147903558131</td><td>-0.5725593317760872</td><td>0.9751112893810228</td><td>-0.6275623467100858</td><td>0.27601745106651443</td><td>0.2097417384380845</td><td>1.0237065478029557</td><td>-0.09440147915692193</td><td>1.8956792453662399</td><td>-2.80960609451122</td><td>27.19736696798074</td><td>0.03568454</td><td>0.076976374</td><td>0.00225366220107675</td><td>0.0043821209465381246</td><td>353</td><td>0.0016117907532683818</td><td>0.2802942093399204</td><td>0.015386517463803623</td><td>4</td><td>2501</td><td>668900</td><td>-1</td><td>1.335881233215332</td><td>0.12576784881916678</td><td>1.2303545475006104</td><td>3.053039789199829</td><td>-4.135982513427734</td><td>-22.007699966430664</td><td>14153.982421875</td><td>101</td><td>3.1415927410125732</td><td>1.2217304706573486</td><td>647.5</td><td>73.24740731059445</td><td>0.7598857884806027</td><td>1</td><td>-70.93</td><td>-52.07</td><td>43.0</td><td>0</td><td>-0.51341426</td><td>-0.2544275</td><td>0.57299876</td><td>0.46008918</td><td>-1.0</td><td>0.2759005</td><td>-0.82698685</td><td>0.6896571393913203</td><td>4.893923083656485</td><td>0.45203435507409895</td><td>0.3880150838645638</td><td>1.2413491454299121</td><td>-0.1845442479115234</td><td>1.2659964128818197</td><td>3.119650655863105</td><td>101</td><td>0.01</td><td>True</td><td>397.807838620219</td><td>1.7839102172740247</td><td>2.5680436040855628</td><td>2.5680436041083743</td><td>False</td><td>False</td></tr>\n",
       "<tr><td>262.65535497665405</td><td>2.419386259557951</td><td>-0.07247289663948153</td><td>-0.28657603435724976</td><td>0.29559794352336854</td><td>-1.8184953759555291</td><td>0.061766803561086624</td><td>0.05528915673153043</td><td>-1.1571415201434732</td><td>-0.07722159172702421</td><td>2.4460202298761122</td><td>-2.7402146725368737</td><td>25.04161160358421</td><td>0.0</td><td>0.0</td><td>0.0</td><td>0.0</td><td>28</td><td>0.23793291499273503</td><td>0.5448153278382516</td><td>0.13981330581941898</td><td>2</td><td>2501</td><td>755409</td><td>-1</td><td>0.15009574592113495</td><td>-0.8236316165452577</td><td>1.2379070520401</td><td>3.1094326972961426</td><td>-211.39434814453125</td><td>-18.715917587280273</td><td>20161.59765625</td><td>101</td><td>3.1415927410125732</td><td>1.2217304706573486</td><td>186.36363220214844</td><td>144.37010704149327</td><td>0.8951273749636425</td><td>1</td><td>-70.93</td><td>-52.07</td><td>43.0</td><td>0</td><td>0.52986485</td><td>-0.0076727145</td><td>0.5299204</td><td>-0.0144795</td><td>1.0</td><td>0.45739198</td><td>-0.29424876</td><td>-1.157034132342793</td><td>0.0696571766556688</td><td>-0.02703527959856586</td><td>0.02092796495154052</td><td>-0.09950817623804739</td><td>-0.26564806940570923</td><td>1.2180541663559037</td><td>3.1141276787913545</td><td>101</td><td>0.02</td><td>True</td><td>1542.769359819517</td><td>1.112883728209802</td><td>0.5804741557737385</td><td>0.5804741559833868</td><td>False</td><td>False</td></tr>\n",
       "<tr><td>220.26553916931152</td><td>2.3429465565275924</td><td>-0.613404243725841</td><td>-0.4849661880195495</td><td>0.7819571406049592</td><td>-2.4726009370951005</td><td>0.08687255623039199</td><td>0.046347426505342244</td><td>-1.2246248580415215</td><td>0.3556138181336095</td><td>2.4939476728008927</td><td>-1.1581383500624947</td><td>24.704539124731454</td><td>0.0</td><td>0.0</td><td>0.0</td><td>0.0</td><td>23</td><td>0.15736624655741366</td><td>0.35534422902003254</td><td>0.08019827821822371</td><td>1</td><td>2501</td><td>766408</td><td>-1</td><td>0.18054428696632385</td><td>-0.7434162495703359</td><td>1.2119600772857666</td><td>3.0799529552459717</td><td>-229.24058532714844</td><td>-124.22032928466797</td><td>17896.79296875</td><td>101</td><td>3.1415927410125732</td><td>1.2217304706573486</td><td>243.3333282470703</td><td>173.97675531496245</td><td>0.5335105643999434</td><td>1</td><td>-70.93</td><td>-52.07</td><td>43.0</td><td>0</td><td>0.35738352</td><td>-0.120837495</td><td>0.37725943</td><td>-0.32604977</td><td>1.0</td><td>-0.25602072</td><td>-0.60580367</td><td>-1.1097026833840657</td><td>0.07767787148712284</td><td>-0.007765651229819513</td><td>-0.06776200671632866</td><td>-0.6211698949556606</td><td>-0.5527281947358782</td><td>1.1990416101418775</td><td>3.0872394647178805</td><td>101</td><td>0.15733333333333333</td><td>True</td><td>1375.8385612334928</td><td>1.345783638860369</td><td>1.7013792738406854</td><td>1.70137927415008</td><td>False</td><td>False</td></tr>\n",
       "<tr><td>...</td><td>...</td><td>...</td><td>...</td><td>...</td><td>...</td><td>...</td><td>...</td><td>...</td><td>...</td><td>...</td><td>...</td><td>...</td><td>...</td><td>...</td><td>...</td><td>...</td><td>...</td><td>...</td><td>...</td><td>...</td><td>...</td><td>...</td><td>...</td><td>...</td><td>...</td><td>...</td><td>...</td><td>...</td><td>...</td><td>...</td><td>...</td><td>...</td><td>...</td><td>...</td><td>...</td><td>...</td><td>...</td><td>...</td><td>...</td><td>...</td><td>...</td><td>...</td><td>...</td><td>...</td><td>...</td><td>...</td><td>...</td><td>...</td><td>...</td><td>...</td><td>...</td><td>...</td><td>...</td><td>...</td><td>...</td><td>...</td><td>...</td><td>...</td><td>...</td><td>...</td><td>...</td><td>...</td><td>...</td><td>...</td><td>...</td><td>...</td></tr>\n",
       "<tr><td>260.8208293914795</td><td>2.416342271601895</td><td>0.2622845708579926</td><td>0.2686299423267113</td><td>0.37544006449047707</td><td>0.7973493706111703</td><td>0.06647223161858354</td><td>0.04927762008307386</td><td>0.6877284906211765</td><td>-0.23279010091626076</td><td>2.0189824466343786</td><td>1.6228581219898697</td><td>25.791577734857107</td><td>0.0</td><td>0.0</td><td>0.0</td><td>0.0</td><td>48</td><td>0.20211397353959643</td><td>0.2831788700550734</td><td>0.09887646465711115</td><td>5</td><td>5000</td><td>8937607</td><td>-1</td><td>0.7969392538070679</td><td>-0.09857478116577865</td><td>1.1919937133789062</td><td>3.1746206283569336</td><td>480.6636047363281</td><td>-225.23074340820312</td><td>25808.373046875</td><td>101</td><td>3.1415927410125732</td><td>1.2217304706573486</td><td>188.3333282470703</td><td>578.135060592292</td><td>0.7413263987559189</td><td>1</td><td>-70.93</td><td>-52.07</td><td>43.0</td><td>0</td><td>-1.0896037</td><td>0.07345728</td><td>1.092077</td><td>-0.067314655</td><td>-1.0</td><td>-0.8273191</td><td>0.3420872</td><td>-1.098782070346155</td><td>0.07965589646862803</td><td>0.006769364434061943</td><td>-0.007496894353984051</td><td>0.26905393529205457</td><td>0.26113304797272724</td><td>1.2312168315506415</td><td>3.169593628582079</td><td>101</td><td>0.04083333333333333</td><td>True</td><td>547.9813362224279</td><td>1.8319024506156856</td><td>0.7672270102933171</td><td>0.7672270104465724</td><td>False</td><td>False</td></tr>\n",
       "<tr><td>273.03028774261475</td><td>2.436210826783879</td><td>-0.1178854074668297</td><td>-0.7643496376699045</td><td>0.7733869263827355</td><td>-1.7238203015845</td><td>0.07173851711103878</td><td>0.05176386805818712</td><td>1.4032423745785743</td><td>0.19537891786242548</td><td>2.262477336587458</td><td>-0.2300530420605173</td><td>25.76988331108723</td><td>0.0</td><td>0.0</td><td>0.0</td><td>0.0</td><td>58</td><td>0.1953292278633966</td><td>0.27451534644015946</td><td>0.09847171013855745</td><td>5</td><td>5000</td><td>9171407</td><td>-1</td><td>2.2986698150634766</td><td>0.3614765929333157</td><td>1.2330551147460938</td><td>3.0228049755096436</td><td>-271.31317138671875</td><td>100.71076965332031</td><td>14874.0361328125</td><td>101</td><td>3.1415927410125732</td><td>1.2217304706573486</td><td>368.6206970214844</td><td>251.9828937354793</td><td>0.721563117593658</td><td>1</td><td>-70.93</td><td>-52.07</td><td>43.0</td><td>0</td><td>0.49642017</td><td>-0.33555526</td><td>0.59919137</td><td>-0.5944021</td><td>1.0</td><td>0.37853476</td><td>-1.0999049</td><td>-1.1774844147144221</td><td>0.06645315201545544</td><td>0.006389789410754465</td><td>0.07224758893300515</td><td>-0.11149561805607523</td><td>-0.6921020487368994</td><td>1.2169192155544102</td><td>3.0702116220526112</td><td>101</td><td>0.059833333333333336</td><td>True</td><td>284.1410068826709</td><td>2.3802044977509063</td><td>1.4344889111541657</td><td>1.434488911729804</td><td>False</td><td>False</td></tr>\n",
       "<tr><td>3559.796245574951</td><td>3.5514251406821793</td><td>-0.4614530993538522</td><td>0.32674920244803046</td><td>0.5654237386276775</td><td>2.525459389912062</td><td>0.24505320825392765</td><td>0.20170203321212604</td><td>1.1854731241552137</td><td>-0.1637047446350778</td><td>2.0939458507222906</td><td>3.057814195519402</td><td>26.59932741217319</td><td>0.0</td><td>0.0</td><td>0.0</td><td>0.0</td><td>278</td><td>0.024871063701892713</td><td>0.37861269708696593</td><td>0.014208912517937993</td><td>4</td><td>5000</td><td>9253501</td><td>-1</td><td>1.107796311378479</td><td>0.04445991474581611</td><td>1.2021986246109009</td><td>3.1770071983337402</td><td>-30.560277938842773</td><td>-43.398136138916016</td><td>20877.6328125</td><td>101</td><td>3.1415927410125732</td><td>1.2217304706573486</td><td>451.88677978515625</td><td>41.29062486166922</td><td>0.8230948480507935</td><td>1</td><td>-70.93</td><td>-52.07</td><td>43.0</td><td>0</td><td>-0.07949191</td><td>0.03053531</td><td>0.08515497</td><td>-0.36675185</td><td>-1.0</td><td>-0.540945</td><td>0.35728452</td><td>-0.19973760688756395</td><td>0.6313386730309537</td><td>-0.01891101236652801</td><td>-0.1583563932131857</td><td>-0.48036411172038024</td><td>0.16839280923484476</td><td>1.204527157467079</td><td>3.158383608859275</td><td>101</td><td>0.0025</td><td>True</td><td>446.7702596856455</td><td>1.326548429164337</td><td>1.041599714036697</td><td>1.0415997140836293</td><td>False</td><td>False</td></tr>\n",
       "<tr><td>26310.047066688538</td><td>4.420121625006449</td><td>-0.8012243801638037</td><td>-0.40992336496392184</td><td>0.8999987069503023</td><td>-2.668691379235036</td><td>0.587737502889159</td><td>0.18500544572191652</td><td>-1.2223293126549895</td><td>-0.24319213574600337</td><td>2.616695238594875</td><td>9.119747338329317</td><td>32.763524199295084</td><td>0.033231504</td><td>0.07464067</td><td>0.005634155502691874</td><td>0.012269938650306749</td><td>899</td><td>0.010591894707928788</td><td>0.42511152006731245</td><td>0.004967315614674671</td><td>4</td><td>5000</td><td>9543308</td><td>-1</td><td>24.67457389831543</td><td>1.3922496616371896</td><td>1.1823358535766602</td><td>3.177462577819824</td><td>35.83711242675781</td><td>-253.74700927734375</td><td>34872.04296875</td><td>101</td><td>3.1415927410125732</td><td>1.2217304706573486</td><td>495.09588623046875</td><td>228.19472508202526</td><td>0.3147756350623869</td><td>1</td><td>-70.93</td><td>-52.07</td><td>43.0</td><td>0</td><td>-0.2954082</td><td>0.7905591</td><td>0.8439489</td><td>-1.2131922</td><td>-1.0</td><td>-1.0966326</td><td>0.38063577</td><td>1.1676373166345781</td><td>14.710834738117313</td><td>-0.36329143276152104</td><td>1.0428491755222786</td><td>-1.1645158129253248</td><td>0.6329258105583568</td><td>1.179511211976003</td><td>3.2008418781671506</td><td>101</td><td>0.044</td><td>True</td><td>65.23108653503586</td><td>2.375282441038971</td><td>2.711963722618136</td><td>2.7119637228722144</td><td>False</td><td>False</td></tr>\n",
       "<tr><td>475.96992778778076</td><td>2.6775795144675643</td><td>-0.5675344435643835</td><td>0.7962940144345807</td><td>0.9778443138129274</td><td>2.190008099518012</td><td>0.14078241359719146</td><td>0.09039470380922576</td><td>-1.239081092094023</td><td>-0.05482172169500523</td><td>2.1245957492275385</td><td>-0.9122599253319961</td><td>25.636038261482046</td><td>0.06553046</td><td>0.09926556</td><td>0.00025040691123075</td><td>0.0005008138224615</td><td>50</td><td>0.05764864640028926</td><td>0.31553469937523954</td><td>0.057924271683851225</td><td>1</td><td>5000</td><td>9599007</td><td>-1</td><td>0.10595348477363586</td><td>-0.9748847549222988</td><td>1.188601016998291</td><td>3.195136785507202</td><td>-40.73445129394531</td><td>92.84452819824219</td><td>22592.205078125</td><td>101</td><td>3.1415927410125732</td><td>1.2217304706573486</td><td>321.6666564941406</td><td>148.026996100576</td><td>0.6420880385519196</td><td>1</td><td>-70.93</td><td>-52.07</td><td>43.0</td><td>0</td><td>-0.34601796</td><td>-0.23707493</td><td>0.4194436</td><td>0.60069126</td><td>-1.0</td><td>-0.9135524</td><td>0.5592191</td><td>-0.16108976408443726</td><td>0.6900971533025368</td><td>0.1724047104759862</td><td>-0.2322972280665336</td><td>-0.39512973308839733</td><td>0.5639967863680471</td><td>1.2070825228143494</td><td>3.198234448410218</td><td>101</td><td>0.0125</td><td>True</td><td>1914.5995423418083</td><td>2.1917106219452105</td><td>1.4091097192923807</td><td>1.409109719681487</td><td>False</td><td>False</td></tr>\n",
       "<tr><td>517.5421333312988</td><td>2.7139457116718186</td><td>0.30906101909702777</td><td>0.5047498986989554</td><td>0.5918540138935438</td><td>1.0213779369088722</td><td>0.23468194405973167</td><td>0.0725435748301085</td><td>0.9115225469879992</td><td>0.030246228634085038</td><td>1.8836409630272621</td><td>-6.12360054716746</td><td>32.12920955924935</td><td>0.0</td><td>0.0</td><td>0.0</td><td>0.0</td><td>94</td><td>0.04163149906540155</td><td>0.41715686818286635</td><td>0.06220007265393197</td><td>3</td><td>5000</td><td>9613300</td><td>-1</td><td>4.117149353027344</td><td>0.6145966216778682</td><td>1.2571319341659546</td><td>3.270627021789551</td><td>-313.68902587890625</td><td>-256.0333557128906</td><td>16176.490234375</td><td>101</td><td>3.1415927410125732</td><td>1.2217304706573486</td><td>309.84375</td><td>317.06938530179735</td><td>0.309114427702391</td><td>1</td><td>-70.93</td><td>-52.07</td><td>43.0</td><td>0</td><td>0.7497168</td><td>0.6080128</td><td>0.9652745</td><td>0.68140626</td><td>1.0</td><td>1.0587778</td><td>1.1127627</td><td>-0.5219625905144943</td><td>0.3006335252755585</td><td>0.32860438594829605</td><td>0.40865241909244365</td><td>0.6376654050453239</td><td>0.913402317791399</td><td>1.2429484676274791</td><td>3.243029444122255</td><td>101</td><td>0.08083333333333334</td><td>True</td><td>197.97005205327065</td><td>3.142658238137473</td><td>2.279352103047746</td><td>2.2793521036781184</td><td>False</td><td>False</td></tr>\n",
       "<tr><td>443.5216269493103</td><td>2.6469148017004285</td><td>0.539133023988108</td><td>0.40763043244582586</td><td>0.6758897743053469</td><td>0.6473841948513758</td><td>0.13498502201813004</td><td>0.06800408708342129</td><td>0.5749299404399991</td><td>-0.23572447357598023</td><td>2.198091466259472</td><td>-7.618898613509281</td><td>29.091984783549947</td><td>0.0</td><td>0.0</td><td>0.0</td><td>0.0</td><td>107</td><td>0.07335956231265763</td><td>0.32767750868705214</td><td>0.05357715001193481</td><td>4</td><td>5000</td><td>9613306</td><td>-1</td><td>4.117149353027344</td><td>0.6145966216778682</td><td>1.2571319341659546</td><td>3.270627021789551</td><td>-244.6824951171875</td><td>-303.4707336425781</td><td>16176.490234375</td><td>101</td><td>3.1415927410125732</td><td>1.2217304706573486</td><td>309.84375</td><td>305.60147002733396</td><td>0.503789872881508</td><td>1</td><td>-70.93</td><td>-52.07</td><td>43.0</td><td>0</td><td>0.5196448</td><td>0.70513225</td><td>0.87592363</td><td>0.9357019</td><td>1.0</td><td>1.0587778</td><td>1.1127627</td><td>-0.6169727285855398</td><td>0.2415612517472373</td><td>0.391934365963828</td><td>0.2344345303222062</td><td>0.931067389951936</td><td>0.642064962768032</td><td>1.254188865227138</td><td>3.215263396489884</td><td>101</td><td>0.135</td><td>True</td><td>197.97005205327065</td><td>3.142658238137473</td><td>2.3141782486623534</td><td>2.314178248969013</td><td>False</td><td>False</td></tr>\n",
       "<tr><td>206.09779024124146</td><td>2.3140733353445695</td><td>-0.13700810893028975</td><td>0.4776272332341068</td><td>0.49688931950638865</td><td>1.8501470963885194</td><td>0.0937594627705971</td><td>0.03582094719670662</td><td>-1.3279134241981643</td><td>0.5089862751228322</td><td>2.3360575803524326</td><td>-4.426790586574349</td><td>24.791214583332785</td><td>0.0</td><td>0.0</td><td>0.0</td><td>0.0</td><td>46</td><td>0.2554000148716485</td><td>0.3447119567630247</td><td>0.15333559393433774</td><td>4</td><td>5000</td><td>9688602</td><td>-1</td><td>0.22877660393714905</td><td>-0.6405883911575441</td><td>1.2247145175933838</td><td>3.1661062240600586</td><td>-141.5157928466797</td><td>2.5382697582244873</td><td>14408.0458984375</td><td>101</td><td>3.1415927410125732</td><td>1.2217304706573486</td><td>341.5555419921875</td><td>89.24358353052055</td><td>0.3820515405932983</td><td>1</td><td>-70.93</td><td>-52.07</td><td>43.0</td><td>0</td><td>0.22324415</td><td>-0.24481753</td><td>0.33132094</td><td>-0.8314564</td><td>1.0</td><td>0.086236045</td><td>0.23280971</td><td>-1.1138405867141412</td><td>0.07694128111692902</td><td>-0.008713913345124297</td><td>0.006574098191238394</td><td>-0.14572202227541406</td><td>0.48420133142534516</td><td>1.2161213208055712</td><td>3.1914046556534403</td><td>101</td><td>0.35979761904761903</td><td>True</td><td>1187.9938851049099</td><td>0.5080239085895386</td><td>1.03470402786153</td><td>1.0347040282522142</td><td>False</td><td>False</td></tr>\n",
       "<tr><td>221.12884616851807</td><td>2.344645399813708</td><td>-0.17445259975980448</td><td>0.5100024499994309</td><td>0.5390141079492972</td><td>1.9003822521383724</td><td>0.052907701316576766</td><td>0.047614715072997416</td><td>-0.8960872614634214</td><td>-0.009892896044386387</td><td>1.9314381477572136</td><td>-0.8496659671922727</td><td>24.921791618284516</td><td>0.0</td><td>0.0</td><td>0.0</td><td>0.0</td><td>18</td><td>0.2474124845283724</td><td>0.24741246727735638</td><td>0.09163862186963656</td><td>1</td><td>5000</td><td>9792401</td><td>-1</td><td>0.6489205360412598</td><td>-0.18780848173849488</td><td>1.2257758378982544</td><td>3.1233105659484863</td><td>-400.309814453125</td><td>462.22674560546875</td><td>22289.142578125</td><td>101</td><td>3.1415927410125732</td><td>1.2217304706573486</td><td>191.90475463867188</td><td>610.7308770601106</td><td>0.8999581136230355</td><td>1</td><td>-70.93</td><td>-52.07</td><td>43.0</td><td>0</td><td>0.28921124</td><td>-0.6831284</td><td>0.7418272</td><td>-1.1703131</td><td>1.0</td><td>0.114758655</td><td>-0.17312597</td><td>-1.1193375580704572</td><td>0.07597355382492015</td><td>0.043473199163815035</td><td>-0.00902958895663522</td><td>-0.13097940059598945</td><td>0.5009728610427957</td><td>1.2166187151463224</td><td>3.1932008553487976</td><td>101</td><td>0.0</td><td>True</td><td>622.4302073791036</td><td>0.42502396802934467</td><td>1.0595838876015353</td><td>1.05958388800993</td><td>False</td><td>False</td></tr>\n",
       "<tr><td>303.2010803222656</td><td>2.481730744378099</td><td>0.6087918390023662</td><td>-0.7826502218618225</td><td>0.9915487244791569</td><td>-0.9097022974484318</td><td>0.11643065442726327</td><td>0.054953775597695105</td><td>0.3835056094078739</td><td>-0.19437017763581066</td><td>1.8881667156701827</td><td>0.6956793404210069</td><td>25.032350395955163</td><td>0.0</td><td>0.0</td><td>0.0</td><td>0.0</td><td>34</td><td>0.057700330277124186</td><td>0.3767388641683743</td><td>0.06426719121418965</td><td>1</td><td>5000</td><td>9844303</td><td>-1</td><td>0.5333027243614197</td><td>-0.27302619773075704</td><td>1.2255420684814453</td><td>3.0345394611358643</td><td>187.5713348388672</td><td>57.540283203125</td><td>21797.1796875</td><td>101</td><td>3.1415927410125732</td><td>1.2217304706573486</td><td>178.23529052734375</td><td>280.7799038183133</td><td>0.47198717440883153</td><td>1</td><td>-70.93</td><td>-52.07</td><td>43.0</td><td>0</td><td>-0.45108816</td><td>-0.23010905</td><td>0.50638986</td><td>0.4717107</td><td>-1.0</td><td>0.15770368</td><td>-1.0127593</td><td>-1.0087548835054334</td><td>0.09800429671475677</td><td>-0.01329696855402614</td><td>0.010891195169924305</td><td>0.59549487044834</td><td>-0.7717590266918982</td><td>1.241891589794843</td><td>3.056186997813953</td><td>101</td><td>0.18966666666666668</td><td>True</td><td>702.9519585754131</td><td>2.0973505493942586</td><td>1.994608028556117</td><td>1.9946080290705346</td><td>False</td><td>False</td></tr>\n",
       "</table>"
      ],
      "text/plain": [
       "<QTable length=184950>\n",
       "    intensity        log_intensity    ... selected_gh selected\n",
       "                                      ...                     \n",
       "     float64            float64       ...     bool      bool  \n",
       "------------------ ------------------ ... ----------- --------\n",
       " 272.9674320220947  2.436110834085337 ...       False    False\n",
       "210.38424968719482 2.3230132234570817 ...       False    False\n",
       " 6699.325170516968  3.826031058002161 ...       False    False\n",
       " 40842.83802986145 4.6111159121094065 ...       False    False\n",
       " 319.2895197868347 2.5041846636899483 ...       False    False\n",
       " 229.2852988243103 2.3603762097924843 ...       False    False\n",
       " 5722.879868507385 3.7576146295372674 ...       False    False\n",
       "262.65535497665405  2.419386259557951 ...       False    False\n",
       "220.26553916931152 2.3429465565275924 ...       False    False\n",
       "               ...                ... ...         ...      ...\n",
       " 260.8208293914795  2.416342271601895 ...       False    False\n",
       "273.03028774261475  2.436210826783879 ...       False    False\n",
       " 3559.796245574951 3.5514251406821793 ...       False    False\n",
       "26310.047066688538  4.420121625006449 ...       False    False\n",
       "475.96992778778076 2.6775795144675643 ...       False    False\n",
       " 517.5421333312988 2.7139457116718186 ...       False    False\n",
       " 443.5216269493103 2.6469148017004285 ...       False    False\n",
       "206.09779024124146 2.3140733353445695 ...       False    False\n",
       "221.12884616851807  2.344645399813708 ...       False    False\n",
       " 303.2010803222656  2.481730744378099 ...       False    False"
      ]
     },
     "execution_count": 41,
     "metadata": {},
     "output_type": "execute_result"
    }
   ],
   "source": [
    "protons"
   ]
  },
  {
   "cell_type": "code",
   "execution_count": 42,
   "id": "looking-workstation",
   "metadata": {},
   "outputs": [
    {
     "name": "stdout",
     "output_type": "stream",
     "text": [
      "sensitivity.hdf5 saved as /fefs/home/david.miranda/data/sensitivity/mabel_sensitivity.h5\n"
     ]
    }
   ],
   "source": [
    "output_data_file = '/fefs/home/david.miranda/data/sensitivity/mabel_sensitivity.h5'\n",
    "sensitivity_mc.write(output_data_file, path='sensitivity/standard', serialize_meta=True)\n",
    "gammas.write(output_data_file, path='events/gamma_on', serialize_meta=True, append=True)\n",
    "protons.write(output_data_file, path='events/proton', serialize_meta=True, append=True)\n",
    "\n",
    "proton_hist.write(output_data_file, path='histogram/proton', serialize_meta=True, append=True)\n",
    "gamma_hist.write(output_data_file, path='histogram/gamma_on', serialize_meta=True, append=True)\n",
    "\n",
    "print(\"sensitivity.hdf5 saved as {}\".format(output_data_file))"
   ]
  },
  {
   "cell_type": "code",
   "execution_count": null,
   "id": "fifty-stream",
   "metadata": {},
   "outputs": [],
   "source": []
  }
 ],
 "metadata": {
  "kernelspec": {
   "display_name": "Python 3",
   "language": "python",
   "name": "python3"
  },
  "language_info": {
   "codemirror_mode": {
    "name": "ipython",
    "version": 3
   },
   "file_extension": ".py",
   "mimetype": "text/x-python",
   "name": "python",
   "nbconvert_exporter": "python",
   "pygments_lexer": "ipython3",
   "version": "3.7.9"
  }
 },
 "nbformat": 4,
 "nbformat_minor": 5
}
