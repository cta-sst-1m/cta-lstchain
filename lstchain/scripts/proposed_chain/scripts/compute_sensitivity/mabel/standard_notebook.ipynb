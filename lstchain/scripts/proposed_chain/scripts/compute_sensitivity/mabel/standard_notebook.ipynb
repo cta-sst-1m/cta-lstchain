{
 "cells": [
  {
   "cell_type": "code",
   "execution_count": 1,
   "id": "turkish-starter",
   "metadata": {},
   "outputs": [
    {
     "name": "stderr",
     "output_type": "stream",
     "text": [
      "/Users/davidsudm/opt/anaconda3/envs/cta-lstchain_sipm.v.0.6.3_pyirf.v.0.4/lib/python3.7/site-packages/ctapipe/tools/stage1.py:11: TqdmExperimentalWarning: Using `tqdm.autonotebook.tqdm` in notebook mode. Use `tqdm.tqdm` instead to force console mode (e.g. in jupyter console)\n",
      "  from tqdm.autonotebook import tqdm\n"
     ]
    }
   ],
   "source": [
    "from lstchain.io.io import read_dl2_to_pyirf, dl2_params_lstcam_key\n",
    "import logging\n",
    "import operator\n",
    "from lstchain.mc import plot_utils\n",
    "import os\n",
    "import numpy as np\n",
    "from astropy import table\n",
    "import astropy.units as u\n",
    "from astropy.io import fits\n",
    "import matplotlib.pyplot as plt\n",
    "from astropy.table import QTable\n",
    "import pandas as pd\n",
    "\n",
    "from pyirf.io.eventdisplay import read_eventdisplay_fits\n",
    "from pyirf.binning import (\n",
    "    create_bins_per_decade,\n",
    "    add_overflow_bins,\n",
    "    create_histogram_table,\n",
    ")\n",
    "from pyirf.cuts import calculate_percentile_cut, evaluate_binned_cut\n",
    "from pyirf.sensitivity import calculate_sensitivity\n",
    "from pyirf.utils import calculate_theta, calculate_source_fov_offset\n",
    "from pyirf.benchmarks import energy_bias_resolution, angular_resolution\n",
    "\n",
    "from pyirf.cuts import calculate_percentile_cut, evaluate_binned_cut\n",
    "from pyirf.sensitivity import calculate_sensitivity, estimate_background\n",
    "from pyirf.utils import calculate_theta, calculate_source_fov_offset\n",
    "from pyirf.benchmarks import energy_bias_resolution, angular_resolution\n",
    "\n",
    "from pyirf.spectral import (\n",
    "    calculate_event_weights,\n",
    "    PowerLaw,\n",
    "    CRAB_HEGRA,\n",
    "    IRFDOC_PROTON_SPECTRUM\n",
    ")\n",
    "from pyirf.cut_optimization import optimize_gh_cut\n",
    "\n",
    "from pyirf.irf import (\n",
    "    effective_area_per_energy,\n",
    "    energy_dispersion,\n",
    "    psf_table,\n",
    "    background_2d,\n",
    ")\n",
    "\n",
    "from pyirf.io import (\n",
    "    create_aeff2d_hdu,\n",
    "    create_psf_table_hdu,\n",
    "    create_energy_dispersion_hdu,\n",
    "    create_rad_max_hdu,\n",
    "    create_background_2d_hdu,\n",
    ")\n",
    "\n",
    "log = logging.getLogger(\"pyirf\")"
   ]
  },
  {
   "cell_type": "code",
   "execution_count": 2,
   "id": "hazardous-liberal",
   "metadata": {},
   "outputs": [],
   "source": [
    "def get_obstime_real(events):\n",
    "    \"\"\"Calculate the effective observation time\"\"\"\n",
    "    deltat = np.diff(events.dragon_time)\n",
    "    rate=1/np.mean(deltat[(deltat > 0) & (deltat < 0.1)])\n",
    "    dead_time = np.amin(deltat)\n",
    "    t_elapsed = events.shape[0]/rate * u.s\n",
    "    total_dead_time=events.shape[0]*dead_time\n",
    "    t_eff = t_elapsed/(1+rate*dead_time)\n",
    "    print(\"ELAPSED TIME: %.2f s\\n\" % t_elapsed.to_value(),\n",
    "          \"EFFECTIVE TIME: %.2f s\\n\" % t_eff.to_value(),\n",
    "          \"DEAD TIME: %0.2E s\\n\" % dead_time,\n",
    "          \"TOTAL DEAD TIME: %.2f s\\n\" % total_dead_time, \n",
    "          \"RATE: %.2f 1/s\\n\" % rate\n",
    "    )\n",
    "\n",
    "    return t_eff\n",
    "\n",
    "\n",
    "def read_real_dl2_to_pyirf(filename):\n",
    "    \"\"\"\n",
    "    Read DL2 files of real data from lstchain and convert into pyirf internal format\n",
    "    Parameters\n",
    "    ----------\n",
    "    filename: path\n",
    "    Returns\n",
    "    -------\n",
    "    `astropy.table.QTable`, `pyirf.simulations.SimulatedEventsInfo`\n",
    "    \"\"\"\n",
    "\n",
    "    ## mapping\n",
    "    name_mapping = {\n",
    "        'alt_tel': 'pointing_alt',\n",
    "        'az_tel': 'pointing_az',\n",
    "        'gammaness': 'gh_score',\n",
    "    }\n",
    "\n",
    "    unit_mapping = {\n",
    "        'reco_energy': u.TeV,\n",
    "        'pointing_alt': u.rad,\n",
    "        'pointing_az': u.rad,\n",
    "        'reco_alt': u.rad,\n",
    "        'reco_az': u.rad,\n",
    "    }\n",
    "\n",
    "    events = pd.read_hdf(filename, key=dl2_params_lstcam_key).rename(columns=name_mapping)\n",
    "    \n",
    "    obstime_real = get_obstime_real(events) #Calculate effective observation time\n",
    "    \n",
    "    events = events\n",
    "    events = table.QTable.from_pandas(events)\n",
    "\n",
    "    for k, v in unit_mapping.items():\n",
    "        events[k] *= v\n",
    "\n",
    "    return events, obstime_real"
   ]
  },
  {
   "cell_type": "code",
   "execution_count": 3,
   "id": "built-stable",
   "metadata": {},
   "outputs": [],
   "source": [
    "#Observation time for sensitivity\n",
    "T_OBS = 50 * u.hour\n",
    "# scaling between on and off region.\n",
    "# Make off region 5 times larger than on region for better\n",
    "# background statistics\n",
    "ALPHA = 1/5\n",
    "\n",
    "# Radius to use for calculating bg rate\n",
    "MAX_BG_RADIUS = 1.0 * u.deg\n",
    "\n",
    "# gamma efficiency used for first calculation of the binned theta cuts\n",
    "# initial theta cuts are calculated using a fixed g/h cut corresponding to this efficiency\n",
    "# then g/h cuts are optimized after applying these initial theta cuts. \n",
    "INITIAL_GH_CUT_EFFICENCY = 0.5\n",
    "\n",
    "#gamma efficiency used for gh cuts calculation\n",
    "MAX_GH_CUT_EFFICIENCY = 1.0 # Mabel put 0.8\n",
    "GH_CUT_EFFICIENCY_STEP = 0.01\n",
    "\n",
    "#Number of energy bins\n",
    "N_EBINS = 20\n",
    "#Energy range\n",
    "EMIN=0.05  #TeV\n",
    "EMAX=50  #TeV\n",
    "\n",
    "#Fixed cuts\n",
    "INTENSITY_CUT = 100\n",
    "LEAKAGE2_CUT = 0.2\n"
   ]
  },
  {
   "cell_type": "code",
   "execution_count": 4,
   "id": "bearing-benefit",
   "metadata": {},
   "outputs": [],
   "source": [
    "# --dl2_gamma_test /Users/davidsudm/Desktop/dl2_files/data/dl2_gamma_on_merge.h5\n",
    "# --dl2_proton_test /Users/davidsudm/Desktop/dl2_files/data/dl2_proton_merge_test.h5\n",
    "# --output_dir /Users/davidsudm/Desktop/dl2_files/david\n",
    "# --intensity_cut 200 --leakage_cut 0.2\n",
    "\n",
    "path_to_data = '/Users/davidsudm/Desktop/dl2_files/data/'\n",
    "\n",
    "file_gammas = os.path.join(path_to_data, 'dl2_gamma_on_merge.h5')\n",
    "file_protons = os.path.join(path_to_data, 'dl2_proton_merge_test.h5')\n",
    "\n",
    "#file_on = \"/home/queenmab/DATA/LST/ON/Run2007_on.h5\"\n",
    "#file_off = \"/home/queenmab/DATA/LST/OFF.h5\""
   ]
  },
  {
   "cell_type": "code",
   "execution_count": 5,
   "id": "detailed-environment",
   "metadata": {},
   "outputs": [
    {
     "name": "stderr",
     "output_type": "stream",
     "text": [
      "Table '/simulation/run_config' has column 'obs_id' that is not in container MCHeaderContainer. It will be skipped\n",
      "Table '/simulation/run_config' has column 'obs_id' that is not in container MCHeaderContainer. It will be skipped\n"
     ]
    }
   ],
   "source": [
    "events_g, simu_info_g = read_dl2_to_pyirf(file_gammas)\n",
    "events_p, simu_info_p = read_dl2_to_pyirf(file_protons)"
   ]
  },
  {
   "cell_type": "code",
   "execution_count": 6,
   "id": "clinical-irrigation",
   "metadata": {},
   "outputs": [],
   "source": [
    "for events in (events_g, events_p):\n",
    "        events['good_events'] = (events['intensity']>=INTENSITY_CUT) & \\\n",
    "        (events['leakage_intensity_width_2']<=LEAKAGE2_CUT)"
   ]
  },
  {
   "cell_type": "code",
   "execution_count": 7,
   "id": "pleasant-covering",
   "metadata": {},
   "outputs": [],
   "source": [
    "particles = {\n",
    "         \"gamma\": {\n",
    "                \"events\": events_g[events_g['good_events']],\n",
    "                \"simulation_info\": simu_info_g,\n",
    "                \"target_spectrum\": CRAB_HEGRA\n",
    "            },\n",
    "        \"proton\": {\n",
    "                \"events\": events_p[events_p['good_events']],\n",
    "                \"simulation_info\": simu_info_p,\n",
    "                \"target_spectrum\": IRFDOC_PROTON_SPECTRUM\n",
    "            }\n",
    "        }"
   ]
  },
  {
   "cell_type": "code",
   "execution_count": 8,
   "id": "binding-singer",
   "metadata": {},
   "outputs": [],
   "source": [
    "# Manage MC gammas:\n",
    "#Get simulated spectrum\n",
    "particles[\"gamma\"][\"simulated_spectrum\"] = PowerLaw.from_simulation(particles[\"gamma\"][\"simulation_info\"], \n",
    "                                                                    T_OBS)\n",
    "#Reweight to target spectrum (Crab Hegra)\n",
    "particles[\"gamma\"][\"events\"][\"weight\"] = calculate_event_weights(\n",
    "        particles[\"gamma\"][\"events\"][\"true_energy\"], \n",
    "        particles[\"gamma\"][\"target_spectrum\"], \n",
    "        particles[\"gamma\"][\"simulated_spectrum\"]\n",
    "        )\n",
    "for prefix in ('true', 'reco'):\n",
    "    k = f\"{prefix}_source_fov_offset\"\n",
    "    particles[\"gamma\"][\"events\"][k] = calculate_source_fov_offset(particles[\"gamma\"][\"events\"], prefix=prefix) \n",
    "particles[\"gamma\"][\"events\"][\"source_fov_offset\"] = calculate_source_fov_offset(particles[\"gamma\"][\"events\"])\n",
    "# calculate theta / distance between reco and assumed source position\n",
    "# we handle only ON observations here, so the assumed source position\n",
    "# is the pointing position\n",
    "particles[\"gamma\"][\"events\"][\"theta\"] = calculate_theta(\n",
    "        particles[\"gamma\"][\"events\"],\n",
    "        assumed_source_az=particles[\"gamma\"][\"events\"][\"true_az\"],\n",
    "        assumed_source_alt=particles[\"gamma\"][\"events\"][\"true_alt\"],\n",
    "        )"
   ]
  },
  {
   "cell_type": "code",
   "execution_count": 9,
   "id": "essential-duplicate",
   "metadata": {},
   "outputs": [],
   "source": [
    "# Manage MC protons:\n",
    "#Get simulated spectrum\n",
    "particles[\"proton\"][\"simulated_spectrum\"] = PowerLaw.from_simulation(particles[\"proton\"][\"simulation_info\"], \n",
    "                                                                    T_OBS)\n",
    "#Reweight to target spectrum:\n",
    "particles[\"proton\"][\"events\"][\"weight\"] = calculate_event_weights(\n",
    "        particles[\"proton\"][\"events\"][\"true_energy\"], \n",
    "        particles[\"proton\"][\"target_spectrum\"], \n",
    "        particles[\"proton\"][\"simulated_spectrum\"]\n",
    "        )\n",
    "for prefix in ('true', 'reco'):\n",
    "    k = f\"{prefix}_source_fov_offset\"\n",
    "    particles[\"proton\"][\"events\"][k] = calculate_source_fov_offset(particles[\"proton\"][\"events\"], prefix=prefix)        \n",
    "# calculate theta / distance between reco and assumed source position\n",
    "# we handle only ON observations here, so the assumed source position\n",
    "# is the pointing position\n",
    "particles[\"proton\"][\"events\"][\"theta\"] = calculate_theta(\n",
    "        particles[\"proton\"][\"events\"],\n",
    "        assumed_source_az=particles[\"proton\"][\"events\"][\"pointing_az\"],\n",
    "        assumed_source_alt=particles[\"proton\"][\"events\"][\"pointing_alt\"],\n",
    "        )"
   ]
  },
  {
   "cell_type": "code",
   "execution_count": 10,
   "id": "right-africa",
   "metadata": {},
   "outputs": [],
   "source": [
    "#Get events\n",
    "gammas = particles[\"gamma\"][\"events\"]\n",
    "protons = particles[\"proton\"][\"events\"]"
   ]
  },
  {
   "cell_type": "code",
   "execution_count": 11,
   "id": "typical-burning",
   "metadata": {},
   "outputs": [],
   "source": [
    "#Sensitivity energy bins\n",
    "sensitivity_bins = np.logspace(np.log10(EMIN),\n",
    "    np.log10(EMAX), N_EBINS + 1) * u.TeV"
   ]
  },
  {
   "cell_type": "code",
   "execution_count": 12,
   "id": "similar-present",
   "metadata": {},
   "outputs": [],
   "source": [
    "signal=gammas\n",
    "background=protons"
   ]
  },
  {
   "cell_type": "code",
   "execution_count": 13,
   "id": "variable-merchant",
   "metadata": {},
   "outputs": [
    {
     "data": {
      "text/plain": [
       "0.373547619047619"
      ]
     },
     "execution_count": 13,
     "metadata": {},
     "output_type": "execute_result"
    }
   ],
   "source": [
    "#Calculate an initial GH cut for calculating initial theta cuts, based on INITIAL_GH_CUT_EFFICIENCY\n",
    "INITIAL_GH_CUT = np.quantile(signal['gh_score'], (1 - INITIAL_GH_CUT_EFFICENCY))\n",
    "INITIAL_GH_CUT"
   ]
  },
  {
   "cell_type": "code",
   "execution_count": 14,
   "id": "appreciated-remainder",
   "metadata": {},
   "outputs": [],
   "source": [
    "# theta cut is 68 percent containmente of the gammas\n",
    "# for now with a fixed global, unoptimized score cut\n",
    "mask_theta_cuts = signal[\"gh_score\"] >= INITIAL_GH_CUT\n",
    "theta_cuts = calculate_percentile_cut(\n",
    "        signal[\"theta\"][mask_theta_cuts],\n",
    "        signal[\"reco_energy\"][mask_theta_cuts],\n",
    "        bins=sensitivity_bins,\n",
    "        fill_value=np.nan * u.deg,\n",
    "        percentile=68,\n",
    ")"
   ]
  },
  {
   "cell_type": "code",
   "execution_count": 15,
   "id": "strange-cambodia",
   "metadata": {},
   "outputs": [],
   "source": [
    "# evaluate the initial theta cut\n",
    "signal[\"selected_theta\"] = evaluate_binned_cut(\n",
    "    signal[\"theta\"], signal[\"reco_energy\"], theta_cuts, operator.le\n",
    "    )"
   ]
  },
  {
   "cell_type": "code",
   "execution_count": 16,
   "id": "valuable-reverse",
   "metadata": {},
   "outputs": [
    {
     "name": "stderr",
     "output_type": "stream",
     "text": [
      "  0%|          | 0/100 [00:00<?, ?it/s]Could not calculate relative significance for n_signal=0.0, n_off=0.0, returning nan f(a) and f(b) must have different signs\n",
      "  1%|          | 1/100 [00:00<00:20,  4.72it/s]Could not calculate relative significance for n_signal=0.0, n_off=0.0, returning nan f(a) and f(b) must have different signs\n",
      "  2%|▏         | 2/100 [00:00<00:20,  4.75it/s]Could not calculate relative significance for n_signal=0.0, n_off=0.0, returning nan f(a) and f(b) must have different signs\n",
      "  3%|▎         | 3/100 [00:00<00:20,  4.73it/s]Could not calculate relative significance for n_signal=0.0, n_off=0.0, returning nan f(a) and f(b) must have different signs\n",
      "  4%|▍         | 4/100 [00:00<00:20,  4.58it/s]Could not calculate relative significance for n_signal=0.0, n_off=0.0, returning nan f(a) and f(b) must have different signs\n",
      "  5%|▌         | 5/100 [00:01<00:20,  4.53it/s]Could not calculate relative significance for n_signal=0.0, n_off=0.0, returning nan f(a) and f(b) must have different signs\n",
      "  6%|▌         | 6/100 [00:01<00:21,  4.42it/s]Could not calculate relative significance for n_signal=0.0, n_off=0.0, returning nan f(a) and f(b) must have different signs\n",
      "100%|██████████| 100/100 [00:37<00:00,  2.64it/s]\n"
     ]
    }
   ],
   "source": [
    "log.info(\"Optimizing G/H separation cut for best sensitivity\")\n",
    "gh_cut_efficiencies = np.arange(\n",
    "        GH_CUT_EFFICIENCY_STEP,\n",
    "        MAX_GH_CUT_EFFICIENCY + GH_CUT_EFFICIENCY_STEP / 2,\n",
    "        GH_CUT_EFFICIENCY_STEP\n",
    ")\n",
    "sensitivity_step_2, gh_cuts = optimize_gh_cut(\n",
    "    signal[signal[\"selected_theta\"]],\n",
    "    background,\n",
    "    reco_energy_bins=sensitivity_bins,\n",
    "    gh_cut_efficiencies=gh_cut_efficiencies,\n",
    "    theta_cuts=theta_cuts,\n",
    "    op=operator.ge,\n",
    "    alpha=ALPHA,\n",
    "    background_radius=MAX_BG_RADIUS,\n",
    ")"
   ]
  },
  {
   "cell_type": "code",
   "execution_count": 17,
   "id": "secure-scratch",
   "metadata": {},
   "outputs": [],
   "source": [
    "#Evaluate gh cut\n",
    "for tab in (gammas, protons):\n",
    "    tab[\"selected_gh\"] = evaluate_binned_cut(\n",
    "    tab[\"gh_score\"], tab[\"reco_energy\"], gh_cuts, operator.ge\n",
    "    )"
   ]
  },
  {
   "cell_type": "code",
   "execution_count": 18,
   "id": "neutral-bosnia",
   "metadata": {},
   "outputs": [],
   "source": [
    "#Evaluate gh cut:\n",
    "for tab in (gammas, protons):\n",
    "    tab[\"selected_gh\"] = evaluate_binned_cut(\n",
    "    tab[\"gh_score\"], tab[\"reco_energy\"], gh_cuts, operator.ge\n",
    "    )\n",
    "\n",
    "theta_cuts_opt = calculate_percentile_cut(\n",
    "    gammas[gammas[\"selected_gh\"]][\"theta\"],\n",
    "    gammas[gammas[\"selected_gh\"]][\"reco_energy\"],\n",
    "    sensitivity_bins,\n",
    "    percentile=68,\n",
    "    fill_value=0.32 * u.deg,\n",
    "    )"
   ]
  },
  {
   "cell_type": "code",
   "execution_count": 19,
   "id": "alert-paragraph",
   "metadata": {},
   "outputs": [],
   "source": [
    "gammas[\"selected_theta\"] = evaluate_binned_cut(\n",
    "        gammas[\"theta\"], gammas[\"reco_energy\"], theta_cuts_opt, operator.le\n",
    "    )\n",
    "gammas[\"selected\"] = gammas[\"selected_theta\"] & gammas[\"selected_gh\"]\n",
    "\n",
    "protons[\"selected\"] =  protons[\"selected_gh\"]"
   ]
  },
  {
   "cell_type": "code",
   "execution_count": 20,
   "id": "least-secretary",
   "metadata": {},
   "outputs": [],
   "source": [
    "gamma_hist = create_histogram_table(\n",
    "    gammas[gammas[\"selected\"]], bins=sensitivity_bins\n",
    "    )    \n",
    "proton_hist = estimate_background(\n",
    "    protons[protons[\"selected\"]],\n",
    "    reco_energy_bins=sensitivity_bins,\n",
    "    theta_cuts=theta_cuts_opt,\n",
    "    alpha=ALPHA,\n",
    "    background_radius=MAX_BG_RADIUS,\n",
    "    )"
   ]
  },
  {
   "cell_type": "code",
   "execution_count": 21,
   "id": "tight-discussion",
   "metadata": {},
   "outputs": [
    {
     "name": "stderr",
     "output_type": "stream",
     "text": [
      "Could not calculate relative significance for n_signal=0.0, n_off=0.0, returning nan f(a) and f(b) must have different signs\n"
     ]
    },
    {
     "data": {
      "text/html": [
       "<i>QTable length=20</i>\n",
       "<table id=\"table140355255692432\" class=\"table-striped table-bordered table-condensed\">\n",
       "<thead><tr><th>reco_energy_low</th><th>reco_energy_high</th><th>reco_energy_center</th><th>n_signal</th><th>n_signal_weighted</th><th>n_background</th><th>n_background_weighted</th><th>significance</th><th>relative_sensitivity</th></tr></thead>\n",
       "<thead><tr><th>TeV</th><th>TeV</th><th>TeV</th><th></th><th></th><th></th><th></th><th></th><th></th></tr></thead>\n",
       "<thead><tr><th>float64</th><th>float64</th><th>float64</th><th>float64</th><th>float64</th><th>float64</th><th>float64</th><th>float64</th><th>float64</th></tr></thead>\n",
       "<tr><td>0.049999999999999996</td><td>0.0706268772311377</td><td>0.06031343861556884</td><td>159.74247434863332</td><td>367.1886811067119</td><td>20.554420242753004</td><td>21764.388703206707</td><td>5.00000000000058</td><td>0.28886523390349605</td></tr>\n",
       "<tr><td>0.0706268772311377</td><td>0.09976311574844397</td><td>0.08519499648979084</td><td>297.7419280893258</td><td>533.9805257332623</td><td>48.771422428260976</td><td>46491.370025470256</td><td>5.0000000000010685</td><td>0.0978127227625906</td></tr>\n",
       "<tr><td>0.09976311574844397</td><td>0.14091914656322266</td><td>0.12034113115583331</td><td>347.72500492380607</td><td>519.9648647200569</td><td>51.86162496811322</td><td>44056.664636752874</td><td>5.000000000001194</td><td>0.042524765185741234</td></tr>\n",
       "<tr><td>0.14091914656322266</td><td>0.1990535852767486</td><td>0.16998636591998562</td><td>363.5317673287138</td><td>447.7294777985911</td><td>44.714025320775804</td><td>32546.819240453955</td><td>4.99999999999942</td><td>0.024006588346345756</td></tr>\n",
       "<tr><td>0.1990535852767486</td><td>0.2811706625951745</td><td>0.24011212393596154</td><td>244.03251713447872</td><td>243.3518658626035</td><td>15.095580445027675</td><td>9403.917891233823</td><td>4.9999999999999885</td><td>0.019997747859909754</td></tr>\n",
       "<tr><td>0.2811706625951745</td><td>0.39716411736214063</td><td>0.3391673899786576</td><td>263.5173891499171</td><td>212.20539113632907</td><td>12.862688306684396</td><td>7099.63301486776</td><td>4.999999999999528</td><td>0.01916211381253033</td></tr>\n",
       "<tr><td>0.39716411736214063</td><td>0.5610092271509817</td><td>0.47908667225656115</td><td>65.4514990312147</td><td>42.224680468394126</td><td>0.4661477761669373</td><td>221.72469855975416</td><td>4.999999999999993</td><td>0.017892700664629495</td></tr>\n",
       "<tr><td>0.5610092271509817</td><td>0.7924465962305566</td><td>0.6767279116907692</td><td>29.443326760147695</td><td>15.255238005262616</td><td>0.0458006067856371</td><td>15.14083139801665</td><td>4.999999999999998</td><td>0.01685365012029061</td></tr>\n",
       "<tr><td>0.7924465962305566</td><td>1.1193605692841693</td><td>0.955903582757363</td><td>66.60070264942281</td><td>27.936058377248923</td><td>0.21883310980876058</td><td>82.20822142420518</td><td>5.000000000006124</td><td>0.019880806761021736</td></tr>\n",
       "<tr><td>1.1193605692841693</td><td>1.5811388300841895</td><td>1.3502496996841793</td><td>113.84995341649652</td><td>38.46183174870451</td><td>0.6683359658313377</td><td>178.39620633206394</td><td>4.999999999999998</td><td>0.032215606512873945</td></tr>\n",
       "<tr><td>1.5811388300841895</td><td>2.233417960754815</td><td>1.9072783954195023</td><td>36.26507279998253</td><td>9.999999999999998</td><td>0.0</td><td>0.0</td><td>5.98625002690007</td><td>0.03781550865483059</td></tr>\n",
       "<tr><td>2.233417960754815</td><td>3.1547867224009645</td><td>2.6941023415778895</td><td>44.93731793119635</td><td>10.0</td><td>0.0</td><td>0.0</td><td>5.986250026900071</td><td>0.03907592863582291</td></tr>\n",
       "<tr><td>3.1547867224009645</td><td>4.456254690668727</td><td>3.8055207065348458</td><td>83.31581618716537</td><td>15.023579905077783</td><td>0.09527358488193</td><td>14.4092778653284</td><td>4.999999999999999</td><td>0.0802657188701015</td></tr>\n",
       "<tr><td>4.456254690668727</td><td>6.294627058970836</td><td>5.375440874819782</td><td>68.72630151350619</td><td>10.0</td><td>0.0</td><td>0.0</td><td>5.986250026900071</td><td>0.09126998872975589</td></tr>\n",
       "<tr><td>6.294627058970836</td><td>8.891397050194612</td><td>7.593012054582724</td><td>84.6705349158447</td><td>10.0</td><td>0.0</td><td>0.0</td><td>5.986250026900071</td><td>0.1359077606995902</td></tr>\n",
       "<tr><td>8.891397050194612</td><td>12.559432157547896</td><td>10.725414603871254</td><td>105.58030161667742</td><td>10.0</td><td>0.0</td><td>0.0</td><td>5.986250026900071</td><td>0.2399552309469941</td></tr>\n",
       "<tr><td>12.559432157547896</td><td>17.740669461678763</td><td>15.15005080961333</td><td>134.17569478625072</td><td>10.000000000000002</td><td>0.0</td><td>0.0</td><td>5.986250026900072</td><td>0.4259545866230181</td></tr>\n",
       "<tr><td>17.740669461678763</td><td>25.059361681363594</td><td>21.40001557152118</td><td>166.1985537772842</td><td>10.0</td><td>0.0</td><td>0.0</td><td>5.986250026900071</td><td>0.7914216846537343</td></tr>\n",
       "<tr><td>25.059361681363594</td><td>35.3972892192069</td><td>30.228325450285247</td><td>nan</td><td>nan</td><td>0.0</td><td>0.0</td><td>nan</td><td>nan</td></tr>\n",
       "<tr><td>35.3972892192069</td><td>49.99999999999999</td><td>42.69864460960345</td><td>nan</td><td>nan</td><td>0.0</td><td>0.0</td><td>nan</td><td>nan</td></tr>\n",
       "</table>"
      ],
      "text/plain": [
       "<QTable length=20>\n",
       "  reco_energy_low      reco_energy_high  ... relative_sensitivity\n",
       "        TeV                  TeV         ...                     \n",
       "      float64              float64       ...       float64       \n",
       "-------------------- ------------------- ... --------------------\n",
       "0.049999999999999996  0.0706268772311377 ...  0.28886523390349605\n",
       "  0.0706268772311377 0.09976311574844397 ...   0.0978127227625906\n",
       " 0.09976311574844397 0.14091914656322266 ... 0.042524765185741234\n",
       " 0.14091914656322266  0.1990535852767486 ... 0.024006588346345756\n",
       "  0.1990535852767486  0.2811706625951745 ... 0.019997747859909754\n",
       "  0.2811706625951745 0.39716411736214063 ...  0.01916211381253033\n",
       " 0.39716411736214063  0.5610092271509817 ... 0.017892700664629495\n",
       "  0.5610092271509817  0.7924465962305566 ...  0.01685365012029061\n",
       "  0.7924465962305566  1.1193605692841693 ... 0.019880806761021736\n",
       "  1.1193605692841693  1.5811388300841895 ... 0.032215606512873945\n",
       "  1.5811388300841895   2.233417960754815 ...  0.03781550865483059\n",
       "   2.233417960754815  3.1547867224009645 ...  0.03907592863582291\n",
       "  3.1547867224009645   4.456254690668727 ...   0.0802657188701015\n",
       "   4.456254690668727   6.294627058970836 ...  0.09126998872975589\n",
       "   6.294627058970836   8.891397050194612 ...   0.1359077606995902\n",
       "   8.891397050194612  12.559432157547896 ...   0.2399552309469941\n",
       "  12.559432157547896  17.740669461678763 ...   0.4259545866230181\n",
       "  17.740669461678763  25.059361681363594 ...   0.7914216846537343\n",
       "  25.059361681363594    35.3972892192069 ...                  nan\n",
       "    35.3972892192069   49.99999999999999 ...                  nan"
      ]
     },
     "execution_count": 21,
     "metadata": {},
     "output_type": "execute_result"
    }
   ],
   "source": [
    "sensitivity_mc = calculate_sensitivity(\n",
    "    gamma_hist, proton_hist, alpha=ALPHA\n",
    ")\n",
    "sensitivity_mc"
   ]
  },
  {
   "cell_type": "code",
   "execution_count": 22,
   "id": "chief-carrier",
   "metadata": {},
   "outputs": [],
   "source": [
    "# scale relative sensitivity by Crab flux to get the flux sensitivity\n",
    "spectrum = particles['gamma']['target_spectrum']"
   ]
  },
  {
   "cell_type": "code",
   "execution_count": 23,
   "id": "aggressive-resolution",
   "metadata": {},
   "outputs": [],
   "source": [
    "sensitivity_mc[\"flux_sensitivity\"] = sensitivity_mc[\"relative_sensitivity\"] * spectrum(sensitivity_mc[\"reco_energy_center\"])"
   ]
  },
  {
   "cell_type": "code",
   "execution_count": 24,
   "id": "worse-processor",
   "metadata": {},
   "outputs": [
    {
     "data": {
      "image/png": "[encoded data removed]",
      "text/plain": [
       "<Figure size 864x576 with 1 Axes>"
      ]
     },
     "metadata": {
      "needs_background": "light"
     },
     "output_type": "display_data"
    }
   ],
   "source": [
    "plt.figure(figsize=(12,8))\n",
    "ax=plt.axes()\n",
    "unit = u.Unit('TeV cm-2 s-1')\n",
    "\n",
    "e = sensitivity_mc['reco_energy_center']\n",
    "\n",
    "s_mc = (e**2 * sensitivity_mc['flux_sensitivity'])\n",
    "\n",
    "plt.errorbar(\n",
    "    e.to_value(u.GeV),\n",
    "    s_mc.to_value(unit),\n",
    "    xerr=(sensitivity_mc['reco_energy_high'] - sensitivity_mc['reco_energy_low']).to_value(u.GeV) / 2,\n",
    "    label='MC gammas/protons',\n",
    "    )\n",
    "\n",
    "#Plot magic sensitivity\n",
    "s = np.loadtxt('/Users/davidsudm/software/cta-lstchain_sipm.v.0.6.3/lstchain/spectra/data/magic_sensitivity.txt', skiprows = 1)\n",
    "ax.loglog(s[:,0], s[:,3] * np.power(s[:,0]/ 1e3, 2),\n",
    "              color = 'black', label = 'MAGIC (Aleksic et al. 2014)')\n",
    "\n",
    "#Plot Crab SED\n",
    "plot_utils.plot_Crab_SED(ax, 100, 5*u.GeV, 1e4*u.GeV, label=\"100% Crab\") #Energy in GeV\n",
    "plot_utils.plot_Crab_SED(ax, 10, 5*u.GeV, 1e4*u.GeV, linestyle='--', label=\"10% Crab\") #Energy in GeV\n",
    "plot_utils.plot_Crab_SED(ax, 1, 5*u.GeV, 1e4*u.GeV, linestyle=':', label=\"1% Crab\") #Energy in GeV\n",
    "\n",
    "\n",
    "# Style settings\n",
    "plt.title('Minimal Flux Needed for 5σ Detection in 50 hours')\n",
    "plt.xscale(\"log\")\n",
    "plt.yscale(\"log\")\n",
    "plt.xlabel(\"Reconstructed energy [GeV]\")\n",
    "plt.ylabel(rf\"$(E^2 \\cdot \\mathrm{{Flux Sensitivity}}) /$ ({unit.to_string('latex')})\")\n",
    "plt.grid(which=\"both\")\n",
    "plt.legend()\n",
    "plt.show()"
   ]
  },
  {
   "cell_type": "code",
   "execution_count": 25,
   "id": "dying-remove",
   "metadata": {},
   "outputs": [
    {
     "data": {
      "text/html": [
       "<i>QTable length=20</i>\n",
       "<table id=\"table140355255786896\" class=\"table-striped table-bordered table-condensed\">\n",
       "<thead><tr><th>reco_energy_low</th><th>reco_energy_high</th><th>reco_energy_center</th><th>n</th><th>n_weighted</th></tr></thead>\n",
       "<thead><tr><th>TeV</th><th>TeV</th><th>TeV</th><th></th><th></th></tr></thead>\n",
       "<thead><tr><th>float64</th><th>float64</th><th>float64</th><th>float64</th><th>float64</th></tr></thead>\n",
       "<tr><td>0.049999999999999996</td><td>0.0706268772311377</td><td>0.06031343861556884</td><td>20.554420242753004</td><td>21764.388703206707</td></tr>\n",
       "<tr><td>0.0706268772311377</td><td>0.09976311574844397</td><td>0.08519499648979084</td><td>48.771422428260976</td><td>46491.370025470256</td></tr>\n",
       "<tr><td>0.09976311574844397</td><td>0.14091914656322266</td><td>0.12034113115583331</td><td>51.86162496811322</td><td>44056.664636752874</td></tr>\n",
       "<tr><td>0.14091914656322266</td><td>0.1990535852767486</td><td>0.16998636591998562</td><td>44.714025320775804</td><td>32546.819240453955</td></tr>\n",
       "<tr><td>0.1990535852767486</td><td>0.2811706625951745</td><td>0.24011212393596154</td><td>15.095580445027675</td><td>9403.917891233823</td></tr>\n",
       "<tr><td>0.2811706625951745</td><td>0.39716411736214063</td><td>0.3391673899786576</td><td>12.862688306684396</td><td>7099.63301486776</td></tr>\n",
       "<tr><td>0.39716411736214063</td><td>0.5610092271509817</td><td>0.47908667225656115</td><td>0.4661477761669373</td><td>221.72469855975416</td></tr>\n",
       "<tr><td>0.5610092271509817</td><td>0.7924465962305566</td><td>0.6767279116907692</td><td>0.0458006067856371</td><td>15.14083139801665</td></tr>\n",
       "<tr><td>0.7924465962305566</td><td>1.1193605692841693</td><td>0.955903582757363</td><td>0.21883310980876058</td><td>82.20822142420518</td></tr>\n",
       "<tr><td>1.1193605692841693</td><td>1.5811388300841895</td><td>1.3502496996841793</td><td>0.6683359658313377</td><td>178.39620633206394</td></tr>\n",
       "<tr><td>1.5811388300841895</td><td>2.233417960754815</td><td>1.9072783954195023</td><td>0.0</td><td>0.0</td></tr>\n",
       "<tr><td>2.233417960754815</td><td>3.1547867224009645</td><td>2.6941023415778895</td><td>0.0</td><td>0.0</td></tr>\n",
       "<tr><td>3.1547867224009645</td><td>4.456254690668727</td><td>3.8055207065348458</td><td>0.09527358488193</td><td>14.4092778653284</td></tr>\n",
       "<tr><td>4.456254690668727</td><td>6.294627058970836</td><td>5.375440874819782</td><td>0.0</td><td>0.0</td></tr>\n",
       "<tr><td>6.294627058970836</td><td>8.891397050194612</td><td>7.593012054582724</td><td>0.0</td><td>0.0</td></tr>\n",
       "<tr><td>8.891397050194612</td><td>12.559432157547896</td><td>10.725414603871254</td><td>0.0</td><td>0.0</td></tr>\n",
       "<tr><td>12.559432157547896</td><td>17.740669461678763</td><td>15.15005080961333</td><td>0.0</td><td>0.0</td></tr>\n",
       "<tr><td>17.740669461678763</td><td>25.059361681363594</td><td>21.40001557152118</td><td>0.0</td><td>0.0</td></tr>\n",
       "<tr><td>25.059361681363594</td><td>35.3972892192069</td><td>30.228325450285247</td><td>0.0</td><td>0.0</td></tr>\n",
       "<tr><td>35.3972892192069</td><td>49.99999999999999</td><td>42.69864460960345</td><td>0.0</td><td>0.0</td></tr>\n",
       "</table>"
      ],
      "text/plain": [
       "<QTable length=20>\n",
       "  reco_energy_low      reco_energy_high  ...     n_weighted    \n",
       "        TeV                  TeV         ...                   \n",
       "      float64              float64       ...      float64      \n",
       "-------------------- ------------------- ... ------------------\n",
       "0.049999999999999996  0.0706268772311377 ... 21764.388703206707\n",
       "  0.0706268772311377 0.09976311574844397 ... 46491.370025470256\n",
       " 0.09976311574844397 0.14091914656322266 ... 44056.664636752874\n",
       " 0.14091914656322266  0.1990535852767486 ... 32546.819240453955\n",
       "  0.1990535852767486  0.2811706625951745 ...  9403.917891233823\n",
       "  0.2811706625951745 0.39716411736214063 ...   7099.63301486776\n",
       " 0.39716411736214063  0.5610092271509817 ... 221.72469855975416\n",
       "  0.5610092271509817  0.7924465962305566 ...  15.14083139801665\n",
       "  0.7924465962305566  1.1193605692841693 ...  82.20822142420518\n",
       "  1.1193605692841693  1.5811388300841895 ... 178.39620633206394\n",
       "  1.5811388300841895   2.233417960754815 ...                0.0\n",
       "   2.233417960754815  3.1547867224009645 ...                0.0\n",
       "  3.1547867224009645   4.456254690668727 ...   14.4092778653284\n",
       "   4.456254690668727   6.294627058970836 ...                0.0\n",
       "   6.294627058970836   8.891397050194612 ...                0.0\n",
       "   8.891397050194612  12.559432157547896 ...                0.0\n",
       "  12.559432157547896  17.740669461678763 ...                0.0\n",
       "  17.740669461678763  25.059361681363594 ...                0.0\n",
       "  25.059361681363594    35.3972892192069 ...                0.0\n",
       "    35.3972892192069   49.99999999999999 ...                0.0"
      ]
     },
     "execution_count": 25,
     "metadata": {},
     "output_type": "execute_result"
    }
   ],
   "source": [
    "proton_hist"
   ]
  },
  {
   "cell_type": "code",
   "execution_count": 26,
   "id": "focused-spray",
   "metadata": {},
   "outputs": [
    {
     "data": {
      "text/html": [
       "<i>QTable length=20</i>\n",
       "<table id=\"table140355255786640\" class=\"table-striped table-bordered table-condensed\">\n",
       "<thead><tr><th>reco_energy_low</th><th>reco_energy_high</th><th>reco_energy_center</th><th>n</th><th>n_weighted</th></tr></thead>\n",
       "<thead><tr><th>TeV</th><th>TeV</th><th>TeV</th><th></th><th></th></tr></thead>\n",
       "<thead><tr><th>float64</th><th>float64</th><th>float64</th><th>int64</th><th>float64</th></tr></thead>\n",
       "<tr><td>0.049999999999999996</td><td>0.0706268772311377</td><td>0.06031343861556884</td><td>553</td><td>1271.1418267432698</td></tr>\n",
       "<tr><td>0.0706268772311377</td><td>0.09976311574844397</td><td>0.08519499648979084</td><td>3044</td><td>5459.213389134774</td></tr>\n",
       "<tr><td>0.09976311574844397</td><td>0.14091914656322266</td><td>0.12034113115583331</td><td>8177</td><td>12227.34240739332</td></tr>\n",
       "<tr><td>0.14091914656322266</td><td>0.1990535852767486</td><td>0.16998636591998562</td><td>15143</td><td>18650.275138605597</td></tr>\n",
       "<tr><td>0.1990535852767486</td><td>0.2811706625951745</td><td>0.24011212393596154</td><td>12203</td><td>12168.963603669603</td></tr>\n",
       "<tr><td>0.2811706625951745</td><td>0.39716411736214063</td><td>0.3391673899786576</td><td>13752</td><td>11074.216196209287</td></tr>\n",
       "<tr><td>0.39716411736214063</td><td>0.5610092271509817</td><td>0.47908667225656115</td><td>3658</td><td>2359.883019328903</td></tr>\n",
       "<tr><td>0.5610092271509817</td><td>0.7924465962305566</td><td>0.6767279116907692</td><td>1747</td><td>905.1592916893642</td></tr>\n",
       "<tr><td>0.7924465962305566</td><td>1.1193605692841693</td><td>0.955903582757363</td><td>3350</td><td>1405.1773005520226</td></tr>\n",
       "<tr><td>1.1193605692841693</td><td>1.5811388300841895</td><td>1.3502496996841793</td><td>3534</td><td>1193.888177561843</td></tr>\n",
       "<tr><td>1.5811388300841895</td><td>2.233417960754815</td><td>1.9072783954195023</td><td>959</td><td>264.4417688858084</td></tr>\n",
       "<tr><td>2.233417960754815</td><td>3.1547867224009645</td><td>2.6941023415778895</td><td>1150</td><td>255.9120243359357</td></tr>\n",
       "<tr><td>3.1547867224009645</td><td>4.456254690668727</td><td>3.8055207065348458</td><td>1038</td><td>187.1730561510485</td></tr>\n",
       "<tr><td>4.456254690668727</td><td>6.294627058970836</td><td>5.375440874819782</td><td>753</td><td>109.56504037279228</td></tr>\n",
       "<tr><td>6.294627058970836</td><td>8.891397050194612</td><td>7.593012054582724</td><td>623</td><td>73.5793154748826</td></tr>\n",
       "<tr><td>8.891397050194612</td><td>12.559432157547896</td><td>10.725414603871254</td><td>440</td><td>41.67444052181963</td></tr>\n",
       "<tr><td>12.559432157547896</td><td>17.740669461678763</td><td>15.15005080961333</td><td>315</td><td>23.47668111589155</td></tr>\n",
       "<tr><td>17.740669461678763</td><td>25.059361681363594</td><td>21.40001557152118</td><td>210</td><td>12.635489011619939</td></tr>\n",
       "<tr><td>25.059361681363594</td><td>35.3972892192069</td><td>30.228325450285247</td><td>2</td><td>0.10481731519394089</td></tr>\n",
       "<tr><td>35.3972892192069</td><td>49.99999999999999</td><td>42.69864460960345</td><td>1</td><td>0.03800289124774281</td></tr>\n",
       "</table>"
      ],
      "text/plain": [
       "<QTable length=20>\n",
       "  reco_energy_low      reco_energy_high  ...   n        n_weighted    \n",
       "        TeV                  TeV         ...                          \n",
       "      float64              float64       ... int64       float64      \n",
       "-------------------- ------------------- ... ----- -------------------\n",
       "0.049999999999999996  0.0706268772311377 ...   553  1271.1418267432698\n",
       "  0.0706268772311377 0.09976311574844397 ...  3044   5459.213389134774\n",
       " 0.09976311574844397 0.14091914656322266 ...  8177   12227.34240739332\n",
       " 0.14091914656322266  0.1990535852767486 ... 15143  18650.275138605597\n",
       "  0.1990535852767486  0.2811706625951745 ... 12203  12168.963603669603\n",
       "  0.2811706625951745 0.39716411736214063 ... 13752  11074.216196209287\n",
       " 0.39716411736214063  0.5610092271509817 ...  3658   2359.883019328903\n",
       "  0.5610092271509817  0.7924465962305566 ...  1747   905.1592916893642\n",
       "  0.7924465962305566  1.1193605692841693 ...  3350  1405.1773005520226\n",
       "  1.1193605692841693  1.5811388300841895 ...  3534   1193.888177561843\n",
       "  1.5811388300841895   2.233417960754815 ...   959   264.4417688858084\n",
       "   2.233417960754815  3.1547867224009645 ...  1150   255.9120243359357\n",
       "  3.1547867224009645   4.456254690668727 ...  1038   187.1730561510485\n",
       "   4.456254690668727   6.294627058970836 ...   753  109.56504037279228\n",
       "   6.294627058970836   8.891397050194612 ...   623    73.5793154748826\n",
       "   8.891397050194612  12.559432157547896 ...   440   41.67444052181963\n",
       "  12.559432157547896  17.740669461678763 ...   315   23.47668111589155\n",
       "  17.740669461678763  25.059361681363594 ...   210  12.635489011619939\n",
       "  25.059361681363594    35.3972892192069 ...     2 0.10481731519394089\n",
       "    35.3972892192069   49.99999999999999 ...     1 0.03800289124774281"
      ]
     },
     "execution_count": 26,
     "metadata": {},
     "output_type": "execute_result"
    }
   ],
   "source": [
    "gamma_hist"
   ]
  },
  {
   "cell_type": "code",
   "execution_count": 27,
   "id": "spiritual-characterization",
   "metadata": {},
   "outputs": [
    {
     "data": {
      "text/html": [
       "<i>QTable length=546502</i>\n",
       "<table id=\"table140355255783632\" class=\"table-striped table-bordered table-condensed\">\n",
       "<thead><tr><th>intensity</th><th>log_intensity</th><th>x</th><th>y</th><th>r</th><th>phi</th><th>length</th><th>width</th><th>psi</th><th>skewness</th><th>kurtosis</th><th>time_gradient</th><th>intercept</th><th>leakage_intensity_width_1</th><th>leakage_intensity_width_2</th><th>leakage_pixels_width_1</th><th>leakage_pixels_width_2</th><th>n_pixels</th><th>concentration_cog</th><th>concentration_core</th><th>concentration_pixel</th><th>n_islands</th><th>obs_id</th><th>event_id</th><th>calibration_id</th><th>true_energy</th><th>log_mc_energy</th><th>true_alt</th><th>true_az</th><th>mc_core_x</th><th>mc_core_y</th><th>mc_h_first_int</th><th>mc_type</th><th>pointing_az</th><th>pointing_alt</th><th>mc_x_max</th><th>mc_core_distance</th><th>wl</th><th>tel_id</th><th>tel_pos_x</th><th>tel_pos_y</th><th>tel_pos_z</th><th>trigger_type</th><th>disp_dx</th><th>disp_dy</th><th>disp_norm</th><th>disp_angle</th><th>disp_sign</th><th>src_x</th><th>src_y</th><th>log_reco_energy</th><th>reco_energy</th><th>reco_disp_dx</th><th>reco_disp_dy</th><th>reco_src_x</th><th>reco_src_y</th><th>reco_alt</th><th>reco_az</th><th>reco_type</th><th>gh_score</th><th>good_events</th><th>weight</th><th>true_source_fov_offset</th><th>reco_source_fov_offset</th><th>source_fov_offset</th><th>theta</th><th>selected_theta</th><th>selected_gh</th><th>selected</th></tr></thead>\n",
       "<thead><tr><th></th><th></th><th></th><th></th><th></th><th></th><th></th><th></th><th></th><th></th><th></th><th></th><th></th><th></th><th></th><th></th><th></th><th></th><th></th><th></th><th></th><th></th><th></th><th></th><th></th><th>TeV</th><th></th><th>rad</th><th>rad</th><th></th><th></th><th></th><th></th><th>rad</th><th>rad</th><th></th><th></th><th></th><th></th><th></th><th></th><th></th><th></th><th></th><th></th><th></th><th></th><th></th><th></th><th></th><th></th><th>TeV</th><th></th><th></th><th></th><th></th><th>rad</th><th>rad</th><th></th><th></th><th></th><th></th><th>deg</th><th>deg</th><th>deg</th><th>deg</th><th></th><th></th><th></th></tr></thead>\n",
       "<thead><tr><th>float64</th><th>float64</th><th>float64</th><th>float64</th><th>float64</th><th>float64</th><th>float64</th><th>float64</th><th>float64</th><th>float64</th><th>float64</th><th>float64</th><th>float64</th><th>float32</th><th>float32</th><th>float64</th><th>float64</th><th>int64</th><th>float64</th><th>float64</th><th>float64</th><th>int64</th><th>int32</th><th>int64</th><th>int64</th><th>float64</th><th>float64</th><th>float64</th><th>float64</th><th>float64</th><th>float64</th><th>float64</th><th>int64</th><th>float32</th><th>float32</th><th>float64</th><th>float64</th><th>float64</th><th>int64</th><th>float32</th><th>float32</th><th>float32</th><th>int64</th><th>float32</th><th>float32</th><th>float32</th><th>float32</th><th>float32</th><th>float32</th><th>float32</th><th>float64</th><th>float64</th><th>float64</th><th>float64</th><th>float64</th><th>float64</th><th>float64</th><th>float64</th><th>int64</th><th>float64</th><th>bool</th><th>float64</th><th>float64</th><th>float64</th><th>float64</th><th>float64</th><th>bool</th><th>bool</th><th>bool</th></tr></thead>\n",
       "<tr><td>181.7610583305359</td><td>2.2595008427818803</td><td>0.48419696110099447</td><td>0.3142039062889991</td><td>0.5772094869860543</td><td>0.5756138959744419</td><td>0.16371981970844957</td><td>0.0627861280637932</td><td>0.4972032335408144</td><td>0.22397107944636782</td><td>2.066049402905137</td><td>8.282562803608432</td><td>12.257659937471216</td><td>0.0</td><td>0.0</td><td>0.0</td><td>0.0</td><td>16</td><td>0.3009466114782289</td><td>0.24804326396838589</td><td>0.19251380147089187</td><td>1</td><td>101</td><td>1400</td><td>-1</td><td>0.00911790318787098</td><td>-2.0401050233642195</td><td>1.2217304706573486</td><td>3.1415927410125732</td><td>16.509984970092773</td><td>-1.677108883857727</td><td>14337.9287109375</td><td>0</td><td>3.1415927410125732</td><td>1.2217304706573486</td><td>520.0</td><td>100.9217244661682</td><td>0.3834974175735231</td><td>1</td><td>-70.93</td><td>-52.07</td><td>43.0</td><td>0</td><td>-0.48419574</td><td>-0.31420392</td><td>0.57720846</td><td>0.57561505</td><td>-1.0</td><td>1.223919e-06</td><td>0.0</td><td>-0.8867951808482857</td><td>0.12977911825546912</td><td>-0.4962937731406993</td><td>-0.25785214511479526</td><td>-0.012096812039704807</td><td>0.05635176117420382</td><td>1.2212928783230836</td><td>3.147470044964728</td><td>101</td><td>0.44666666666666666</td><td>True</td><td>7.538248539220689</td><td>3.3059086758748746e-07</td><td>0.11793829602743823</td><td>3.3059086758748746e-07</td><td>0.11793836541387748</td><td>True</td><td>False</td><td>False</td></tr>\n",
       "<tr><td>356.07299613952637</td><td>2.551539038902329</td><td>-0.02586723800568779</td><td>0.14172942364642346</td><td>0.14407061993755105</td><td>1.7513207967245383</td><td>0.16272895195141515</td><td>0.058985647999594736</td><td>-1.2464912093523157</td><td>-0.42107332664162084</td><td>2.0999413066480974</td><td>-6.356303443295602</td><td>14.181169739979534</td><td>0.0</td><td>0.0</td><td>0.0</td><td>0.0</td><td>22</td><td>0.30334896201163114</td><td>0.39565625265504345</td><td>0.1640773869328268</td><td>2</td><td>101</td><td>2503</td><td>-1</td><td>0.11014436930418015</td><td>-0.9580376995357099</td><td>1.2217304706573486</td><td>3.1415927410125732</td><td>-69.81986236572266</td><td>10.1871976852417</td><td>34340.87109375</td><td>0</td><td>3.1415927410125732</td><td>1.2217304706573486</td><td>256.6666564941406</td><td>62.26709429437911</td><td>0.3624778952500454</td><td>1</td><td>-70.93</td><td>-52.07</td><td>43.0</td><td>0</td><td>0.025868462</td><td>-0.14172943</td><td>0.14407083</td><td>-1.3902636</td><td>1.0</td><td>1.223919e-06</td><td>0.0</td><td>-0.9807020628590565</td><td>0.10454371699514421</td><td>0.11764751040927741</td><td>-0.3193120369550787</td><td>0.09178027240358963</td><td>-0.17758261330865524</td><td>1.2249525768882545</td><td>3.122882694626374</td><td>101</td><td>0.4268333333333333</td><td>True</td><td>1.6083801754665754</td><td>3.3059086758748746e-07</td><td>0.409046231519318</td><td>3.3059086758748746e-07</td><td>0.40904607973216667</td><td>False</td><td>False</td><td>False</td></tr>\n",
       "<tr><td>565.7499437332153</td><td>2.7526245194339154</td><td>0.5597771954316807</td><td>-0.26344471486240983</td><td>0.6186708545860994</td><td>-0.43987205597343004</td><td>0.2714716304384843</td><td>0.06164658666179329</td><td>-0.4561504543999167</td><td>0.16363196695298574</td><td>2.161558410073179</td><td>5.759279027771537</td><td>13.839363644138922</td><td>0.0</td><td>0.0</td><td>0.0</td><td>0.0</td><td>31</td><td>0.22655537524249394</td><td>0.3930673084115265</td><td>0.09977506718777403</td><td>1</td><td>101</td><td>2800</td><td>-1</td><td>0.2205287665128708</td><td>-0.6565347516703172</td><td>1.2217304706573486</td><td>3.1415927410125732</td><td>131.0974578857422</td><td>-130.79698181152344</td><td>27687.205078125</td><td>0</td><td>3.1415927410125732</td><td>1.2217304706573486</td><td>265.65216064453125</td><td>216.82488689328582</td><td>0.22708297939722455</td><td>1</td><td>-70.93</td><td>-52.07</td><td>43.0</td><td>0</td><td>-0.55977595</td><td>0.26344472</td><td>0.61866975</td><td>-0.4398729</td><td>-1.0</td><td>1.223919e-06</td><td>0.0</td><td>-0.6817187431531516</td><td>0.2081043971960152</td><td>-0.5282171912694733</td><td>0.27067200729463786</td><td>0.03156000416220739</td><td>0.007227292432228027</td><td>1.222857516084028</td><td>3.142349770567927</td><td>0</td><td>0.8526666666666664</td><td>True</td><td>1.045819857582831</td><td>3.3059086758748746e-07</td><td>0.06625225758987895</td><td>3.3059086758748746e-07</td><td>0.06625193534073229</td><td>True</td><td>True</td><td>True</td></tr>\n",
       "<tr><td>175.97298526763916</td><td>2.2454460016226605</td><td>-0.5589776147917185</td><td>-0.11334656093193392</td><td>0.5703537645298182</td><td>-2.9415304686358708</td><td>0.1903857759730363</td><td>0.06571239529111118</td><td>0.15641765241318512</td><td>0.34851573549283893</td><td>2.253211702778527</td><td>-1.7439050869904171</td><td>11.612124112052735</td><td>0.0</td><td>0.0</td><td>0.0</td><td>0.0</td><td>17</td><td>0.21478102479246147</td><td>0.30168259015262805</td><td>0.10898185388052938</td><td>1</td><td>101</td><td>3304</td><td>-1</td><td>0.097367063164711</td><td>-1.0115879292090144</td><td>1.2217304706573486</td><td>3.1415927410125732</td><td>-252.82266235351562</td><td>-85.50784301757812</td><td>22471.625</td><td>0</td><td>3.1415927410125732</td><td>1.2217304706573486</td><td>299.4117736816406</td><td>184.94061174633495</td><td>0.3451539116053387</td><td>1</td><td>-70.93</td><td>-52.07</td><td>43.0</td><td>0</td><td>0.55897886</td><td>0.11334656</td><td>0.57035494</td><td>0.20006175</td><td>1.0</td><td>1.223919e-06</td><td>0.0</td><td>-1.245006298890795</td><td>0.05688446804131894</td><td>0.07243646100964511</td><td>0.009632038946869592</td><td>-0.48654115378207335</td><td>-0.10371452198506433</td><td>1.204336006383657</td><td>3.131256560050596</td><td>101</td><td>0.32766666666666666</td><td>True</td><td>1.7361604305783822</td><td>3.3059086758748746e-07</td><td>1.017964948388396</td><td>3.3059086758748746e-07</td><td>1.0179652717163148</td><td>False</td><td>False</td><td>False</td></tr>\n",
       "<tr><td>1198.4894642829895</td><td>3.078634220577539</td><td>0.6065168888571634</td><td>0.6089121886152153</td><td>0.8594398116873248</td><td>0.7873689050075301</td><td>0.34379628207986535</td><td>0.09108828894529705</td><td>0.8526769794897777</td><td>-0.3651451019938315</td><td>2.2220932948202567</td><td>12.740795281008268</td><td>16.844264780332256</td><td>0.09232287</td><td>0.19706386</td><td>0.0026954177897574125</td><td>0.005929919137466307</td><td>61</td><td>0.07842376096794636</td><td>0.3478316422607427</td><td>0.05327193739753663</td><td>1</td><td>101</td><td>3900</td><td>-1</td><td>1.8518818616867065</td><td>0.2676132779970739</td><td>1.2217304706573486</td><td>3.1415927410125732</td><td>156.57342529296875</td><td>149.97494506835938</td><td>38617.890625</td><td>0</td><td>3.1415927410125732</td><td>1.2217304706573486</td><td>303.3333435058594</td><td>304.2695652924367</td><td>0.26494844096114123</td><td>1</td><td>-70.93</td><td>-52.07</td><td>43.0</td><td>0</td><td>-0.60651565</td><td>-0.60891217</td><td>0.85943896</td><td>0.7873699</td><td>-1.0</td><td>1.223919e-06</td><td>0.0</td><td>0.17362415956277746</td><td>1.4915030972822514</td><td>-0.6241361547542943</td><td>-0.6828532993400855</td><td>-0.01761926589713092</td><td>-0.0739411107248702</td><td>1.2210916421774651</td><td>3.133885153681847</td><td>0</td><td>0.9121666666666667</td><td>True</td><td>0.27956648454332406</td><td>3.3059086758748746e-07</td><td>0.15554034565181432</td><td>3.3059086758748746e-07</td><td>0.15554042228247822</td><td>False</td><td>True</td><td>False</td></tr>\n",
       "<tr><td>253.31169652938843</td><td>2.403655243564302</td><td>-0.2014478637757573</td><td>0.19487548760939605</td><td>0.28028146119716146</td><td>2.3727763387188188</td><td>0.17268688173328223</td><td>0.07653703291143442</td><td>-0.612182183795627</td><td>0.16734276349591018</td><td>1.842338029712218</td><td>0.26675167820693596</td><td>12.996645579190991</td><td>0.0</td><td>0.0</td><td>0.0</td><td>0.0</td><td>18</td><td>0.16793600171748324</td><td>0.34341526790052557</td><td>0.11981206044168959</td><td>1</td><td>101</td><td>4005</td><td>-1</td><td>0.0877346396446228</td><td>-1.0568289033693734</td><td>1.2217304706573486</td><td>3.1415927410125732</td><td>-138.17333984375</td><td>44.24150466918945</td><td>34055.9296875</td><td>0</td><td>3.1415927410125732</td><td>1.2217304706573486</td><td>141.1764678955078</td><td>117.4630690266494</td><td>0.4432127799356939</td><td>1</td><td>-70.93</td><td>-52.07</td><td>43.0</td><td>0</td><td>0.20144908</td><td>-0.1948755</td><td>0.28028235</td><td>-0.76881325</td><td>1.0</td><td>1.223919e-06</td><td>0.0</td><td>-1.2331131727916138</td><td>0.05846377135604382</td><td>-0.08987343658322823</td><td>0.02592829896035732</td><td>-0.2913213003589855</td><td>0.22080378656975336</td><td>1.211243088407544</td><td>3.1640053174438103</td><td>101</td><td>0.16314285714285715</td><td>True</td><td>1.8519926459861267</td><td>3.3059086758748746e-07</td><td>0.7479996522887573</td><td>3.3059086758748746e-07</td><td>0.7479999157585577</td><td>False</td><td>False</td><td>False</td></tr>\n",
       "<tr><td>225.02955436706543</td><td>2.3522395601363875</td><td>0.6947204879222763</td><td>0.3238212960929013</td><td>0.7664833906499553</td><td>0.4361760111843291</td><td>0.16687517404309857</td><td>0.0775539690417426</td><td>0.48993419856142484</td><td>0.12928651832852694</td><td>2.407399440335635</td><td>9.604580339216822</td><td>13.261091718796532</td><td>0.0</td><td>0.0</td><td>0.0</td><td>0.0</td><td>22</td><td>0.22598638187843148</td><td>0.3326708413468537</td><td>0.09500252563362382</td><td>1</td><td>101</td><td>5803</td><td>-1</td><td>0.13373146951198578</td><td>-0.8737663831103182</td><td>1.2217304706573486</td><td>3.1415927410125732</td><td>145.85743713378906</td><td>41.7791633605957</td><td>13858.365234375</td><td>0</td><td>3.1415927410125732</td><td>1.2217304706573486</td><td>319.57745361328125</td><td>236.22967306745335</td><td>0.46474240093803804</td><td>1</td><td>-70.93</td><td>-52.07</td><td>43.0</td><td>0</td><td>-0.69471925</td><td>-0.3238213</td><td>0.7664823</td><td>0.4361767</td><td>-1.0</td><td>1.223919e-06</td><td>0.0</td><td>-0.7429373592854523</td><td>0.18074348036101184</td><td>-0.5815215591951496</td><td>-0.33497161737587006</td><td>0.11319892872712667</td><td>-0.011150321282968778</td><td>1.2257730634709905</td><td>3.140415329057528</td><td>101</td><td>0.2793333333333333</td><td>True</td><td>1.4260688555430374</td><td>3.3059086758748746e-07</td><td>0.23275748370361757</td><td>3.3059086758748746e-07</td><td>0.23275715470495772</td><td>False</td><td>False</td><td>False</td></tr>\n",
       "<tr><td>401.5309729576111</td><td>2.60371905114836</td><td>-0.055519359842972335</td><td>0.12306889624726045</td><td>0.13501241624714522</td><td>1.994584761904972</td><td>0.13604302925121017</td><td>0.07558425910532193</td><td>-1.3120186481920113</td><td>0.5080361805573097</td><td>3.4595526332442135</td><td>0.3625946633606529</td><td>13.041271556376396</td><td>0.0</td><td>0.0</td><td>0.0</td><td>0.0</td><td>22</td><td>0.3546586127534258</td><td>0.5558835246769662</td><td>0.14804393512516087</td><td>1</td><td>101</td><td>5900</td><td>-1</td><td>0.16255886852741241</td><td>-0.7889893322431935</td><td>1.2217304706573486</td><td>3.1415927410125732</td><td>-67.29904174804688</td><td>-33.864803314208984</td><td>49200.1640625</td><td>0</td><td>3.1415927410125732</td><td>1.2217304706573486</td><td>263.6000061035156</td><td>18.563755958866558</td><td>0.5555908268240033</td><td>1</td><td>-70.93</td><td>-52.07</td><td>43.0</td><td>0</td><td>0.055520583</td><td>-0.1230689</td><td>0.13501292</td><td>-1.1469996</td><td>1.0</td><td>1.223919e-06</td><td>0.0</td><td>-1.0016942898687</td><td>0.09961063533812783</td><td>-0.01702555738405107</td><td>0.09228955813662135</td><td>-0.0725449172270234</td><td>0.2153584543838818</td><td>1.2190588920903949</td><td>3.163918588905096</td><td>0</td><td>0.5232380952380953</td><td>True</td><td>1.2635101171010008</td><td>3.3059086758748746e-07</td><td>0.4650137695630224</td><td>3.3059086758748746e-07</td><td>0.4650138750991987</td><td>False</td><td>False</td><td>False</td></tr>\n",
       "<tr><td>444.687077999115</td><td>2.6480545096260952</td><td>-0.2876511682361923</td><td>-0.3255643645322404</td><td>0.4344368193891118</td><td>-2.2944462201998097</td><td>0.20343893186527132</td><td>0.07908373519777036</td><td>0.6174360826023019</td><td>-0.5907236409918278</td><td>2.806754488947851</td><td>-4.438156895799871</td><td>13.35806188071947</td><td>0.0</td><td>0.0</td><td>0.0</td><td>0.0</td><td>23</td><td>0.23498258928159982</td><td>0.5686152414355288</td><td>0.18930422960147947</td><td>1</td><td>101</td><td>5904</td><td>-1</td><td>0.16255886852741241</td><td>-0.7889893322431935</td><td>1.2217304706573486</td><td>3.1415927410125732</td><td>-156.1970672607422</td><td>-210.53970336914062</td><td>49200.1640625</td><td>0</td><td>3.1415927410125732</td><td>1.2217304706573486</td><td>263.6000061035156</td><td>179.95310414058073</td><td>0.3887345183769646</td><td>1</td><td>-70.93</td><td>-52.07</td><td>43.0</td><td>0</td><td>0.2876524</td><td>0.32556435</td><td>0.43443763</td><td>0.8471443</td><td>1.0</td><td>1.223919e-06</td><td>0.0</td><td>-0.7876003685390577</td><td>0.16307959771417058</td><td>0.3466411059725851</td><td>0.23580756146318851</td><td>0.05898993773639277</td><td>-0.0897568030690519</td><td>1.2238230501200673</td><td>3.132165872853487</td><td>101</td><td>0.3008333333333333</td><td>True</td><td>1.2635101171010008</td><td>3.3059086758748746e-07</td><td>0.21978285775541562</td><td>3.3059086758748746e-07</td><td>0.21978267618716488</td><td>False</td><td>False</td><td>False</td></tr>\n",
       "<tr><td>...</td><td>...</td><td>...</td><td>...</td><td>...</td><td>...</td><td>...</td><td>...</td><td>...</td><td>...</td><td>...</td><td>...</td><td>...</td><td>...</td><td>...</td><td>...</td><td>...</td><td>...</td><td>...</td><td>...</td><td>...</td><td>...</td><td>...</td><td>...</td><td>...</td><td>...</td><td>...</td><td>...</td><td>...</td><td>...</td><td>...</td><td>...</td><td>...</td><td>...</td><td>...</td><td>...</td><td>...</td><td>...</td><td>...</td><td>...</td><td>...</td><td>...</td><td>...</td><td>...</td><td>...</td><td>...</td><td>...</td><td>...</td><td>...</td><td>...</td><td>...</td><td>...</td><td>...</td><td>...</td><td>...</td><td>...</td><td>...</td><td>...</td><td>...</td><td>...</td><td>...</td><td>...</td><td>...</td><td>...</td><td>...</td><td>...</td><td>...</td><td>...</td><td>...</td></tr>\n",
       "<tr><td>443.6204652786255</td><td>2.64701157298786</td><td>0.5042198929541457</td><td>0.0037405526345451598</td><td>0.5042337673983189</td><td>0.007418358676061571</td><td>0.2603860649738612</td><td>0.07819187877310887</td><td>-0.021979670456390415</td><td>0.2491750621208553</td><td>1.8355713999002716</td><td>4.707162462169172</td><td>12.565093581473112</td><td>0.0</td><td>0.0</td><td>0.0</td><td>0.0</td><td>32</td><td>0.09219431375219644</td><td>0.3917700473629012</td><td>0.10808743585323202</td><td>1</td><td>9</td><td>991600</td><td>-1</td><td>0.15173138678073883</td><td>-0.8189245728340084</td><td>1.2217304706573486</td><td>3.1415927410125732</td><td>109.90045166015625</td><td>-52.83808517456055</td><td>19459.970703125</td><td>0</td><td>3.1415927410125732</td><td>1.2217304706573486</td><td>303.2075500488281</td><td>180.83208319678906</td><td>0.30029210196389794</td><td>1</td><td>-70.93</td><td>-52.07</td><td>43.0</td><td>0</td><td>-0.5042187</td><td>-0.0037405526</td><td>0.5042325</td><td>0.007418377</td><td>-1.0</td><td>1.223919e-06</td><td>0.0</td><td>-0.800758827111712</td><td>0.15821263835257982</td><td>-0.5638149584795116</td><td>0.010281704741254172</td><td>-0.059595065525365865</td><td>0.014022257375799332</td><td>1.2196017271657438</td><td>3.143048453794475</td><td>101</td><td>0.3225</td><td>True</td><td>1.3186774295931012</td><td>3.3059086758748746e-07</td><td>0.12527825730898962</td><td>3.3059086758748746e-07</td><td>0.1252785791120004</td><td>True</td><td>False</td><td>False</td></tr>\n",
       "<tr><td>140.70971250534058</td><td>2.1483240756998097</td><td>0.016252397953436238</td><td>-0.1665258350721001</td><td>0.16731704690705348</td><td>-1.4735075865257707</td><td>0.10677424162307143</td><td>0.039953271371245956</td><td>-1.1083240049601393</td><td>0.6057865201468983</td><td>2.590119128275892</td><td>-1.631862303166043</td><td>12.550032388546436</td><td>0.0</td><td>0.0</td><td>0.0</td><td>0.0</td><td>9</td><td>0.4781236536401115</td><td>0.07025350312602453</td><td>0.3326639966419697</td><td>1</td><td>9</td><td>992808</td><td>-1</td><td>0.030405137687921524</td><td>-1.5170530255692134</td><td>1.2217304706573486</td><td>3.1415927410125732</td><td>-55.715389251708984</td><td>-114.89707946777344</td><td>17475.46875</td><td>0</td><td>3.1415927410125732</td><td>1.2217304706573486</td><td>239.23077392578125</td><td>64.6430687878043</td><td>0.3741845482947732</td><td>1</td><td>-70.93</td><td>-52.07</td><td>43.0</td><td>0</td><td>-0.016251175</td><td>0.16652584</td><td>0.16731693</td><td>-1.4735149</td><td>-1.0</td><td>1.223919e-06</td><td>0.0</td><td>-1.368009096845449</td><td>0.04285395440024096</td><td>-0.04120816546084676</td><td>0.0847102936518652</td><td>-0.024955767507410524</td><td>-0.08181554142023488</td><td>1.2208274873590432</td><td>3.133070484319107</td><td>101</td><td>0.20400000000000007</td><td>True</td><td>3.5725491598560946</td><td>3.3059086758748746e-07</td><td>0.17503238401484392</td><td>3.3059086758748746e-07</td><td>0.17503248046654293</td><td>True</td><td>False</td><td>False</td></tr>\n",
       "<tr><td>112.29997825622559</td><td>2.0503796721723915</td><td>-0.13585046159421152</td><td>-0.22145150931600835</td><td>0.25980015183540306</td><td>-2.1210502685093835</td><td>0.07917251778120069</td><td>0.034869445404935376</td><td>0.26370953227424654</td><td>-0.342236733245855</td><td>2.202708317421059</td><td>-12.991640932957463</td><td>12.791042844117356</td><td>0.0</td><td>0.0</td><td>0.0</td><td>0.0</td><td>6</td><td>0.5762774937012899</td><td>0.36352781165365106</td><td>0.36352781165365106</td><td>1</td><td>9</td><td>994206</td><td>-1</td><td>0.02295157127082348</td><td>-1.63918757719037</td><td>1.2217304706573486</td><td>3.1415927410125732</td><td>-136.39910888671875</td><td>-213.6593017578125</td><td>29858.328125</td><td>0</td><td>3.1415927410125732</td><td>1.2217304706573486</td><td>112.85713958740234</td><td>174.34823405949808</td><td>0.440423601296851</td><td>1</td><td>-70.93</td><td>-52.07</td><td>43.0</td><td>0</td><td>0.13585168</td><td>0.2214515</td><td>0.2598008</td><td>1.0205383</td><td>1.0</td><td>1.223919e-06</td><td>0.0</td><td>-1.523758199986537</td><td>0.02993931089015451</td><td>0.04821330424965354</td><td>0.08647490960949411</td><td>-0.08763715734455799</td><td>-0.13497659970651424</td><td>1.2185689169148182</td><td>3.1276192435094785</td><td>101</td><td>0.10933333333333334</td><td>True</td><td>4.253061234227692</td><td>3.3059086758748746e-07</td><td>0.32931022296900886</td><td>3.3059086758748746e-07</td><td>0.3293104029971872</td><td>False</td><td>False</td><td>False</td></tr>\n",
       "<tr><td>799.1355638504028</td><td>2.9026204584606776</td><td>-0.20555626490638537</td><td>0.42024036804977155</td><td>0.46781977831305027</td><td>2.025718043156289</td><td>0.2693595594878143</td><td>0.06702698137525888</td><td>-1.00861846763335</td><td>-0.7637710888036285</td><td>2.5534888286626036</td><td>-2.2111088207792586</td><td>13.835866133407396</td><td>0.0</td><td>0.0</td><td>0.0</td><td>0.0</td><td>31</td><td>0.21264080926277354</td><td>0.4756207030379684</td><td>0.19053887078407789</td><td>1</td><td>9</td><td>994401</td><td>-1</td><td>0.09237001091241837</td><td>-1.0344690050704077</td><td>1.2217304706573486</td><td>3.1415927410125732</td><td>-116.15555572509766</td><td>63.59247589111328</td><td>14501.9453125</td><td>0</td><td>3.1415927410125732</td><td>1.2217304706573486</td><td>283.1428527832031</td><td>124.19001216566497</td><td>0.24883832414453866</td><td>1</td><td>-70.93</td><td>-52.07</td><td>43.0</td><td>0</td><td>0.2055575</td><td>-0.42024037</td><td>0.46782032</td><td>-1.1158723</td><td>1.0</td><td>1.223919e-06</td><td>0.0</td><td>-0.8645806946466219</td><td>0.13659012590647834</td><td>0.22903083063393992</td><td>-0.3528695762674644</td><td>0.023474565727554547</td><td>0.06737079178230715</td><td>1.2225608709578524</td><td>3.148643844411978</td><td>0</td><td>0.5891190476190477</td><td>True</td><td>1.7938086787697984</td><td>3.3059086758748746e-07</td><td>0.1459883759577896</td><td>3.3059086758748746e-07</td><td>0.1459882671816029</td><td>True</td><td>False</td><td>False</td></tr>\n",
       "<tr><td>123.2550687789917</td><td>2.090804788375078</td><td>0.6057489358594034</td><td>-0.39083041519471434</td><td>0.72088847038642</td><td>-0.5729948760666383</td><td>0.21277844073460483</td><td>0.05196642952548659</td><td>-0.40816009050679214</td><td>0.18602351932966674</td><td>1.7482792377260579</td><td>7.183435563840917</td><td>12.143220053360164</td><td>0.0</td><td>0.0</td><td>0.0</td><td>0.0</td><td>14</td><td>0.14864634070637567</td><td>0.3266193940657528</td><td>0.126791105640044</td><td>1</td><td>9</td><td>994409</td><td>-1</td><td>0.09237001091241837</td><td>-1.0344690050704077</td><td>1.2217304706573486</td><td>3.1415927410125732</td><td>128.94491577148438</td><td>-171.8336944580078</td><td>14501.9453125</td><td>0</td><td>3.1415927410125732</td><td>1.2217304706573486</td><td>283.1428527832031</td><td>233.00928020141376</td><td>0.24422788956473035</td><td>1</td><td>-70.93</td><td>-52.07</td><td>43.0</td><td>0</td><td>-0.6057477</td><td>0.39083043</td><td>0.7208874</td><td>-0.5729958</td><td>-1.0</td><td>1.223919e-06</td><td>0.0</td><td>-1.0639578021675264</td><td>0.0863062402374655</td><td>-0.5530135121721597</td><td>0.23742583867615802</td><td>0.05273542368724371</td><td>-0.15340457651855632</td><td>1.2235724259929721</td><td>3.125491899255192</td><td>0</td><td>0.5006666666666666</td><td>True</td><td>1.7938086787697984</td><td>3.3059086758748746e-07</td><td>0.3319385679888318</td><td>3.3059086758748746e-07</td><td>0.3319384605152417</td><td>True</td><td>False</td><td>False</td></tr>\n",
       "<tr><td>103.10901927947998</td><td>2.01329665608843</td><td>-0.022593796581130258</td><td>0.5129098528640846</td><td>0.5134072426534383</td><td>1.6148180971063442</td><td>0.1987417403373422</td><td>0.0383141692095061</td><td>1.5590250474821248</td><td>-0.43111303104894094</td><td>2.11046272239983</td><td>2.9068070938337414</td><td>11.410061606961834</td><td>0.0</td><td>0.0</td><td>0.0</td><td>0.0</td><td>12</td><td>0.35948319739082735</td><td>0.28816088785805294</td><td>0.15944813003368932</td><td>1</td><td>9</td><td>994803</td><td>-1</td><td>0.04326415807008743</td><td>-1.363871743331658</td><td>1.2217304706573486</td><td>3.1415927410125732</td><td>-61.676143646240234</td><td>127.33927917480469</td><td>26217.845703125</td><td>0</td><td>3.1415927410125732</td><td>1.2217304706573486</td><td>293.6363525390625</td><td>179.6477754039398</td><td>0.19278370585098037</td><td>1</td><td>-70.93</td><td>-52.07</td><td>43.0</td><td>0</td><td>0.02259502</td><td>-0.5129098</td><td>0.5134073</td><td>-1.5267721</td><td>1.0</td><td>1.223919e-06</td><td>0.0</td><td>-1.4385928977818452</td><td>0.03642563254679056</td><td>-0.03405079948439705</td><td>-0.1345169493350171</td><td>-0.05664459606552731</td><td>0.3783929035290675</td><td>1.2194580344627308</td><td>3.1808688864300647</td><td>0</td><td>0.5334999999999999</td><td>True</td><td>2.870819044494723</td><td>3.3059086758748746e-07</td><td>0.7829242046359595</td><td>3.3059086758748746e-07</td><td>0.7829242535809268</td><td>False</td><td>False</td><td>False</td></tr>\n",
       "<tr><td>133.11181259155273</td><td>2.1242165972905456</td><td>0.0072626878762485966</td><td>0.6685789125392898</td><td>0.668618358203996</td><td>1.5599338809569079</td><td>0.12308100127719965</td><td>0.06338208182680108</td><td>-1.3632498059208074</td><td>-0.342179064427739</td><td>2.1559692221622355</td><td>-19.198109360419117</td><td>12.468320125124528</td><td>0.0</td><td>0.0</td><td>0.0</td><td>0.0</td><td>13</td><td>0.349255668442297</td><td>0.2555849046881736</td><td>0.1404158591006258</td><td>1</td><td>9</td><td>996202</td><td>-1</td><td>0.15603521466255188</td><td>-0.8067773772369162</td><td>1.2217304706573486</td><td>3.1415927410125732</td><td>-63.55549621582031</td><td>234.60540771484375</td><td>23309.302734375</td><td>0</td><td>3.1415927410125732</td><td>1.2217304706573486</td><td>216.15383911132812</td><td>286.7702434424866</td><td>0.514962351370978</td><td>1</td><td>-70.93</td><td>-52.07</td><td>43.0</td><td>0</td><td>-0.007261464</td><td>-0.6685789</td><td>0.6686183</td><td>1.5599357</td><td>-1.0</td><td>1.223919e-06</td><td>0.0</td><td>-0.5985577219877674</td><td>0.2520242192521111</td><td>0.14851417233300998</td><td>-0.7035277073693476</td><td>0.15577686020925857</td><td>-0.03494879483005775</td><td>1.2272917507748557</td><td>3.137886698097134</td><td>101</td><td>0.4056666666666666</td><td>True</td><td>1.2960068936669737</td><td>3.3059086758748746e-07</td><td>0.3266864199851043</td><td>3.3059086758748746e-07</td><td>0.3266860974125435</td><td>False</td><td>False</td><td>False</td></tr>\n",
       "<tr><td>120.98774909973145</td><td>2.0827413970292956</td><td>-0.23654871350095236</td><td>-0.41710105063243</td><td>0.4795086863630654</td><td>-2.0866927044676817</td><td>0.16331224993871754</td><td>0.054540104466433294</td><td>1.0424977514669345</td><td>0.3913003717871453</td><td>2.0956968429848684</td><td>1.7546551514083042</td><td>11.949091146093345</td><td>0.0</td><td>0.0</td><td>0.0</td><td>0.0</td><td>10</td><td>0.28999566073660277</td><td>0.32797629918767884</td><td>0.21003836760142783</td><td>1</td><td>9</td><td>998703</td><td>-1</td><td>0.008966048248112202</td><td>-2.0473989284378256</td><td>1.2217304706573486</td><td>3.1415927410125732</td><td>-115.39984130859375</td><td>-150.6488800048828</td><td>11311.9140625</td><td>0</td><td>3.1415927410125732</td><td>1.2217304706573486</td><td>313.3333435058594</td><td>108.1450988351027</td><td>0.33396211543775384</td><td>1</td><td>-70.93</td><td>-52.07</td><td>43.0</td><td>0</td><td>0.23654994</td><td>0.41710106</td><td>0.4795093</td><td>1.0548978</td><td>1.0</td><td>1.223919e-06</td><td>0.0</td><td>-1.2804304590743052</td><td>0.052428754525341216</td><td>-0.18461211107831402</td><td>-0.28680435960251033</td><td>-0.4211608245792664</td><td>-0.7039054102349404</td><td>1.205856224444777</td><td>3.071110031469899</td><td>101</td><td>0.35550000000000004</td><td>True</td><td>7.617152900736897</td><td>3.3059086758748746e-07</td><td>1.678474161098079</td><td>3.3059086758748746e-07</td><td>1.6784743308577659</td><td>False</td><td>False</td><td>False</td></tr>\n",
       "<tr><td>201.8683500289917</td><td>2.3050682333307453</td><td>-0.2804334930121807</td><td>0.4922734938719128</td><td>0.5665475591438666</td><td>2.088615823868135</td><td>0.1337472469249747</td><td>0.05799219271606726</td><td>-0.9535478952875829</td><td>-0.16149412247536646</td><td>2.5591428584005396</td><td>1.2284054466667889</td><td>11.899488063239476</td><td>0.0</td><td>0.0</td><td>0.0</td><td>0.0</td><td>17</td><td>0.3918978036384926</td><td>0.42175272599333463</td><td>0.17224280318536722</td><td>2</td><td>9</td><td>999604</td><td>-1</td><td>0.04739782586693764</td><td>-1.3242415789091866</td><td>1.2217304706573486</td><td>3.1415927410125732</td><td>-122.56322479248047</td><td>54.899417877197266</td><td>30526.5</td><td>0</td><td>3.1415927410125732</td><td>1.2217304706573486</td><td>362.0</td><td>118.77898032334635</td><td>0.43359541261135554</td><td>1</td><td>-70.93</td><td>-52.07</td><td>43.0</td><td>0</td><td>0.28043473</td><td>-0.49227348</td><td>0.56654817</td><td>-1.0529749</td><td>1.0</td><td>1.223919e-06</td><td>0.0</td><td>-1.2699602611275878</td><td>0.05370809381745621</td><td>0.04256670989682676</td><td>-0.08352633882719018</td><td>-0.23786678311535392</td><td>0.40874715504472264</td><td>1.212949263957923</td><td>3.183279942119455</td><td>101</td><td>0.3510000000000001</td><td>True</td><td>2.712908314961071</td><td>3.3059086758748746e-07</td><td>0.967720302416579</td><td>3.3059086758748746e-07</td><td>0.9677204687022943</td><td>False</td><td>False</td><td>False</td></tr>\n",
       "<tr><td>252.93224000930786</td><td>2.4030041902211954</td><td>0.31035506957813574</td><td>-0.15831894303002328</td><td>0.34840372692466026</td><td>-0.4717123660334782</td><td>0.10743122616841191</td><td>0.06456556424820449</td><td>-0.6306031957259054</td><td>0.2978249985740983</td><td>2.3120635740491737</td><td>-2.2362267798326094</td><td>12.334069075742516</td><td>0.0</td><td>0.0</td><td>0.0</td><td>0.0</td><td>14</td><td>0.4060043788055024</td><td>0.29410233483312026</td><td>0.20501105245504836</td><td>1</td><td>9</td><td>999605</td><td>-1</td><td>0.04739782586693764</td><td>-1.3242415789091866</td><td>1.2217304706573486</td><td>3.1415927410125732</td><td>20.483461380004883</td><td>-94.73513793945312</td><td>30526.5</td><td>0</td><td>3.1415927410125732</td><td>1.2217304706573486</td><td>362.0</td><td>100.87980471185146</td><td>0.6009943900946442</td><td>1</td><td>-70.93</td><td>-52.07</td><td>43.0</td><td>0</td><td>-0.31035385</td><td>0.15831894</td><td>0.34840265</td><td>-0.47171396</td><td>-1.0</td><td>1.223919e-06</td><td>0.0</td><td>-1.1761927429470482</td><td>0.06665109013363364</td><td>-0.1439772565402509</td><td>0.09662712553267185</td><td>0.16637781303788485</td><td>-0.061691817497351434</td><td>1.2276657502951867</td><td>3.1350439504418675</td><td>101</td><td>0.11666666666666665</td><td>True</td><td>2.712908314961071</td><td>3.3059086758748746e-07</td><td>0.3631057163309925</td><td>3.3059086758748746e-07</td><td>0.363105406362108</td><td>True</td><td>False</td><td>False</td></tr>\n",
       "</table>"
      ],
      "text/plain": [
       "<QTable length=546502>\n",
       "    intensity        log_intensity    ... selected_gh selected\n",
       "                                      ...                     \n",
       "     float64            float64       ...     bool      bool  \n",
       "------------------ ------------------ ... ----------- --------\n",
       " 181.7610583305359 2.2595008427818803 ...       False    False\n",
       "356.07299613952637  2.551539038902329 ...       False    False\n",
       " 565.7499437332153 2.7526245194339154 ...        True     True\n",
       "175.97298526763916 2.2454460016226605 ...       False    False\n",
       "1198.4894642829895  3.078634220577539 ...        True    False\n",
       "253.31169652938843  2.403655243564302 ...       False    False\n",
       "225.02955436706543 2.3522395601363875 ...       False    False\n",
       " 401.5309729576111   2.60371905114836 ...       False    False\n",
       "  444.687077999115 2.6480545096260952 ...       False    False\n",
       "               ...                ... ...         ...      ...\n",
       " 443.6204652786255   2.64701157298786 ...       False    False\n",
       "140.70971250534058 2.1483240756998097 ...       False    False\n",
       "112.29997825622559 2.0503796721723915 ...       False    False\n",
       " 799.1355638504028 2.9026204584606776 ...       False    False\n",
       " 123.2550687789917  2.090804788375078 ...       False    False\n",
       "103.10901927947998   2.01329665608843 ...       False    False\n",
       "133.11181259155273 2.1242165972905456 ...       False    False\n",
       "120.98774909973145 2.0827413970292956 ...       False    False\n",
       " 201.8683500289917 2.3050682333307453 ...       False    False\n",
       "252.93224000930786 2.4030041902211954 ...       False    False"
      ]
     },
     "execution_count": 27,
     "metadata": {},
     "output_type": "execute_result"
    }
   ],
   "source": [
    "gammas"
   ]
  },
  {
   "cell_type": "code",
   "execution_count": 28,
   "id": "functioning-curtis",
   "metadata": {},
   "outputs": [
    {
     "data": {
      "text/html": [
       "<i>QTable length=300455</i>\n",
       "<table id=\"table140355046526224\" class=\"table-striped table-bordered table-condensed\">\n",
       "<thead><tr><th>intensity</th><th>log_intensity</th><th>x</th><th>y</th><th>r</th><th>phi</th><th>length</th><th>width</th><th>psi</th><th>skewness</th><th>kurtosis</th><th>time_gradient</th><th>intercept</th><th>leakage_intensity_width_1</th><th>leakage_intensity_width_2</th><th>leakage_pixels_width_1</th><th>leakage_pixels_width_2</th><th>n_pixels</th><th>concentration_cog</th><th>concentration_core</th><th>concentration_pixel</th><th>n_islands</th><th>obs_id</th><th>event_id</th><th>calibration_id</th><th>true_energy</th><th>log_mc_energy</th><th>true_alt</th><th>true_az</th><th>mc_core_x</th><th>mc_core_y</th><th>mc_h_first_int</th><th>mc_type</th><th>pointing_az</th><th>pointing_alt</th><th>mc_x_max</th><th>mc_core_distance</th><th>wl</th><th>tel_id</th><th>tel_pos_x</th><th>tel_pos_y</th><th>tel_pos_z</th><th>trigger_type</th><th>disp_dx</th><th>disp_dy</th><th>disp_norm</th><th>disp_angle</th><th>disp_sign</th><th>src_x</th><th>src_y</th><th>log_reco_energy</th><th>reco_energy</th><th>reco_disp_dx</th><th>reco_disp_dy</th><th>reco_src_x</th><th>reco_src_y</th><th>reco_alt</th><th>reco_az</th><th>reco_type</th><th>gh_score</th><th>good_events</th><th>weight</th><th>true_source_fov_offset</th><th>reco_source_fov_offset</th><th>theta</th><th>selected_gh</th><th>selected</th></tr></thead>\n",
       "<thead><tr><th></th><th></th><th></th><th></th><th></th><th></th><th></th><th></th><th></th><th></th><th></th><th></th><th></th><th></th><th></th><th></th><th></th><th></th><th></th><th></th><th></th><th></th><th></th><th></th><th></th><th>TeV</th><th></th><th>rad</th><th>rad</th><th></th><th></th><th></th><th></th><th>rad</th><th>rad</th><th></th><th></th><th></th><th></th><th></th><th></th><th></th><th></th><th></th><th></th><th></th><th></th><th></th><th></th><th></th><th></th><th>TeV</th><th></th><th></th><th></th><th></th><th>rad</th><th>rad</th><th></th><th></th><th></th><th></th><th>deg</th><th>deg</th><th>deg</th><th></th><th></th></tr></thead>\n",
       "<thead><tr><th>float64</th><th>float64</th><th>float64</th><th>float64</th><th>float64</th><th>float64</th><th>float64</th><th>float64</th><th>float64</th><th>float64</th><th>float64</th><th>float64</th><th>float64</th><th>float32</th><th>float32</th><th>float64</th><th>float64</th><th>int64</th><th>float64</th><th>float64</th><th>float64</th><th>int64</th><th>int32</th><th>int64</th><th>int64</th><th>float64</th><th>float64</th><th>float64</th><th>float64</th><th>float64</th><th>float64</th><th>float64</th><th>int64</th><th>float32</th><th>float32</th><th>float64</th><th>float64</th><th>float64</th><th>int64</th><th>float32</th><th>float32</th><th>float32</th><th>int64</th><th>float32</th><th>float32</th><th>float32</th><th>float32</th><th>float32</th><th>float32</th><th>float32</th><th>float64</th><th>float64</th><th>float64</th><th>float64</th><th>float64</th><th>float64</th><th>float64</th><th>float64</th><th>int64</th><th>float64</th><th>bool</th><th>float64</th><th>float64</th><th>float64</th><th>float64</th><th>bool</th><th>bool</th></tr></thead>\n",
       "<tr><td>133.12902069091797</td><td>2.1242727373087136</td><td>-0.1875842618687348</td><td>0.5552175105355567</td><td>0.5860497754509757</td><td>1.8966128664839461</td><td>0.1346655056342522</td><td>0.05126106422570458</td><td>0.36201964009202864</td><td>0.0707399673471511</td><td>1.8667911395989196</td><td>3.6410948258530422</td><td>11.813612854665807</td><td>0.0</td><td>0.0</td><td>0.0</td><td>0.0</td><td>12</td><td>0.3609133322945253</td><td>0.4472607704742266</td><td>0.16848225967903813</td><td>1</td><td>1000</td><td>21709</td><td>-1</td><td>0.1733301728963852</td><td>-0.7611258297743264</td><td>1.1067874431610107</td><td>3.1422173976898193</td><td>625.9674072265625</td><td>24.89336585998535</td><td>19538.001953125</td><td>101</td><td>3.1415927410125732</td><td>1.2217304706573486</td><td>443.3333435058594</td><td>701.1343353894323</td><td>0.38065474884806966</td><td>1</td><td>-70.93</td><td>-52.07</td><td>43.0</td><td>0</td><td>-3.030817</td><td>-0.54733795</td><td>3.0798426</td><td>0.17866522</td><td>-1.0</td><td>-3.2184012</td><td>0.007879584</td><td>-1.352125055541285</td><td>0.04445032538715311</td><td>-0.1792555911813582</td><td>-0.047744196957384015</td><td>-0.36683985305009303</td><td>0.5074733135781727</td><td>1.2081937359165749</td><td>3.1927033755383905</td><td>101</td><td>0.15766666666666668</td><td>True</td><td>1411.0662911959037</td><td>6.585764948050495</td><td>1.281312954900942</td><td>1.2813129552474156</td><td>False</td><td>False</td></tr>\n",
       "<tr><td>118.76984453201294</td><td>2.0747061879871227</td><td>0.3188190411284175</td><td>0.5688461384830538</td><td>0.6520977766049545</td><td>1.059953162812509</td><td>0.10080719698433968</td><td>0.05661966877149987</td><td>-0.3968388282526971</td><td>0.6980975431072863</td><td>2.6514405291049368</td><td>-3.30491212561677</td><td>13.461572922088118</td><td>0.0</td><td>0.0</td><td>0.0</td><td>0.0</td><td>25</td><td>0.6271877342146429</td><td>0.5114944343009856</td><td>0.3308165556552417</td><td>3</td><td>1000</td><td>45603</td><td>-1</td><td>0.3489316701889038</td><td>-0.457259610763769</td><td>1.2069308757781982</td><td>3.2499969005584717</td><td>223.1637725830078</td><td>-374.0477294921875</td><td>19564.3828125</td><td>101</td><td>3.1415927410125732</td><td>1.2217304706573486</td><td>214.0</td><td>436.0743121729029</td><td>0.5616629612297988</td><td>1</td><td>-70.93</td><td>-52.07</td><td>43.0</td><td>0</td><td>-0.67823505</td><td>0.5096314</td><td>0.8483672</td><td>-0.6444017</td><td>-1.0</td><td>-0.35941604</td><td>1.0784775</td><td>-1.4667848942709218</td><td>0.0341361946071382</td><td>-0.11648497845341886</td><td>0.008496289093546303</td><td>0.20233406267499865</td><td>0.5773424275766</td><td>1.2283613130263895</td><td>3.2030325057842037</td><td>101</td><td>0.16152380952380951</td><td>True</td><td>914.4297804471809</td><td>2.3261332732582227</td><td>1.2518430601799355</td><td>1.2518430606389814</td><td>False</td><td>False</td></tr>\n",
       "<tr><td>396.0844430923462</td><td>2.597787785065666</td><td>-0.021528051560959393</td><td>-0.8156950428084994</td><td>0.8159790805323203</td><td>-1.5971824809913402</td><td>0.12416933558974627</td><td>0.08760652864625196</td><td>0.20190633719350712</td><td>-0.4810850701402144</td><td>2.5781182662660074</td><td>7.805712147751403</td><td>13.118812213704299</td><td>0.0</td><td>0.0</td><td>0.0</td><td>0.0</td><td>20</td><td>0.2440708929668346</td><td>0.4646889804932137</td><td>0.18547368587263763</td><td>1</td><td>1000</td><td>86705</td><td>-1</td><td>1.5762910842895508</td><td>0.19763641913559823</td><td>1.2183231115341187</td><td>3.170413017272949</td><td>-92.973876953125</td><td>-616.0344848632812</td><td>27888.158203125</td><td>101</td><td>3.1415927410125732</td><td>1.2217304706573486</td><td>177.3333282470703</td><td>564.3951390905071</td><td>0.7055407700311991</td><td>1</td><td>-70.93</td><td>-52.07</td><td>43.0</td><td>0</td><td>-0.07010472</td><td>1.094244</td><td>1.0964874</td><td>-1.506817</td><td>-1.0</td><td>-0.091632776</td><td>0.27854896</td><td>-1.0090139490185266</td><td>0.09794585258689019</td><td>0.1479627507176723</td><td>0.04661127397190367</td><td>0.1264346991567129</td><td>-0.7690837688365957</td><td>1.2251981467279673</td><td>3.0604327642935902</td><td>101</td><td>0.2965714285714286</td><td>True</td><td>359.01684233888847</td><td>0.6000376053634816</td><td>1.5948783956592458</td><td>1.5948783962985127</td><td>False</td><td>False</td></tr>\n",
       "<tr><td>411.700590133667</td><td>2.6145814895177955</td><td>-0.04806866741109484</td><td>0.42089887547562727</td><td>0.42363481934718966</td><td>1.6845084516245066</td><td>0.3509992233505341</td><td>0.11602471566901787</td><td>1.0351994361426058</td><td>0.3436091073994043</td><td>2.321464010384421</td><td>1.9123700165537683</td><td>13.911643863532042</td><td>0.0</td><td>0.0</td><td>0.0</td><td>0.0</td><td>55</td><td>0.05426355070002212</td><td>0.36534599618283425</td><td>0.12712093956831874</td><td>3</td><td>1000</td><td>108509</td><td>-1</td><td>0.487339049577713</td><td>-0.31216878800993064</td><td>1.204121470451355</td><td>3.2209675312042236</td><td>49.96878433227539</td><td>-136.62823486328125</td><td>13041.0458984375</td><td>101</td><td>3.1415927410125732</td><td>1.2217304706573486</td><td>467.29730224609375</td><td>147.53511873996945</td><td>0.3305554769081267</td><td>1</td><td>-70.93</td><td>-52.07</td><td>43.0</td><td>0</td><td>-0.41527778</td><td>0.37527472</td><td>0.5597203</td><td>-0.73483986</td><td>-1.0</td><td>-0.46334645</td><td>0.7961736</td><td>-0.9009507350084266</td><td>0.12561724518404263</td><td>-0.16058543803223535</td><td>-0.2468403590993276</td><td>-0.20865410544333018</td><td>0.17405851637629965</td><td>1.2142265156131746</td><td>3.1594018808556337</td><td>101</td><td>0.020833333333333336</td><td>True</td><td>743.3512075804676</td><td>1.8849378748902268</td><td>0.5560168123515461</td><td>0.5560168124455046</td><td>False</td><td>False</td></tr>\n",
       "<tr><td>292.30858421325684</td><td>2.4658415694515425</td><td>-0.6149982041981505</td><td>0.3545077398503927</td><td>0.7098581046806353</td><td>2.618679076322376</td><td>0.09654140823169108</td><td>0.07703928716274816</td><td>-0.6539369033513975</td><td>-0.6334968869853946</td><td>2.7623095702724667</td><td>-1.8930873890539912</td><td>12.78669752868622</td><td>0.0</td><td>0.0</td><td>0.0</td><td>0.0</td><td>25</td><td>0.38748220167445935</td><td>0.3028094237586137</td><td>0.17904388106107563</td><td>2</td><td>1000</td><td>192100</td><td>-1</td><td>0.6865946054458618</td><td>-0.16329961313616187</td><td>1.1788705587387085</td><td>3.1660261154174805</td><td>-10.646855354309082</td><td>-62.55036544799805</td><td>23787.3828125</td><td>101</td><td>3.1415927410125732</td><td>1.2217304706573486</td><td>263.8709716796875</td><td>61.18738130928226</td><td>0.7979921628847644</td><td>1</td><td>-70.93</td><td>-52.07</td><td>43.0</td><td>0</td><td>-0.5820756</td><td>-0.09297289</td><td>0.58945394</td><td>0.15838856</td><td>-1.0</td><td>-1.1970738</td><td>0.26153484</td><td>-1.115920618986507</td><td>0.07657365566265348</td><td>0.06807379214836484</td><td>-0.02794617428127694</td><td>-0.5469244120497857</td><td>0.32656156556911575</td><td>1.2020201506269708</td><td>3.173945846166686</td><td>101</td><td>0.01</td><td>True</td><td>601.0286337971279</td><td>2.5072933192929843</td><td>1.3034568272076035</td><td>1.3034568273486182</td><td>False</td><td>False</td></tr>\n",
       "<tr><td>3180.149275302887</td><td>3.50244750612241</td><td>-0.19751121217565915</td><td>0.19529562480311694</td><td>0.2777607963740349</td><td>2.3618348295876306</td><td>0.27516240398072805</td><td>0.2365983173574856</td><td>-1.515344974248083</td><td>-0.30131953393688604</td><td>3.0315462332950998</td><td>-2.1497526872531</td><td>14.052594112409569</td><td>0.0</td><td>0.0</td><td>0.0</td><td>0.0</td><td>133</td><td>0.11770947754681868</td><td>0.4452979306975103</td><td>0.04792431122860773</td><td>2</td><td>1000</td><td>424605</td><td>-1</td><td>1.6850411891937256</td><td>0.22661052124350992</td><td>1.2196547985076904</td><td>3.1078202724456787</td><td>-96.1454086303711</td><td>106.75829315185547</td><td>31080.6484375</td><td>101</td><td>3.1415927410125732</td><td>1.2217304706573486</td><td>296.75</td><td>160.81742264318555</td><td>0.8598497248703226</td><td>1</td><td>-70.93</td><td>-52.07</td><td>43.0</td><td>0</td><td>0.14455445</td><td>-0.52050966</td><td>0.5402095</td><td>-1.2999058</td><td>1.0</td><td>-0.052956767</td><td>-0.32521403</td><td>-0.40037028851541623</td><td>0.39776788075632824</td><td>0.10300433377168025</td><td>-0.31289904507657595</td><td>-0.0945068784039789</td><td>-0.11760342027345902</td><td>1.218331208558877</td><td>3.129425770277754</td><td>101</td><td>0.025666666666666664</td><td>True</td><td>344.4695831838903</td><td>0.6742433197621867</td><td>0.3087240068518895</td><td>0.30872400692914975</td><td>False</td><td>False</td></tr>\n",
       "<tr><td>482.52270221710205</td><td>2.6835177512874218</td><td>0.1005896945054531</td><td>0.4223698131945491</td><td>0.4341826179601144</td><td>1.3369961167016056</td><td>0.21086014212021922</td><td>0.07735910090821242</td><td>-1.0612399614663066</td><td>-0.1936342788558814</td><td>2.3090712156700066</td><td>-9.094270136353387</td><td>13.773006446031022</td><td>0.0</td><td>0.0</td><td>0.0</td><td>0.0</td><td>32</td><td>0.2431504398875231</td><td>0.37896469737903593</td><td>0.11594384535707716</td><td>2</td><td>1000</td><td>516801</td><td>-1</td><td>0.5450257658958435</td><td>-0.2635829661235765</td><td>1.2421295642852783</td><td>3.098520040512085</td><td>-218.8563995361328</td><td>204.36074829101562</td><td>12429.33984375</td><td>101</td><td>3.1415927410125732</td><td>1.2217304706573486</td><td>356.4285583496094</td><td>296.03876114795133</td><td>0.36687398637959334</td><td>1</td><td>-70.93</td><td>-52.07</td><td>43.0</td><td>0</td><td>0.47846478</td><td>-0.81163114</td><td>0.94216436</td><td>-1.0381256</td><td>1.0</td><td>0.5790545</td><td>-0.38926134</td><td>-0.5952918056023294</td><td>0.25392659810617463</td><td>0.30228610430981123</td><td>-0.5417674109010352</td><td>0.40287579881526436</td><td>-0.11939759770648611</td><td>1.2360928798514184</td><td>3.128612506668545</td><td>0</td><td>0.5718333333333333</td><td>True</td><td>693.5389262116736</td><td>1.4277178935679973</td><td>0.859835409601063</td><td>0.8598354096296463</td><td>False</td><td>False</td></tr>\n",
       "<tr><td>107.60441589355469</td><td>2.031830094368023</td><td>-0.2575869810280749</td><td>-0.17291619778229692</td><td>0.31024355634024736</td><td>-2.5503944122719475</td><td>0.10457636658107035</td><td>0.04451290078563447</td><td>0.12083815911944558</td><td>-0.35913908712182235</td><td>2.136021238044304</td><td>-0.4331897080566263</td><td>11.986102585602449</td><td>0.0</td><td>0.0</td><td>0.0</td><td>0.0</td><td>12</td><td>0.492129709132053</td><td>0.1416502043473569</td><td>0.18736729758791984</td><td>2</td><td>1000</td><td>516802</td><td>-1</td><td>0.5450257658958435</td><td>-0.2635829661235765</td><td>1.2421295642852783</td><td>3.098520040512085</td><td>-321.7713623046875</td><td>34.46943283081055</td><td>12429.33984375</td><td>101</td><td>3.1415927410125732</td><td>1.2217304706573486</td><td>356.4285583496094</td><td>265.3496980809079</td><td>0.42564971647898</td><td>1</td><td>-70.93</td><td>-52.07</td><td>43.0</td><td>0</td><td>0.8366415</td><td>-0.21634513</td><td>0.86416095</td><td>-0.25304466</td><td>1.0</td><td>0.5790545</td><td>-0.38926134</td><td>-1.4800634942150503</td><td>0.033108271337551516</td><td>0.08749057842550612</td><td>0.029449708242058056</td><td>-0.1700964026025688</td><td>-0.14346648954023886</td><td>1.2156201219602458</td><td>3.1268586232665205</td><td>101</td><td>0.28657142857142853</td><td>True</td><td>693.5389262116736</td><td>1.4277178935679973</td><td>0.4553378194852295</td><td>0.4553378195631841</td><td>False</td><td>False</td></tr>\n",
       "<tr><td>706.5705013275146</td><td>2.849155502079712</td><td>0.5230899526827896</td><td>0.3899982216215288</td><td>0.6524735331533671</td><td>0.6406574734292257</td><td>0.5001912998442203</td><td>0.13313623627670232</td><td>0.866717521241281</td><td>0.3172920896125285</td><td>2.3040970992783056</td><td>-19.35376945277357</td><td>20.34089754565627</td><td>0.109188005</td><td>0.11773361</td><td>0.0037735849056603774</td><td>0.00431266846361186</td><td>84</td><td>0.06868176771629615</td><td>0.3535329365499225</td><td>0.032842346019607394</td><td>3</td><td>1000</td><td>630508</td><td>-1</td><td>3.064328193664551</td><td>0.48633527697378953</td><td>1.2664179801940918</td><td>3.289616107940674</td><td>-333.6769104003906</td><td>-329.8279724121094</td><td>18900.318359375</td><td>101</td><td>3.1415927410125732</td><td>1.2217304706573486</td><td>299.549560546875</td><td>382.34203296603295</td><td>0.26617063575109423</td><td>1</td><td>-70.93</td><td>-52.07</td><td>43.0</td><td>0</td><td>0.8144857</td><td>0.84944236</td><td>1.1768345</td><td>0.8064036</td><td>1.0</td><td>1.3375757</td><td>1.2394406</td><td>0.46535553757385334</td><td>2.9198163596152806</td><td>1.141610885388322</td><td>1.3457689287413366</td><td>1.6647008380711115</td><td>1.7357671503628653</td><td>1.274940061204507</td><td>3.3553261257088223</td><td>101</td><td>0.03</td><td>True</td><td>237.75055038553907</td><td>3.730825266972979</td><td>4.919825949776239</td><td>4.9198259508247295</td><td>False</td><td>False</td></tr>\n",
       "<tr><td>...</td><td>...</td><td>...</td><td>...</td><td>...</td><td>...</td><td>...</td><td>...</td><td>...</td><td>...</td><td>...</td><td>...</td><td>...</td><td>...</td><td>...</td><td>...</td><td>...</td><td>...</td><td>...</td><td>...</td><td>...</td><td>...</td><td>...</td><td>...</td><td>...</td><td>...</td><td>...</td><td>...</td><td>...</td><td>...</td><td>...</td><td>...</td><td>...</td><td>...</td><td>...</td><td>...</td><td>...</td><td>...</td><td>...</td><td>...</td><td>...</td><td>...</td><td>...</td><td>...</td><td>...</td><td>...</td><td>...</td><td>...</td><td>...</td><td>...</td><td>...</td><td>...</td><td>...</td><td>...</td><td>...</td><td>...</td><td>...</td><td>...</td><td>...</td><td>...</td><td>...</td><td>...</td><td>...</td><td>...</td><td>...</td><td>...</td><td>...</td></tr>\n",
       "<tr><td>907.6849784851074</td><td>2.9579351482524894</td><td>-0.14571759828115494</td><td>-0.20593014045189414</td><td>0.25227136420007107</td><td>-2.1866094017006024</td><td>0.2713620638987408</td><td>0.11952666659895862</td><td>-0.4607255777418049</td><td>-0.6951856901105903</td><td>2.4094931862779907</td><td>-0.2606094213578063</td><td>13.530976181928658</td><td>0.0</td><td>0.0</td><td>0.0</td><td>0.0</td><td>60</td><td>0.1113936008123519</td><td>0.28606562503268884</td><td>0.06922088459145317</td><td>2</td><td>9</td><td>9521305</td><td>-1</td><td>0.5602009892463684</td><td>-0.25165612860088377</td><td>1.2108592987060547</td><td>3.1082024574279785</td><td>-12.087594985961914</td><td>-28.585947036743164</td><td>48317.421875</td><td>101</td><td>3.1415927410125732</td><td>1.2217304706573486</td><td>223.84616088867188</td><td>63.355579020305484</td><td>0.4404693304645568</td><td>1</td><td>-70.93</td><td>-52.07</td><td>43.0</td><td>0</td><td>-0.15350808</td><td>-0.12333099</td><td>0.19691435</td><td>0.67682093</td><td>-1.0</td><td>-0.2992257</td><td>-0.32926112</td><td>-0.8992571255849827</td><td>0.12610806862421176</td><td>0.34326487604059547</td><td>-0.16000124858536574</td><td>0.19754727775944053</td><td>-0.36593138903725986</td><td>1.2285465383534917</td><td>3.1026436841895633</td><td>101</td><td>0.05683333333333333</td><td>True</td><td>681.8301515126753</td><td>0.9104106128279967</td><td>0.850937908630137</td><td>0.8509379089014781</td><td>False</td><td>False</td></tr>\n",
       "<tr><td>222.73676586151123</td><td>2.3477919094134587</td><td>0.9007559076290854</td><td>-0.2052679919549801</td><td>0.9238485555814477</td><td>-0.2240579138586102</td><td>0.08437833701387289</td><td>0.068508540895394</td><td>0.17142327397175378</td><td>0.42831363289165714</td><td>2.5512915782548085</td><td>3.2845024099155546</td><td>12.773028363865837</td><td>0.0</td><td>0.0</td><td>0.0</td><td>0.0</td><td>11</td><td>0.45778984279460655</td><td>0.45778984279460655</td><td>0.24907418197487668</td><td>1</td><td>9</td><td>9563309</td><td>-1</td><td>0.5036532878875732</td><td>-0.2978683265959358</td><td>1.259064793586731</td><td>3.0731618404388428</td><td>-176.3163604736328</td><td>-46.957122802734375</td><td>24379.41015625</td><td>101</td><td>3.1415927410125732</td><td>1.2217304706573486</td><td>129.04762268066406</td><td>105.51031428097167</td><td>0.8119209659717554</td><td>1</td><td>-70.93</td><td>-52.07</td><td>43.0</td><td>0</td><td>0.1635072</td><td>-0.382412</td><td>0.41590086</td><td>-1.1667525</td><td>1.0</td><td>1.0642631</td><td>-0.58768</td><td>-1.2499489682696305</td><td>0.056240740693483</td><td>-0.09438624858590214</td><td>-0.014944587874221623</td><td>0.8063696590431833</td><td>-0.22021257982920173</td><td>1.2504371201002304</td><td>3.1166260151104384</td><td>101</td><td>0.03</td><td>True</td><td>728.3292725639403</td><td>2.4875998972795945</td><td>1.7104633156490494</td><td>1.7104633156978892</td><td>False</td><td>False</td></tr>\n",
       "<tr><td>870.0927143096924</td><td>2.9395655321217737</td><td>0.685877879985829</td><td>0.18651795563972784</td><td>0.7107864756942684</td><td>0.26551957473844395</td><td>0.3214124001348596</td><td>0.07891141951613213</td><td>-0.8121574279129298</td><td>0.17499122070571885</td><td>2.070488559753179</td><td>-1.1035036588237936</td><td>13.003713218437262</td><td>0.0</td><td>0.0</td><td>0.0</td><td>0.0</td><td>57</td><td>0.05873821476490962</td><td>0.25065323401472545</td><td>0.06661050759202905</td><td>3</td><td>9</td><td>9655509</td><td>-1</td><td>5.133782386779785</td><td>0.7104374556436189</td><td>1.279059648513794</td><td>3.1756348609924316</td><td>-421.05596923828125</td><td>87.81128692626953</td><td>22288.712890625</td><td>101</td><td>3.1415927410125732</td><td>1.2217304706573486</td><td>313.6734619140625</td><td>377.03443936611217</td><td>0.24551454605678605</td><td>1</td><td>-70.93</td><td>-52.07</td><td>43.0</td><td>0</td><td>0.92373204</td><td>0.08803661</td><td>0.9279177</td><td>0.09501836</td><td>1.0</td><td>1.60961</td><td>0.27455455</td><td>-0.9205929095980994</td><td>0.1200624193296447</td><td>-0.08136909650257297</td><td>0.06938967073903907</td><td>0.6045087834832561</td><td>0.2559076263787669</td><td>1.2431980995086833</td><td>3.1699935607629555</td><td>101</td><td>0.04166666666666666</td><td>True</td><td>172.65461055843122</td><td>3.341226361280397</td><td>1.343252287195679</td><td>1.3432522872797017</td><td>False</td><td>False</td></tr>\n",
       "<tr><td>394.6842579841614</td><td>2.5962498048678957</td><td>-0.1551201696521499</td><td>0.5285093886508733</td><td>0.5508034503568687</td><td>1.8562838431323996</td><td>0.22205572361133238</td><td>0.07563139392603332</td><td>-0.9924971027878398</td><td>0.4264220237543053</td><td>1.9799448042952372</td><td>6.795266655018731</td><td>13.413323150358767</td><td>0.0</td><td>0.0</td><td>0.0</td><td>0.0</td><td>29</td><td>0.14661546870381495</td><td>0.24988582000815812</td><td>0.1570856694206744</td><td>1</td><td>9</td><td>9682207</td><td>-1</td><td>0.9807122945785522</td><td>-0.008458380186709021</td><td>1.2022223472595215</td><td>3.244520902633667</td><td>11.625041961669922</td><td>-213.17953491210938</td><td>20118.14453125</td><td>101</td><td>3.1415927410125732</td><td>1.2217304706573486</td><td>321.1111145019531</td><td>181.02932729701652</td><td>0.34059646243756425</td><td>1</td><td>-70.93</td><td>-52.07</td><td>43.0</td><td>0</td><td>-0.34092718</td><td>0.5083967</td><td>0.61212623</td><td>-0.9800805</td><td>-1.0</td><td>-0.49604735</td><td>1.036906</td><td>-0.7492543369790533</td><td>0.1781335254036916</td><td>-0.28325495858048944</td><td>0.37644209352774294</td><td>-0.43837512823263936</td><td>0.9049514821786162</td><td>1.204701026749213</td><td>3.2319744471090908</td><td>101</td><td>0.42900000000000005</td><td>True</td><td>481.82973551831515</td><td>2.3519964946877487</td><td>2.057545362768599</td><td>2.0575453634543233</td><td>False</td><td>False</td></tr>\n",
       "<tr><td>142.23506784439087</td><td>2.1530066842539313</td><td>0.1286295950977331</td><td>-0.42572922801965113</td><td>0.4447369428383647</td><td>-1.277377891126017</td><td>0.054977614813353004</td><td>0.04025280686140701</td><td>-0.5774272531436042</td><td>-0.4648772107378395</td><td>2.6737898563839693</td><td>7.626657409342722</td><td>11.926047687031675</td><td>0.0</td><td>0.0</td><td>0.0</td><td>0.0</td><td>5</td><td>0.8783607478445778</td><td>0.4332275609218224</td><td>0.4332275609218224</td><td>1</td><td>9</td><td>9726005</td><td>-1</td><td>0.20900675654411316</td><td>-0.6798396742602587</td><td>1.2209748029708862</td><td>3.079562187194824</td><td>2.9812700748443604</td><td>-248.81089782714844</td><td>28370.46484375</td><td>101</td><td>3.1415927410125732</td><td>1.2217304706573486</td><td>123.75</td><td>210.16626010637867</td><td>0.7321672102011668</td><td>1</td><td>-70.93</td><td>-52.07</td><td>43.0</td><td>0</td><td>-0.1324435</td><td>-0.1692066</td><td>0.21487708</td><td>0.90667343</td><td>-1.0</td><td>-0.003813911</td><td>-0.59493583</td><td>-1.2892655437907627</td><td>0.051372944225413504</td><td>0.05177441705314791</td><td>-0.03137608450380505</td><td>0.18040401215088103</td><td>-0.4571053125234562</td><td>1.2278009526180653</td><td>3.09303466321497</td><td>101</td><td>0.025666666666666664</td><td>True</td><td>1256.4638581851311</td><td>1.2174290467660982</td><td>1.0055701275650848</td><td>1.005570127923355</td><td>False</td><td>False</td></tr>\n",
       "<tr><td>116.62798500061035</td><td>2.0668027723190034</td><td>0.19751360452763345</td><td>-0.5846367110085373</td><td>0.6170994310744244</td><td>-1.2449953659192032</td><td>0.08193870638058065</td><td>0.06637117732120547</td><td>0.3152052576772026</td><td>-0.34554532911369296</td><td>2.252556347704037</td><td>2.4074476181012385</td><td>11.849919024337252</td><td>0.0</td><td>0.0</td><td>0.0</td><td>0.0</td><td>9</td><td>0.5334879408689793</td><td>0.18634468840019747</td><td>0.19193819161287537</td><td>1</td><td>9</td><td>9782600</td><td>-1</td><td>7.492032527923584</td><td>0.8745996542700782</td><td>1.2049121856689453</td><td>2.976313829421997</td><td>308.48663330078125</td><td>589.903076171875</td><td>23961.80078125</td><td>101</td><td>3.1415927410125732</td><td>1.2217304706573486</td><td>380.8333435058594</td><td>745.7120167964492</td><td>0.810010070368103</td><td>1</td><td>-70.93</td><td>-52.07</td><td>43.0</td><td>0</td><td>-0.54012746</td><td>-1.064627</td><td>1.1938041</td><td>1.1012943</td><td>-1.0</td><td>-0.34261388</td><td>-1.6492637</td><td>-1.3979730016131822</td><td>0.03999696135324488</td><td>0.011275303175584192</td><td>0.03750569336599714</td><td>0.20878890770321765</td><td>-0.5471310176425401</td><td>1.228652129603416</td><td>3.083323845216676</td><td>101</td><td>0.1220238095238095</td><td>True</td><td>136.58330488508744</td><td>3.446821349091918</td><td>1.19832170591854</td><td>1.1983217063492253</td><td>False</td><td>False</td></tr>\n",
       "<tr><td>126.79556179046631</td><td>2.1031040522551505</td><td>0.10003211001781587</td><td>-0.5819836883035209</td><td>0.5905179391737275</td><td>-1.4005782871351415</td><td>0.0690478716968361</td><td>0.059471760481712016</td><td>-0.8837394011993005</td><td>0.14529651535970536</td><td>2.3362686134769266</td><td>-30.813891369636785</td><td>12.832967043881718</td><td>0.0</td><td>0.0</td><td>0.0</td><td>0.0</td><td>8</td><td>0.6460320874654054</td><td>0.2873318517619633</td><td>0.2873318517619633</td><td>1</td><td>9</td><td>9834300</td><td>-1</td><td>0.0675329864025116</td><td>-1.1704840447496232</td><td>1.1966979503631592</td><td>2.968803644180298</td><td>307.9560241699219</td><td>340.0945739746094</td><td>14396.26953125</td><td>101</td><td>3.1415927410125732</td><td>1.2217304706573486</td><td>335.3333435058594</td><td>545.2959493558272</td><td>0.8613120002138621</td><td>1</td><td>-70.93</td><td>-52.07</td><td>43.0</td><td>0</td><td>-0.6577279</td><td>-1.1787425</td><td>1.3498296</td><td>1.0618386</td><td>-1.0</td><td>-0.5576958</td><td>-1.7607262</td><td>-1.4455253026022232</td><td>0.03584880616536662</td><td>0.012822881830550364</td><td>-0.26597051092121327</td><td>0.11285499184836623</td><td>-0.8479541992247341</td><td>1.2244893482479382</td><td>3.0522670074378695</td><td>101</td><td>0.22602380952380954</td><td>True</td><td>2531.3343380343144</td><td>3.779122482343238</td><td>1.7504452936302166</td><td>1.7504452943381852</td><td>False</td><td>False</td></tr>\n",
       "<tr><td>2337.652645587921</td><td>3.368779979318693</td><td>0.3945704621054851</td><td>-0.5120789368365558</td><td>0.6464601202841467</td><td>-0.9142870764724549</td><td>0.6348622260676077</td><td>0.15315301229283484</td><td>0.011471215984924989</td><td>-0.14968316196478312</td><td>2.1327615060849316</td><td>23.326360023892033</td><td>26.41702650174058</td><td>0.030709118</td><td>0.067848235</td><td>0.0037735849056603774</td><td>0.007008086253369272</td><td>152</td><td>0.05007354948589815</td><td>0.38336436817660713</td><td>0.024576826542677923</td><td>1</td><td>9</td><td>9885701</td><td>-1</td><td>15.835829734802246</td><td>1.1996408236160745</td><td>1.180710792541504</td><td>3.0816810131073</td><td>409.7389831542969</td><td>-7.967090606689453</td><td>18427.193359375</td><td>101</td><td>3.1415927410125732</td><td>1.2217304706573486</td><td>365.97015380859375</td><td>482.68803408619846</td><td>0.24123818681334694</td><td>1</td><td>-70.93</td><td>-52.07</td><td>43.0</td><td>0</td><td>-1.525154</td><td>-0.12602437</td><td>1.5303519</td><td>0.08244329</td><td>-1.0</td><td>-1.1305835</td><td>-0.6381033</td><td>1.0372687213243612</td><td>10.896040813695572</td><td>-1.775819366472108</td><td>0.008736995476865331</td><td>-1.381248904366623</td><td>-0.5033419413596905</td><td>1.1720094329522326</td><td>3.09533975927189</td><td>101</td><td>0.019</td><td>True</td><td>85.87605630491106</td><td>2.656361901996794</td><td>3.0080953093109644</td><td>3.008095309455718</td><td>False</td><td>False</td></tr>\n",
       "<tr><td>657.9681248664856</td><td>2.8182048548147076</td><td>0.06260621273275076</td><td>0.0623346429803372</td><td>0.08834673501734258</td><td>0.7832245803593805</td><td>0.40505829360531326</td><td>0.09661521769018004</td><td>0.49626970486909394</td><td>0.629249095662462</td><td>2.500159896590599</td><td>35.31447800459404</td><td>21.214513424879</td><td>0.0</td><td>0.0</td><td>0.0</td><td>0.0</td><td>48</td><td>0.09121514052134402</td><td>0.37098371449818585</td><td>0.08422283854099606</td><td>1</td><td>9</td><td>9885702</td><td>-1</td><td>15.835829734802246</td><td>1.1996408236160745</td><td>1.180710792541504</td><td>3.0816810131073</td><td>471.76934814453125</td><td>230.9134979248047</td><td>18427.193359375</td><td>101</td><td>3.1415927410125732</td><td>1.2217304706573486</td><td>365.97015380859375</td><td>612.0475820822879</td><td>0.23852176147347676</td><td>1</td><td>-70.93</td><td>-52.07</td><td>43.0</td><td>0</td><td>-1.1931897</td><td>-0.70043796</td><td>1.3835877</td><td>0.530828</td><td>-1.0</td><td>-1.1305835</td><td>-0.6381033</td><td>1.0450833364839172</td><td>11.093876745138829</td><td>-1.9402022512608736</td><td>-1.006048259829087</td><td>-1.877596038528123</td><td>-0.9437136168487498</td><td>1.1533581133044826</td><td>3.058566241750361</td><td>101</td><td>0.09733333333333333</td><td>True</td><td>85.87605630491106</td><td>2.656361901996794</td><td>4.2994371290849385</td><td>4.299437129439774</td><td>False</td><td>False</td></tr>\n",
       "<tr><td>315.225501537323</td><td>2.4986213443788756</td><td>-0.35836337787183753</td><td>-0.3042522274734456</td><td>0.47009970061920553</td><td>-2.4376766388244397</td><td>0.1284112155494808</td><td>0.086672407289296</td><td>-0.2027153469638781</td><td>-0.28047548327002086</td><td>2.112987838944632</td><td>0.5686690553196387</td><td>12.24260909274769</td><td>0.0</td><td>0.0</td><td>0.0</td><td>0.0</td><td>18</td><td>0.3116717610976621</td><td>0.3394511598443937</td><td>0.15541364757070647</td><td>1</td><td>9</td><td>9995902</td><td>-1</td><td>0.018485212698578835</td><td>-1.733175547888405</td><td>1.1948332786560059</td><td>2.981097459793091</td><td>-91.43944549560547</td><td>558.5341186523438</td><td>25050.935546875</td><td>101</td><td>3.1415927410125732</td><td>1.2217304706573486</td><td>50.0</td><td>610.9484648352442</td><td>0.6749597916227065</td><td>1</td><td>-70.93</td><td>-52.07</td><td>43.0</td><td>0</td><td>-0.2705618</td><td>-1.3400394</td><td>1.3670805</td><td>1.3715689</td><td>-1.0</td><td>-0.6289252</td><td>-1.6442915</td><td>-1.0839816175345107</td><td>0.08241729992026832</td><td>0.15320795456327072</td><td>-0.0045162654782313705</td><td>-0.20515542330856681</td><td>-0.30876849295167696</td><td>1.2142397668324019</td><td>3.10999618130479</td><td>101</td><td>0.05316666666666667</td><td>True</td><td>5652.209392480851</td><td>3.602139606208124</td><td>0.7585732288056068</td><td>0.7585732290223249</td><td>False</td><td>False</td></tr>\n",
       "</table>"
      ],
      "text/plain": [
       "<QTable length=300455>\n",
       "    intensity        log_intensity    ... selected_gh selected\n",
       "                                      ...                     \n",
       "     float64            float64       ...     bool      bool  \n",
       "------------------ ------------------ ... ----------- --------\n",
       "133.12902069091797 2.1242727373087136 ...       False    False\n",
       "118.76984453201294 2.0747061879871227 ...       False    False\n",
       " 396.0844430923462  2.597787785065666 ...       False    False\n",
       "  411.700590133667 2.6145814895177955 ...       False    False\n",
       "292.30858421325684 2.4658415694515425 ...       False    False\n",
       " 3180.149275302887   3.50244750612241 ...       False    False\n",
       "482.52270221710205 2.6835177512874218 ...       False    False\n",
       "107.60441589355469  2.031830094368023 ...       False    False\n",
       " 706.5705013275146  2.849155502079712 ...       False    False\n",
       "               ...                ... ...         ...      ...\n",
       " 907.6849784851074 2.9579351482524894 ...       False    False\n",
       "222.73676586151123 2.3477919094134587 ...       False    False\n",
       " 870.0927143096924 2.9395655321217737 ...       False    False\n",
       " 394.6842579841614 2.5962498048678957 ...       False    False\n",
       "142.23506784439087 2.1530066842539313 ...       False    False\n",
       "116.62798500061035 2.0668027723190034 ...       False    False\n",
       "126.79556179046631 2.1031040522551505 ...       False    False\n",
       " 2337.652645587921  3.368779979318693 ...       False    False\n",
       " 657.9681248664856 2.8182048548147076 ...       False    False\n",
       "  315.225501537323 2.4986213443788756 ...       False    False"
      ]
     },
     "execution_count": 28,
     "metadata": {},
     "output_type": "execute_result"
    }
   ],
   "source": [
    "protons"
   ]
  },
  {
   "cell_type": "code",
   "execution_count": 30,
   "id": "looking-workstation",
   "metadata": {},
   "outputs": [
    {
     "name": "stdout",
     "output_type": "stream",
     "text": [
      "sensitivity.hdf5 saved as /Users/davidsudm/Desktop/dl2_files/official/data/sensitivity.hdf5\n"
     ]
    }
   ],
   "source": [
    "output_data_file = '/Users/davidsudm/Desktop/dl2_files/official/data/sensitivity.hdf5'\n",
    "sensitivity_mc.write(output_data_file, path='sensitivity/standard', serialize_meta=True)\n",
    "gammas.write(output_data_file, path='events/gamma_on', serialize_meta=True, append=True)\n",
    "protons.write(output_data_file, path='events/proton', serialize_meta=True, append=True)\n",
    "\n",
    "proton_hist.write(output_data_file, path='histogram/proton', serialize_meta=True, append=True)\n",
    "gamma_hist.write(output_data_file, path='histogram/gamma_on', serialize_meta=True, append=True)\n",
    "\n",
    "print(\"sensitivity.hdf5 saved as {}\".format(output_data_file))"
   ]
  },
  {
   "cell_type": "code",
   "execution_count": null,
   "id": "fifty-stream",
   "metadata": {},
   "outputs": [],
   "source": []
  }
 ],
 "metadata": {
  "kernelspec": {
   "display_name": "Python 3",
   "language": "python",
   "name": "python3"
  },
  "language_info": {
   "codemirror_mode": {
    "name": "ipython",
    "version": 3
   },
   "file_extension": ".py",
   "mimetype": "text/x-python",
   "name": "python",
   "nbconvert_exporter": "python",
   "pygments_lexer": "ipython3",
   "version": "3.7.9"
  }
 },
 "nbformat": 4,
 "nbformat_minor": 5
}
