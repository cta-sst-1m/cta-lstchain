{
 "cells": [
  {
   "cell_type": "markdown",
   "metadata": {},
   "source": [
    "## LST Sensitivity calculation using pyirf\n",
    "\n",
    "This notebook allow to calculate the best LST sensitivity using real data.\n",
    "It uses MC gammas to optimize the best gammaness and $\\theta^2$ cuts.\n",
    "The gammaness cut can be optimized based on gamma efficiency or on the best sensitivity.\n",
    "Cuts are then applied to ON/OFF data to calculate sensitivity.\n",
    "Sensitivity using MC gammas as signal is also calculated.\n",
    "Some useful plots such as rates, cuts per energy bin, angular resolution, etc. are shown at the end. \n"
   ]
  },
  {
   "cell_type": "markdown",
   "metadata": {},
   "source": [
    "### Needed imports"
   ]
  },
  {
   "cell_type": "code",
   "execution_count": null,
   "metadata": {},
   "outputs": [],
   "source": [
    "from lstchain.io.io import read_dl2_to_pyirf, dl2_params_lstcam_key\n",
    "import logging\n",
    "import operator\n",
    "import os\n",
    "from lstchain.mc import plot_utils\n",
    "\n",
    "import numpy as np\n",
    "from astropy import table\n",
    "import astropy.units as u\n",
    "from astropy.io import fits\n",
    "import matplotlib.pyplot as plt\n",
    "from astropy.table import QTable\n",
    "import pandas as pd\n",
    "\n",
    "from pyirf.io.eventdisplay import read_eventdisplay_fits\n",
    "from pyirf.binning import (\n",
    "    create_bins_per_decade,\n",
    "    add_overflow_bins,\n",
    "    create_histogram_table,\n",
    ")\n",
    "from pyirf.cuts import calculate_percentile_cut, evaluate_binned_cut\n",
    "from pyirf.sensitivity import calculate_sensitivity, relative_sensitivity, estimate_background\n",
    "from pyirf.utils import calculate_theta, calculate_source_fov_offset\n",
    "from pyirf.benchmarks import energy_bias_resolution, angular_resolution\n",
    "\n",
    "from pyirf.spectral import (\n",
    "    calculate_event_weights,\n",
    "    PowerLaw,\n",
    "    CRAB_HEGRA,\n",
    "    IRFDOC_PROTON_SPECTRUM\n",
    ")\n",
    "from pyirf.cut_optimization import optimize_gh_cut\n",
    "\n",
    "from pyirf.irf import (\n",
    "    effective_area_per_energy,\n",
    "    energy_dispersion,\n",
    "    psf_table,\n",
    "    background_2d,\n",
    ")\n",
    "\n",
    "from pyirf.io import (\n",
    "    create_aeff2d_hdu,\n",
    "    create_psf_table_hdu,\n",
    "    create_energy_dispersion_hdu,\n",
    "    create_rad_max_hdu,\n",
    "    create_background_2d_hdu,\n",
    ")\n",
    "\n",
    "log = logging.getLogger(\"pyirf\")"
   ]
  },
  {
   "cell_type": "markdown",
   "metadata": {},
   "source": [
    "### Initial variables"
   ]
  },
  {
   "cell_type": "code",
   "execution_count": null,
   "metadata": {},
   "outputs": [],
   "source": [
    "#Observation time for sensitivity\n",
    "T_OBS = 50 * u.hour\n",
    "# scaling between on and off region.\n",
    "# Make off region 5 times larger than on region for better\n",
    "# background statistics\n",
    "ALPHA = 1/5\n",
    "\n",
    "# Radius to use for calculating bg rate\n",
    "MAX_BG_RADIUS = 1.0 * u.deg\n",
    "\n",
    "### Variables for pyirf cut optimisation\n",
    "# gamma efficiency used for first calculation of the binned theta cuts\n",
    "# initial theta cuts are calculated using a fixed g/h cut corresponding to this efficiency\n",
    "# then g/h cuts are optimized after applying these initial theta cuts. \n",
    "INITIAL_GH_CUT_EFFICENCY = 0.5\n",
    "#gamma efficiency used for gh cuts calculation\n",
    "MAX_GH_CUT_EFFICIENCY = 0.8\n",
    "GH_CUT_EFFICIENCY_STEP = 0.01\n",
    "\n",
    "### Variables for 2d grid theta/gammaness cut optimisation\n",
    "THETA_CUT_MIN = 0.0125\n",
    "THETA_CUT_MAX = 1\n",
    "THETA_CUT_STEP = 0.0125\n",
    "GH_CUT_MIN = 0\n",
    "GH_CUT_MAX = 1\n",
    "GH_CUT_STEP = 0.0125\n",
    "\n",
    "#Number of energy bins\n",
    "N_EBINS = 15\n",
    "#Energy range\n",
    "EMIN=0.01  #TeV\n",
    "EMAX=50  #TeV\n",
    "\n",
    "#Fixed cuts\n",
    "INTENSITY_CUT = 200\n",
    "LEAKAGE2_CUT = 0.2"
   ]
  },
  {
   "cell_type": "markdown",
   "metadata": {},
   "source": [
    "### Read hdf5 files into pyirf format"
   ]
  },
  {
   "cell_type": "code",
   "execution_count": null,
   "metadata": {},
   "outputs": [],
   "source": [
    "path_to_data = '/fefs/aswg/workspace/david.miranda/data/prod5/dl2/lstchain_v.0.6.3/mono-lst-sipm-pmma-3ns/50.50/intensity_200_leakage_0.2'\n",
    "\n",
    "file_gammas = os.path.join(path_to_data, 'dl2_gamma_on_merge_test.h5')\n",
    "file_protons = os.path.join(path_to_data, 'dl2_proton_merge_test.h5')\n",
    "\n",
    "#file_on = \"/home/queenmab/DATA/LST/ON/Run2007_on.h5\"\n",
    "#file_off = \"/home/queenmab/DATA/LST/OFF.h5\""
   ]
  },
  {
   "cell_type": "code",
   "execution_count": null,
   "metadata": {
    "scrolled": true
   },
   "outputs": [],
   "source": [
    "events_g, simu_info_g = read_dl2_to_pyirf(file_gammas)\n",
    "events_p, simu_info_p = read_dl2_to_pyirf(file_protons)"
   ]
  },
  {
   "cell_type": "markdown",
   "metadata": {},
   "source": [
    "### Apply quality cuts"
   ]
  },
  {
   "cell_type": "code",
   "execution_count": null,
   "metadata": {},
   "outputs": [],
   "source": [
    "for events in (events_g, events_p):#, events_on, events_off):\n",
    "        events['good_events'] = (events['intensity']>=INTENSITY_CUT) & \\\n",
    "        (events['leakage_intensity_width_2']<=LEAKAGE2_CUT) & \\\n",
    "        (events['tel_id'] == 1.0)"
   ]
  },
  {
   "cell_type": "code",
   "execution_count": null,
   "metadata": {},
   "outputs": [],
   "source": [
    "particles = {\n",
    "         \"gamma\": {\n",
    "                \"events\": events_g[events_g['good_events']],\n",
    "                \"simulation_info\": simu_info_g,\n",
    "                \"target_spectrum\": CRAB_HEGRA\n",
    "            },\n",
    "        \"proton\": {\n",
    "                \"events\": events_p[events_p['good_events']],\n",
    "                \"simulation_info\": simu_info_p,\n",
    "                \"target_spectrum\": IRFDOC_PROTON_SPECTRUM\n",
    "            },\n",
    "        #\"off\": {\n",
    "        #        \"events\": events_off[events_off['good_events']]\n",
    "        #    },\n",
    "        #\"on\":{\n",
    "        #        \"events\": events_on[events_on['good_events']]\n",
    "        #    }\n",
    "        }"
   ]
  },
  {
   "cell_type": "code",
   "execution_count": null,
   "metadata": {},
   "outputs": [],
   "source": [
    "# Manage MC gammas:\n",
    "#Get simulated spectrum\n",
    "particles[\"gamma\"][\"simulated_spectrum\"] = PowerLaw.from_simulation(particles[\"gamma\"][\"simulation_info\"], \n",
    "                                                                    T_OBS)\n",
    "#Reweight to target spectrum (Crab Hegra)\n",
    "particles[\"gamma\"][\"events\"][\"weight\"] = calculate_event_weights(\n",
    "        particles[\"gamma\"][\"events\"][\"true_energy\"], \n",
    "        particles[\"gamma\"][\"target_spectrum\"], \n",
    "        particles[\"gamma\"][\"simulated_spectrum\"]\n",
    "        )\n",
    "for prefix in ('true', 'reco'):\n",
    "    k = f\"{prefix}_source_fov_offset\"\n",
    "    particles[\"gamma\"][\"events\"][k] = calculate_source_fov_offset(particles[\"gamma\"][\"events\"], prefix=prefix) \n",
    "particles[\"gamma\"][\"events\"][\"source_fov_offset\"] = calculate_source_fov_offset(particles[\"gamma\"][\"events\"])\n",
    "# calculate theta / distance between reco and assumed source position\n",
    "# we handle only ON observations here, so the assumed source position\n",
    "# is the pointing position\n",
    "particles[\"gamma\"][\"events\"][\"theta\"] = calculate_theta(\n",
    "        particles[\"gamma\"][\"events\"],\n",
    "        assumed_source_az=particles[\"gamma\"][\"events\"][\"true_az\"],\n",
    "        assumed_source_alt=particles[\"gamma\"][\"events\"][\"true_alt\"],\n",
    "        )"
   ]
  },
  {
   "cell_type": "code",
   "execution_count": null,
   "metadata": {},
   "outputs": [],
   "source": [
    "# Manage MC protons:\n",
    "#Get simulated spectrum\n",
    "particles[\"proton\"][\"simulated_spectrum\"] = PowerLaw.from_simulation(particles[\"proton\"][\"simulation_info\"], \n",
    "                                                                    T_OBS)\n",
    "#Reweight to target spectrum:\n",
    "particles[\"proton\"][\"events\"][\"weight\"] = calculate_event_weights(\n",
    "        particles[\"proton\"][\"events\"][\"true_energy\"], \n",
    "        particles[\"proton\"][\"target_spectrum\"], \n",
    "        particles[\"proton\"][\"simulated_spectrum\"]\n",
    "        )\n",
    "for prefix in ('true', 'reco'):\n",
    "    k = f\"{prefix}_source_fov_offset\"\n",
    "    particles[\"proton\"][\"events\"][k] = calculate_source_fov_offset(particles[\"proton\"][\"events\"], prefix=prefix)        \n",
    "# calculate theta / distance between reco and assumed source position\n",
    "# we handle only ON observations here, so the assumed source position\n",
    "# is the pointing position\n",
    "particles[\"proton\"][\"events\"][\"theta\"] = calculate_theta(\n",
    "        particles[\"proton\"][\"events\"],\n",
    "        assumed_source_az=particles[\"proton\"][\"events\"][\"pointing_az\"],\n",
    "        assumed_source_alt=particles[\"proton\"][\"events\"][\"pointing_alt\"],\n",
    "        )"
   ]
  },
  {
   "cell_type": "code",
   "execution_count": null,
   "metadata": {},
   "outputs": [],
   "source": [
    "#Get events\n",
    "gammas = particles[\"gamma\"][\"events\"]\n",
    "protons = particles[\"proton\"][\"events\"]"
   ]
  },
  {
   "cell_type": "code",
   "execution_count": null,
   "metadata": {},
   "outputs": [],
   "source": []
  },
  {
   "cell_type": "markdown",
   "metadata": {},
   "source": [
    "## Calculate the best cuts for sensitivity"
   ]
  },
  {
   "cell_type": "markdown",
   "metadata": {},
   "source": [
    "### Define bins"
   ]
  },
  {
   "cell_type": "code",
   "execution_count": null,
   "metadata": {},
   "outputs": [],
   "source": [
    "#Sensitivity energy bins\n",
    "sensitivity_bins = np.logspace(np.log10(EMIN),\n",
    "    np.log10(EMAX), N_EBINS + 1) * u.TeV"
   ]
  },
  {
   "cell_type": "markdown",
   "metadata": {},
   "source": [
    "### Data to optimize best cuts"
   ]
  },
  {
   "cell_type": "code",
   "execution_count": null,
   "metadata": {},
   "outputs": [],
   "source": [
    "signal=gammas\n",
    "background=protons"
   ]
  },
  {
   "cell_type": "markdown",
   "metadata": {},
   "source": [
    "## Method : pyirf opt_gh_cut"
   ]
  },
  {
   "cell_type": "code",
   "execution_count": null,
   "metadata": {},
   "outputs": [],
   "source": [
    "\"\"\"\n",
    "Only one cut optimisation method shoud be used. Method 1\n",
    "\"\"\"\n",
    "\n",
    "#Calculate an initial GH cut for calculating initial theta cuts, based on INITIAL_GH_CUT_EFFICIENCY\n",
    "INITIAL_GH_CUT = np.quantile(signal['gh_score'], (1 - INITIAL_GH_CUT_EFFICENCY))\n",
    "INITIAL_GH_CUT"
   ]
  },
  {
   "cell_type": "markdown",
   "metadata": {},
   "source": [
    "### Initial $\\theta$ cut"
   ]
  },
  {
   "cell_type": "code",
   "execution_count": null,
   "metadata": {},
   "outputs": [],
   "source": [
    "# theta cut is 68 percent containmente of the gammas\n",
    "# for now with a fixed global, unoptimized score cut\n",
    "mask_theta_cuts = signal[\"gh_score\"] >= INITIAL_GH_CUT\n",
    "theta_cuts = calculate_percentile_cut(\n",
    "        signal[\"theta\"][mask_theta_cuts],\n",
    "        signal[\"reco_energy\"][mask_theta_cuts],\n",
    "        bins=sensitivity_bins,\n",
    "        fill_value=np.nan * u.deg,\n",
    "        percentile=68,\n",
    ")"
   ]
  },
  {
   "cell_type": "code",
   "execution_count": null,
   "metadata": {},
   "outputs": [],
   "source": [
    "# evaluate the initial theta cut\n",
    "signal[\"selected_theta\"] = evaluate_binned_cut(\n",
    "    signal[\"theta\"], signal[\"reco_energy\"], theta_cuts, operator.le\n",
    "    )"
   ]
  },
  {
   "cell_type": "markdown",
   "metadata": {},
   "source": [
    "### Run block below for G/H cut optimization based on best sensitivity"
   ]
  },
  {
   "cell_type": "code",
   "execution_count": null,
   "metadata": {},
   "outputs": [],
   "source": [
    "log.info(\"Optimizing G/H separation cut for best sensitivity\")\n",
    "gh_cut_efficiencies = np.arange(\n",
    "        GH_CUT_EFFICIENCY_STEP,\n",
    "        MAX_GH_CUT_EFFICIENCY + GH_CUT_EFFICIENCY_STEP / 2,\n",
    "        GH_CUT_EFFICIENCY_STEP\n",
    ")\n",
    "sensitivity_step_2, gh_cuts = optimize_gh_cut(\n",
    "    signal[signal[\"selected_theta\"]],\n",
    "    background,\n",
    "    reco_energy_bins=sensitivity_bins,\n",
    "    gh_cut_efficiencies=gh_cut_efficiencies,\n",
    "    theta_cuts=theta_cuts,\n",
    "    op=operator.ge,\n",
    "    alpha=ALPHA,\n",
    "    background_radius=MAX_BG_RADIUS,\n",
    ")"
   ]
  },
  {
   "cell_type": "markdown",
   "metadata": {},
   "source": [
    "### Setting of $\\theta$ cut as 68% containment of events surviving the cuts"
   ]
  },
  {
   "cell_type": "code",
   "execution_count": null,
   "metadata": {},
   "outputs": [],
   "source": [
    "#Evaluate gh cut:\n",
    "for tab in (gammas, protons):#, on, off):\n",
    "    tab[\"selected_gh\"] = evaluate_binned_cut(\n",
    "    tab[\"gh_score\"], tab[\"reco_energy\"], gh_cuts, operator.ge\n",
    "    )\n",
    "\n",
    "theta_cuts_opt = calculate_percentile_cut(\n",
    "    gammas[gammas[\"selected_gh\"]][\"theta\"],\n",
    "    gammas[gammas[\"selected_gh\"]][\"reco_energy\"],\n",
    "    sensitivity_bins,\n",
    "    percentile=68,\n",
    "    fill_value=0.32 * u.deg,\n",
    "    )\n",
    "\n",
    "\"\"\"\n",
    "End of Method 1\n",
    "\"\"\""
   ]
  },
  {
   "cell_type": "markdown",
   "metadata": {},
   "source": [
    "## Method : Alternative grid optimisation theta/gh cuts"
   ]
  },
  {
   "cell_type": "code",
   "execution_count": null,
   "metadata": {},
   "outputs": [],
   "source": [
    "\"\"\"\n",
    "Only one cut optimisation method shoud be used. Method 2\n",
    "\"\"\"\n",
    "\n",
    "log.info(\"Optimizing theta cut and G/H separation cut for best sensitivity\")\n",
    "thetacuts = np.arange(THETA_CUT_MIN,THETA_CUT_MAX,THETA_CUT_STEP)\n",
    "ghcuts = np.arange(GH_CUT_MIN,GH_CUT_MAX,GH_CUT_STEP)\n",
    "opt_theta_cut = []\n",
    "opt_gh_cut = []\n",
    "opt_sensi = []\n",
    "for i, ebins in enumerate(sensitivity_bins[:-1]):\n",
    "    sensitivity_step_2 = np.ones(shape=(len(thetacuts),len(ghcuts)))\n",
    "    for j, tcut in enumerate(thetacuts):\n",
    "        for k, ghcut in enumerate(ghcuts):\n",
    "            non = np.sum(gammas['weight'][((gammas[\"reco_energy\"]>sensitivity_bins[i])&(gammas[\"reco_energy\"]<sensitivity_bins[i+1])&\n",
    "                   (gammas[\"theta\"].value<tcut) & (gammas[\"gh_score\"]>ghcut))])\n",
    "            noff = np.sum(protons['weight'][((protons[\"reco_energy\"]>sensitivity_bins[i])&(protons[\"reco_energy\"]<sensitivity_bins[i+1])&\n",
    "                    (protons[\"theta\"]<MAX_BG_RADIUS) & (protons[\"gh_score\"]>ghcut))]) * (tcut/MAX_BG_RADIUS.value)**2\n",
    "            if noff == 0:\n",
    "                non = 0\n",
    "            alpha = ALPHA\n",
    "            non = non + alpha * noff\n",
    "            sensitivity_step_2[j][k] = relative_sensitivity(\n",
    "                n_on=non,\n",
    "                n_off=noff,\n",
    "                alpha=alpha,\n",
    "                min_significance=5,\n",
    "                min_signal_events=10,\n",
    "                min_excess_over_background=0.05\n",
    "            )\n",
    "    if not np.all(np.isnan(sensitivity_step_2)):\n",
    "        # nanargmin won't return the index of nan entries\n",
    "        jmax,kmax = np.unravel_index(np.nanargmin(sensitivity_step_2), sensitivity_step_2.shape)\n",
    "        opt_theta_cut.append(thetacuts[jmax])\n",
    "        opt_gh_cut.append(ghcuts[kmax])\n",
    "        opt_sensi.append(sensitivity_step_2[jmax][kmax])\n",
    "    else:\n",
    "        opt_theta_cut.append(np.inf)\n",
    "        opt_gh_cut.append(np.inf)\n",
    "        opt_sensi.append(np.inf)\n",
    "    print(i,end=', ')"
   ]
  },
  {
   "cell_type": "code",
   "execution_count": null,
   "metadata": {},
   "outputs": [],
   "source": [
    "from astropy.table import QTable\n",
    "from pyirf.binning import  bin_center"
   ]
  },
  {
   "cell_type": "code",
   "execution_count": null,
   "metadata": {},
   "outputs": [],
   "source": [
    "gh_cuts = QTable()\n",
    "gh_cuts[\"low\"] = sensitivity_bins[0:-1]\n",
    "gh_cuts[\"center\"] = bin_center(sensitivity_bins)\n",
    "gh_cuts[\"high\"] = sensitivity_bins[1:]\n",
    "gh_cuts[\"cut\"] = opt_gh_cut\n",
    "\n",
    "theta_cuts_opt = QTable()\n",
    "theta_cuts_opt[\"low\"] = sensitivity_bins[0:-1]\n",
    "theta_cuts_opt[\"center\"] = bin_center(sensitivity_bins)\n",
    "theta_cuts_opt[\"high\"] = sensitivity_bins[1:]\n",
    "theta_cuts_opt[\"cut\"] = opt_theta_cut* u.deg\n",
    "\n",
    "\n",
    "\"\"\"\n",
    "End of Method 2\n",
    "\"\"\""
   ]
  },
  {
   "cell_type": "code",
   "execution_count": null,
   "metadata": {},
   "outputs": [],
   "source": []
  },
  {
   "cell_type": "markdown",
   "metadata": {},
   "source": [
    "### Evaluate optimized cuts"
   ]
  },
  {
   "cell_type": "code",
   "execution_count": null,
   "metadata": {},
   "outputs": [],
   "source": [
    "#Evaluate gh cut\n",
    "for tab in (gammas, protons):#, on, off):\n",
    "    tab[\"selected_gh\"] = evaluate_binned_cut(\n",
    "    tab[\"gh_score\"], tab[\"reco_energy\"], gh_cuts, operator.ge\n",
    "    )"
   ]
  },
  {
   "cell_type": "code",
   "execution_count": null,
   "metadata": {},
   "outputs": [],
   "source": [
    "#Evaluate theta cut\n",
    "gammas[\"selected_theta\"] = evaluate_binned_cut(\n",
    "        gammas[\"theta\"], gammas[\"reco_energy\"], theta_cuts_opt, operator.le\n",
    "    )\n",
    "gammas[\"selected\"] = gammas[\"selected_theta\"] & gammas[\"selected_gh\"]\n",
    "\n",
    "protons[\"selected\"] =  protons[\"selected_gh\"]"
   ]
  },
  {
   "cell_type": "code",
   "execution_count": null,
   "metadata": {},
   "outputs": [],
   "source": []
  },
  {
   "cell_type": "markdown",
   "metadata": {},
   "source": [
    "### Create event histograms"
   ]
  },
  {
   "cell_type": "code",
   "execution_count": null,
   "metadata": {},
   "outputs": [],
   "source": [
    "gamma_hist = create_histogram_table(\n",
    "    gammas[gammas[\"selected\"]], bins=sensitivity_bins\n",
    "    )    \n",
    "proton_hist = estimate_background(\n",
    "    protons[protons[\"selected\"]],\n",
    "    reco_energy_bins=sensitivity_bins,\n",
    "    theta_cuts=theta_cuts_opt,\n",
    "    alpha=ALPHA,\n",
    "    background_radius=MAX_BG_RADIUS,\n",
    "    )"
   ]
  },
  {
   "cell_type": "code",
   "execution_count": null,
   "metadata": {},
   "outputs": [],
   "source": []
  },
  {
   "cell_type": "markdown",
   "metadata": {},
   "source": [
    "### Sensitivity with MC gammas and protons"
   ]
  },
  {
   "cell_type": "code",
   "execution_count": null,
   "metadata": {},
   "outputs": [],
   "source": [
    "sensitivity_mc = calculate_sensitivity(\n",
    "    gamma_hist, proton_hist, alpha=ALPHA\n",
    ")"
   ]
  },
  {
   "cell_type": "code",
   "execution_count": null,
   "metadata": {},
   "outputs": [],
   "source": [
    "# Compute errors on the sensitivity based on the number of simulated gamma and protons selected\n",
    "gamma_hist_errl = QTable()\n",
    "gamma_hist_errl[\"reco_energy_low\"] = gamma_hist[\"reco_energy_low\"]\n",
    "gamma_hist_errl[\"reco_energy_high\"] = gamma_hist[\"reco_energy_high\"]\n",
    "gamma_hist_errl[\"reco_energy_center\"] = gamma_hist[\"reco_energy_center\"]\n",
    "gamma_hist_errh = QTable()\n",
    "gamma_hist_errh[\"reco_energy_low\"] = gamma_hist[\"reco_energy_low\"]\n",
    "gamma_hist_errh[\"reco_energy_high\"] = gamma_hist[\"reco_energy_high\"]\n",
    "gamma_hist_errh[\"reco_energy_center\"] = gamma_hist[\"reco_energy_center\"]\n",
    "weights = gamma_hist[\"n_weighted\"].value/gamma_hist[\"n\"]\n",
    "errn=np.sqrt(gamma_hist[\"n\"])\n",
    "errn_weighted = errn * weights\n",
    "gamma_hist_errl[\"n\"] = gamma_hist[\"n\"] - errn\n",
    "gamma_hist_errl[\"n_weighted\"] = gamma_hist[\"n_weighted\"] - errn_weighted\n",
    "gamma_hist_errh[\"n\"] = gamma_hist[\"n\"] + errn\n",
    "gamma_hist_errh[\"n_weighted\"] = gamma_hist[\"n_weighted\"] + errn_weighted\n",
    "\n",
    "proton_hist_errl = QTable()\n",
    "proton_hist_errl[\"reco_energy_low\"] = proton_hist[\"reco_energy_low\"]\n",
    "proton_hist_errl[\"reco_energy_high\"] = proton_hist[\"reco_energy_high\"]\n",
    "proton_hist_errl[\"reco_energy_center\"] = proton_hist[\"reco_energy_center\"]\n",
    "proton_hist_errh = QTable()\n",
    "proton_hist_errh[\"reco_energy_low\"] = proton_hist[\"reco_energy_low\"]\n",
    "proton_hist_errh[\"reco_energy_high\"] = proton_hist[\"reco_energy_high\"]\n",
    "proton_hist_errh[\"reco_energy_center\"] = proton_hist[\"reco_energy_center\"]\n",
    "weights = proton_hist[\"n_weighted\"].value/proton_hist[\"n\"]\n",
    "errn=np.sqrt(proton_hist[\"n\"]/ALPHA) * theta_cuts_opt[\"cut\"].value/MAX_BG_RADIUS.value\n",
    "errn_weighted = errn * weights\n",
    "proton_hist_errl[\"n\"] = proton_hist[\"n\"] - errn\n",
    "proton_hist_errl[\"n_weighted\"] = proton_hist[\"n_weighted\"] - errn_weighted\n",
    "proton_hist_errh[\"n\"] = proton_hist[\"n\"] + errn\n",
    "proton_hist_errh[\"n_weighted\"] = proton_hist[\"n_weighted\"] + errn_weighted\n",
    "proton_hist_errl[\"n_weighted\"][proton_hist_errl[\"n_weighted\"]<0]=0\n",
    "gamma_hist_errl[\"n_weighted\"][gamma_hist_errl[\"n_weighted\"]<0]=0\n",
    "sensitivity_mc_l = calculate_sensitivity(\n",
    "    gamma_hist_errl, proton_hist_errh, alpha=ALPHA\n",
    ")\n",
    "sensitivity_mc_h = calculate_sensitivity(\n",
    "    gamma_hist_errh, proton_hist_errl, alpha=ALPHA\n",
    ")\n",
    "sensitivity_mc[\"relative_sensitivity_errl\"]=(sensitivity_mc_l[\"relative_sensitivity\"]-sensitivity_mc[\"relative_sensitivity\"])\n",
    "sensitivity_mc[\"relative_sensitivity_errh\"]=(sensitivity_mc[\"relative_sensitivity\"]-sensitivity_mc_h[\"relative_sensitivity\"])"
   ]
  },
  {
   "cell_type": "code",
   "execution_count": null,
   "metadata": {},
   "outputs": [],
   "source": [
    "#add cuts in table\n",
    "sensitivity_mc[\"gh_cut\"]=gh_cuts[\"cut\"]"
   ]
  },
  {
   "cell_type": "code",
   "execution_count": null,
   "metadata": {},
   "outputs": [],
   "source": [
    "sensitivity_mc"
   ]
  },
  {
   "cell_type": "markdown",
   "metadata": {},
   "source": [
    "### Plot Sensitivity curves"
   ]
  },
  {
   "cell_type": "code",
   "execution_count": null,
   "metadata": {},
   "outputs": [],
   "source": [
    "# scale relative sensitivity by Crab flux to get the flux sensitivity\n",
    "spectrum = particles['gamma']['target_spectrum']\n",
    "sensitivity_mc[\"flux_sensitivity\"] = (\n",
    "        sensitivity_mc[\"relative_sensitivity\"] * spectrum(sensitivity_mc[\"reco_energy_center\"])\n",
    "     )"
   ]
  },
  {
   "cell_type": "code",
   "execution_count": null,
   "metadata": {},
   "outputs": [],
   "source": [
    "sensitivity_mc[\"flux_sensitivity_errl\"] = (\n",
    "        sensitivity_mc[\"relative_sensitivity_errl\"] * spectrum(sensitivity_mc[\"reco_energy_center\"])\n",
    "     )\n",
    "sensitivity_mc[\"flux_sensitivity_errh\"] = (\n",
    "        sensitivity_mc[\"relative_sensitivity_errh\"] * spectrum(sensitivity_mc[\"reco_energy_center\"])\n",
    "     )"
   ]
  },
  {
   "cell_type": "code",
   "execution_count": null,
   "metadata": {},
   "outputs": [],
   "source": [
    "sensitivity_mc_saved=QTable.read('sensitivity_lhfit_pyirf_gridcut_errors.hdf5')"
   ]
  },
  {
   "cell_type": "code",
   "execution_count": null,
   "metadata": {},
   "outputs": [],
   "source": [
    "#Optional copy of processed object for multi-results plots\n",
    "sensitivity_mc_saved=sensitivity_mc\n",
    "theta_cuts_saved = theta_cuts_opt\n",
    "gh_cuts_saved=gh_cuts"
   ]
  },
  {
   "cell_type": "code",
   "execution_count": null,
   "metadata": {},
   "outputs": [],
   "source": [
    "sensitivity_mc_saved"
   ]
  },
  {
   "cell_type": "code",
   "execution_count": null,
   "metadata": {},
   "outputs": [],
   "source": [
    "#Optional copy of processed object for multi-results plots\n",
    "sensitivity_mc_saved_optghcut=sensitivity_mc\n",
    "theta_cuts_saved_optghcut = theta_cuts_opt\n",
    "gh_cuts_saved_optghcut=gh_cuts"
   ]
  },
  {
   "cell_type": "code",
   "execution_count": null,
   "metadata": {},
   "outputs": [],
   "source": [
    "#Optionnal line to write the results to file\n",
    "sensitivity_mc.write('sensitivity_lhfit_pyirf_gridcut_errors.hdf5',serialize_meta=True)"
   ]
  },
  {
   "cell_type": "code",
   "execution_count": null,
   "metadata": {
    "scrolled": false
   },
   "outputs": [],
   "source": [
    "\"\"\"\n",
    "e0,s0 = np.genfromtxt(\"/fefs/aswg/workspace/gabriel.emery/sensitivity_lstchain.txt\").T\n",
    "e0 = 1000*e0\n",
    "s0=s0/10000\n",
    "\n",
    "el1,eh1,s1,serr1,ct1,cg1 = np.genfromtxt(\n",
    "    \"/fefs/aswg/workspace/gabriel.emery/DL1/CyrilCode/size_cut_100_wol_0.01_1_leakage0_0.2/sensitivity/sensitivity.txt\").T\n",
    "e1 = (el1+eh1)/2\n",
    "e1 = np.power(10,e1)\n",
    "el1 = np.power(10,el1)\n",
    "eh1 = np.power(10,eh1)\n",
    "errl1=e1-el1\n",
    "errh1=eh1-e1\n",
    "\n",
    "s1=s1/10000\n",
    "serr1 = serr1/10000\n",
    "\"\"\"\n",
    "\n",
    "plt.figure(figsize=(12,8))\n",
    "ax=plt.axes()\n",
    "unit = u.Unit('TeV cm-2 s-1')\n",
    "\"\"\"\n",
    "e = sensitivity_mc_saved_optghcut['reco_energy_center']\n",
    "\n",
    "s_mc = (e**2 * sensitivity_mc_saved_optghcut['flux_sensitivity'])\n",
    "s_mc_errl = (e**2 * sensitivity_mc_saved_optghcut['flux_sensitivity_errl'])\n",
    "s_mc_errh = (e**2 * sensitivity_mc_saved_optghcut['flux_sensitivity_errh'])\n",
    "\n",
    "plt.errorbar(\n",
    "    e.to_value(u.GeV),\n",
    "    s_mc.to_value(unit),\n",
    "    xerr=(sensitivity_mc_saved_optghcut['reco_energy_high'] - sensitivity_mc_saved_optghcut['reco_energy_low']).to_value(u.GeV) / 2,\n",
    "    yerr=[s_mc_errl.to_value(unit),s_mc_errh.to_value(unit)],\n",
    "    label='LHfit pyirf.opt_gh_cut intensity cut 100 leak cut 0.2',\n",
    "    #label='MC gammas/protons',\n",
    "    fmt =' ', color = 'b'\n",
    "    )\n",
    "\"\"\"\n",
    "e = sensitivity_mc['reco_energy_center']\n",
    "\n",
    "s_mc = (e**2 * sensitivity_mc['flux_sensitivity'])\n",
    "s_mc_errl = (e**2 * sensitivity_mc['flux_sensitivity_errl'])\n",
    "s_mc_errh = (e**2 * sensitivity_mc['flux_sensitivity_errh'])\n",
    "\n",
    "plt.errorbar(\n",
    "    e.to_value(u.GeV),\n",
    "    s_mc.to_value(unit),\n",
    "    xerr=(sensitivity_mc['reco_energy_high'] - sensitivity_mc['reco_energy_low']).to_value(u.GeV) / 2,\n",
    "    yerr=[s_mc_errl.to_value(unit),s_mc_errh.to_value(unit)],\n",
    "    label='LHfit gamma gridcut noff!=0 intensity cut 200 leak cut 0.2',\n",
    "    #label='MC gammas/protons',\n",
    "    fmt =' ', color = 'k'\n",
    "    )\n",
    "\n",
    "e = sensitivity_mc_saved['reco_energy_center']\n",
    "\n",
    "s_mc = (e**2 * sensitivity_mc_saved['flux_sensitivity'])\n",
    "s_mc_errl = (e**2 * sensitivity_mc_saved['flux_sensitivity_errl'])\n",
    "s_mc_errh = (e**2 * sensitivity_mc_saved['flux_sensitivity_errh'])\n",
    "\n",
    "plt.errorbar(\n",
    "    e.to_value(u.GeV),\n",
    "    s_mc.to_value(unit),\n",
    "    xerr=(sensitivity_mc_saved['reco_energy_high'] - sensitivity_mc_saved['reco_energy_low']).to_value(u.GeV) / 2,\n",
    "    yerr=[s_mc_errl.to_value(unit),s_mc_errh.to_value(unit)],\n",
    "    label='LHfit gamma gridcut noff!=0 intensity cut 100 leak cut 0.2',\n",
    "    #label='MC gammas/protons',\n",
    "    fmt =' ', color = 'c'\n",
    "    )\n",
    "\n",
    "\n",
    "\n",
    "#plt.errorbar(x=e0,y=s0,fmt='.',label=\"Prod5 lstchain size cut 50\", color = 'b')\n",
    "#plt.errorbar(x=e1*1000,xerr=[errl1*1000,errh1*1000],y=e1*e1*s1,\n",
    "#             yerr=e1*e1*serr1,fmt='.',label=\"Prod5 digicampipe LST1234 LHfit size cut 100 leak cut 0.2 \", color = 'g')\n",
    "\n",
    "#Plot magic sensitivity\n",
    "s = np.loadtxt('/home/david.miranda/software/cta-lstchain_v.0.6.3/lstchain/spectra/data/magic_sensitivity.txt', skiprows = 1)\n",
    "ax.loglog(s[:,0], s[:,3] * np.power(s[:,0]/ 1e3, 2),\n",
    "              color = 'black', label = 'MAGIC (Aleksic et al. 2014)')\n",
    "\n",
    "#Plot Crab SED\n",
    "plot_utils.plot_Crab_SED(ax, 100, 5*u.GeV, 1e4*u.GeV, label=\"100% Crab\") #Energy in GeV\n",
    "plot_utils.plot_Crab_SED(ax, 10, 5*u.GeV, 1e4*u.GeV, linestyle='--', label=\"10% Crab\") #Energy in GeV\n",
    "plot_utils.plot_Crab_SED(ax, 1, 5*u.GeV, 1e4*u.GeV, linestyle=':', label=\"1% Crab\") #Energy in GeV\n",
    "\n",
    "\n",
    "# Style settings\n",
    "plt.title('Minimal Flux Needed for 5σ Detection in 50 hours')\n",
    "plt.xscale(\"log\")\n",
    "plt.yscale(\"log\")\n",
    "plt.xlabel(\"Reconstructed energy [GeV]\")\n",
    "plt.ylabel(rf\"$(E^2 \\cdot \\mathrm{{Flux Sensitivity}}) /$ ({unit.to_string('latex')})\")\n",
    "plt.grid(which=\"both\")\n",
    "plt.legend()\n",
    "plt.show()"
   ]
  },
  {
   "cell_type": "code",
   "execution_count": null,
   "metadata": {},
   "outputs": [],
   "source": [
    "#ratio plot between two sensitivities\n",
    "plt.errorbar(e.to_value(u.GeV),sensitivity_mc['flux_sensitivity']/sensitivity_mc_saved['flux_sensitivity'],\n",
    "    xerr=(sensitivity_mc_saved['reco_energy_high'] - sensitivity_mc_saved['reco_energy_low']).to_value(u.GeV) / 2,fmt= \".\")\n",
    "plt.xscale(\"log\")\n",
    "plt.show()"
   ]
  },
  {
   "cell_type": "markdown",
   "metadata": {},
   "source": [
    "### Rates"
   ]
  },
  {
   "cell_type": "code",
   "execution_count": null,
   "metadata": {},
   "outputs": [],
   "source": [
    "rate_gammas = gamma_hist[\"n_weighted\"]/T_OBS.to(u.min)\n",
    "area_ratio_p = (1-np.cos(theta_cuts_opt['cut']))/(1-np.cos(MAX_BG_RADIUS))\n",
    "rate_proton = proton_hist[\"n_weighted\"]*area_ratio_p/T_OBS.to(u.min)\n",
    "\n",
    "plt.errorbar(\n",
    "    0.5 * (gamma_hist['reco_energy_low'] + gamma_hist['reco_energy_high']).to_value(u.TeV),\n",
    "    rate_gammas.to_value(1/u.min),\n",
    "    xerr=0.5 * (gamma_hist['reco_energy_high'] - gamma_hist['reco_energy_low']).to_value(u.TeV),\n",
    "    label='Gammas MC',\n",
    ")\n",
    "plt.errorbar(\n",
    "    0.5 * (proton_hist['reco_energy_low'] + proton_hist['reco_energy_high']).to_value(u.TeV),\n",
    "    rate_proton.to_value(1/u.min),\n",
    "    xerr=0.5 * (proton_hist['reco_energy_high'] - proton_hist['reco_energy_low']).to_value(u.TeV),\n",
    "    label='Protons MC',\n",
    ")\n",
    "plt.legend()\n",
    "plt.ylabel('Rate events/min')\n",
    "plt.xlabel(r'$E_\\mathrm{reco} / \\mathrm{TeV}$')\n",
    "plt.xscale('log')\n",
    "plt.yscale('log')\n",
    "plt.grid(which=\"both\")\n",
    "plt.show()"
   ]
  },
  {
   "cell_type": "markdown",
   "metadata": {},
   "source": [
    "### Cuts"
   ]
  },
  {
   "cell_type": "code",
   "execution_count": null,
   "metadata": {},
   "outputs": [],
   "source": [
    "\"\"\"plt.errorbar(\n",
    "    0.5 * (theta_cuts_saved_optghcut['low'] + theta_cuts_saved_optghcut['high']).to_value(u.TeV),\n",
    "    (theta_cuts_saved_optghcut['cut']**2).to_value(u.deg**2),\n",
    "    xerr=0.5 * (theta_cuts_saved_optghcut['high'] - theta_cuts_saved_optghcut['low']).to_value(u.TeV),\n",
    "    ls='',\n",
    "    color='b'\n",
    "    )\n",
    "\"\"\"\n",
    "plt.errorbar(\n",
    "    0.5 * (theta_cuts_saved['low'] + theta_cuts_saved['high']).to_value(u.TeV),\n",
    "    (theta_cuts_saved['cut']**2).to_value(u.deg**2),\n",
    "    xerr=0.5 * (theta_cuts_saved['high'] - theta_cuts_saved['low']).to_value(u.TeV),\n",
    "    ls='',\n",
    "    color='c'\n",
    "    )\n",
    "plt.errorbar(\n",
    "    0.5 * (theta_cuts_opt['low'] + theta_cuts_opt['high']).to_value(u.TeV),\n",
    "    (theta_cuts_opt['cut']**2).to_value(u.deg**2),\n",
    "    xerr=0.5 * (theta_cuts_opt['high'] - theta_cuts_opt['low']).to_value(u.TeV),\n",
    "    ls='',\n",
    "    color='k'\n",
    "    )\n",
    "plt.ylabel(r'$\\theta^2$-cut')\n",
    "plt.xlabel(r'$E_\\mathrm{reco} / \\mathrm{TeV}$')\n",
    "plt.xscale('log')\n",
    "plt.grid(which=\"both\")\n",
    "plt.show()"
   ]
  },
  {
   "cell_type": "code",
   "execution_count": null,
   "metadata": {},
   "outputs": [],
   "source": [
    "\"\"\"plt.errorbar(\n",
    "    0.5 * (gh_cuts_saved_optghcut['low'] + gh_cuts_saved_optghcut['high']).to_value(u.TeV),\n",
    "    gh_cuts_saved_optghcut['cut'],\n",
    "    xerr=0.5 * (gh_cuts_saved_optghcut['high'] - gh_cuts_saved_optghcut['low']).to_value(u.TeV),\n",
    "    ls='',\n",
    "    color='b'\n",
    "    )\"\"\"\n",
    "plt.errorbar(\n",
    "    0.5 * (gh_cuts_saved['low'] + gh_cuts_saved['high']).to_value(u.TeV),\n",
    "    gh_cuts_saved['cut'],\n",
    "    xerr=0.5 * (gh_cuts_saved['high'] - gh_cuts_saved['low']).to_value(u.TeV),\n",
    "    ls='',\n",
    "    color='c'\n",
    "    )\n",
    "plt.errorbar(\n",
    "    0.5 * (gh_cuts['low'] + gh_cuts['high']).to_value(u.TeV),\n",
    "    gh_cuts['cut'],\n",
    "    xerr=0.5 * (gh_cuts['high'] - gh_cuts['low']).to_value(u.TeV),\n",
    "    ls='',\n",
    "    color='k'\n",
    "    )\n",
    "plt.ylabel('G/H-cut')\n",
    "plt.xlabel(r'$E_\\mathrm{reco} / \\mathrm{TeV}$')\n",
    "plt.xscale('log')\n",
    "plt.grid(which=\"both\")\n",
    "plt.show()"
   ]
  },
  {
   "cell_type": "markdown",
   "metadata": {},
   "source": [
    "### Angular Resolution"
   ]
  },
  {
   "cell_type": "code",
   "execution_count": null,
   "metadata": {},
   "outputs": [],
   "source": [
    "selected_events_gh = table.vstack(\n",
    "        gammas[gammas[\"selected_gh\"]], protons[protons[\"selected_gh\"]])"
   ]
  },
  {
   "cell_type": "code",
   "execution_count": null,
   "metadata": {},
   "outputs": [],
   "source": [
    "#Optional copy of processed object for multi-results plots\n",
    "selected_events_gh_saved = selected_events_gh"
   ]
  },
  {
   "cell_type": "code",
   "execution_count": null,
   "metadata": {},
   "outputs": [],
   "source": [
    "#Optional copy of processed object for multi-results plots\n",
    "selected_events_gh_saved_optghcut = selected_events_gh"
   ]
  },
  {
   "cell_type": "code",
   "execution_count": null,
   "metadata": {},
   "outputs": [],
   "source": [
    "\"\"\"\n",
    "ang_res = angular_resolution(selected_events_gh_saved_optghcut[selected_events_gh_saved_optghcut[\"selected_gh\"]], sensitivity_bins,)\n",
    "plt.errorbar(\n",
    "    0.5 * (ang_res['true_energy_low'] + ang_res['true_energy_high']),\n",
    "    ang_res['angular_resolution'],\n",
    "    xerr=0.5 * (ang_res['true_energy_high'] - ang_res['true_energy_low']),\n",
    "    ls='',color='b',\n",
    "    label='LHfit pyirf.opt_gh_cut intensity cut 100 leak cut 0.2'\n",
    "    )\n",
    "\"\"\"\n",
    "ang_res = angular_resolution(selected_events_gh_saved[selected_events_gh_saved[\"selected_gh\"]], sensitivity_bins,)\n",
    "plt.errorbar(\n",
    "    0.5 * (ang_res['true_energy_low'] + ang_res['true_energy_high']),\n",
    "    ang_res['angular_resolution'],\n",
    "    xerr=0.5 * (ang_res['true_energy_high'] - ang_res['true_energy_low']),\n",
    "    ls='',color='c',\n",
    "    label='LHfit gridcut noff!=0 intensity cut 100 leak cut 0.2'\n",
    "    )\n",
    "ang_res = angular_resolution(selected_events_gh[selected_events_gh[\"selected_gh\"]], sensitivity_bins,)\n",
    "plt.errorbar(\n",
    "    0.5 * (ang_res['true_energy_low'] + ang_res['true_energy_high']),\n",
    "    ang_res['angular_resolution'],\n",
    "    xerr=0.5 * (ang_res['true_energy_high'] - ang_res['true_energy_low']),\n",
    "    ls='',color='r',\n",
    "    label='Std gridcut noff!=0 intensity cut 100 leak cut 0.2'\n",
    "    )\n",
    "# Style settings\n",
    "plt.xlim(1.e-2, 2.e2)\n",
    "plt.ylim(0.5e-1, 1.2)\n",
    "plt.xscale(\"log\")\n",
    "#plt.yscale(\"log\")\n",
    "plt.xlabel(\"True energy / TeV\")\n",
    "plt.ylabel(\"Angular Resolution / deg\")\n",
    "plt.grid(which=\"both\")\n",
    "plt.legend()\n",
    "plt.show()"
   ]
  },
  {
   "cell_type": "markdown",
   "metadata": {},
   "source": [
    "### Energy resolution"
   ]
  },
  {
   "cell_type": "code",
   "execution_count": null,
   "metadata": {},
   "outputs": [],
   "source": [
    "selected_events = table.vstack(\n",
    "        gammas[gammas[\"selected\"]], protons[protons[\"selected\"]])"
   ]
  },
  {
   "cell_type": "code",
   "execution_count": null,
   "metadata": {},
   "outputs": [],
   "source": [
    "#Optional copy of processed object for multi-results plots\n",
    "selected_events_saved = selected_events\n",
    "bias_resolution_saved = energy_bias_resolution(\n",
    "    selected_events, sensitivity_bins,\n",
    "        )"
   ]
  },
  {
   "cell_type": "code",
   "execution_count": null,
   "metadata": {},
   "outputs": [],
   "source": [
    "#Optional copy of processed object for multi-results plots\n",
    "selected_events_saved_optghcut = selected_events\n",
    "bias_resolution_saved_optghcut = energy_bias_resolution(\n",
    "    selected_events, sensitivity_bins,\n",
    "        )"
   ]
  },
  {
   "cell_type": "code",
   "execution_count": null,
   "metadata": {},
   "outputs": [],
   "source": [
    "selected_events = table.vstack(\n",
    "        gammas[gammas[\"selected\"]], protons[protons[\"selected\"]])\n",
    "\n",
    "bias_resolution = energy_bias_resolution(\n",
    "    selected_events, sensitivity_bins,\n",
    "        )\n",
    "\n",
    "# Plot function\n",
    "\"\"\"\n",
    "plt.errorbar(\n",
    "    0.5 * (bias_resolution_saved_optghcut['true_energy_low'] + bias_resolution_saved_optghcut['true_energy_high']),\n",
    "    bias_resolution_saved_optghcut['resolution'],\n",
    "    xerr=0.5 * (bias_resolution_saved_optghcut['true_energy_high'] - bias_resolution_saved_optghcut['true_energy_low']),\n",
    "    ls='',color='b',\n",
    "    label='LHfit pyirf.opt_gh_cut intensity cut 100 leak cut 0.2'\n",
    "    )\n",
    "\"\"\"\n",
    "plt.errorbar(\n",
    "    0.5 * (bias_resolution_saved['true_energy_low'] + bias_resolution_saved['true_energy_high']),\n",
    "    bias_resolution_saved['resolution'],\n",
    "    xerr=0.5 * (bias_resolution_saved['true_energy_high'] - bias_resolution_saved['true_energy_low']),\n",
    "    ls='',color='c',\n",
    "    label='LHfit gridcut noff!=0 intensity cut 100 leak cut 0.2'\n",
    "    )\n",
    "plt.errorbar(\n",
    "    0.5 * (bias_resolution['true_energy_low'] + bias_resolution['true_energy_high']),\n",
    "    bias_resolution['resolution'],\n",
    "    xerr=0.5 * (bias_resolution['true_energy_high'] - bias_resolution['true_energy_low']),\n",
    "    ls='',color='r',\n",
    "    label='Std gridcut noff!=0 intensity cut 100 leak cut 0.2'\n",
    "    )\n",
    "plt.xscale('log')\n",
    "\n",
    "# Style settings\n",
    "plt.xlabel(r\"$E_\\mathrm{True} / \\mathrm{TeV}$\")\n",
    "plt.ylabel(\"Energy resolution\")\n",
    "plt.grid(which=\"both\")\n",
    "plt.legend(loc=\"best\")\n",
    "plt.show()"
   ]
  },
  {
   "cell_type": "markdown",
   "metadata": {},
   "source": [
    "### Reco Alt/Az for MC selected events"
   ]
  },
  {
   "cell_type": "code",
   "execution_count": null,
   "metadata": {},
   "outputs": [],
   "source": [
    "fig, axs = plt.subplots(nrows=1, ncols=5, figsize=(30,4))\n",
    "emin_bins=[0.0, 0.1,0.5, 1, 5] * u.TeV\n",
    "emax_bins=[0.1,0.5,1,5,10] * u.TeV\n",
    "selected_events=gammas[gammas[\"selected\"]]\n",
    "for i, ax in enumerate(axs):\n",
    "    events=selected_events[(selected_events['reco_energy']>emin_bins[i]) & \\\n",
    "                                    (selected_events['reco_energy']<emax_bins[i]) ]\n",
    "    pcm = ax.hist2d(events['reco_az'].to_value(u.deg), events['reco_alt'].to_value(u.deg), bins=50)\n",
    "    ax.title.set_text(\"%.1f-%.1f TeV\" % (emin_bins[i].to_value(), emax_bins[i].to_value()))\n",
    "    ax.set_xlabel(\"Az (º)\")\n",
    "    ax.set_ylabel(\"Alt (º)\")\n",
    "    fig.colorbar(pcm[3], ax=ax)\n",
    "plt.show()"
   ]
  },
  {
   "cell_type": "markdown",
   "metadata": {},
   "source": [
    "### Checks on number of islands"
   ]
  },
  {
   "cell_type": "code",
   "execution_count": null,
   "metadata": {},
   "outputs": [],
   "source": [
    "gammas_selected=gammas[(gammas['selected']) & (gammas['reco_energy']>1.*u.TeV)]\n",
    "plt.hist(gammas_selected['n_islands'], bins=10, range=(0.5, 10.5))\n",
    "plt.yscale('log')"
   ]
  },
  {
   "cell_type": "code",
   "execution_count": null,
   "metadata": {},
   "outputs": [],
   "source": [
    "protons_selected=protons[(protons['selected']) & (protons['reco_energy']>1.*u.TeV)]\n",
    "plt.hist(protons_selected['n_islands'], bins=10, range=(0.5, 10.5))\n",
    "plt.yscale('log')"
   ]
  },
  {
   "cell_type": "markdown",
   "metadata": {},
   "source": [
    "### Gammaness histograms"
   ]
  },
  {
   "cell_type": "code",
   "execution_count": null,
   "metadata": {},
   "outputs": [],
   "source": [
    "gammas_selected=gammas[(gammas['reco_energy']>sensitivity_bins[0])& (gammas['reco_energy']<sensitivity_bins[N_EBINS])]\n",
    "protons_selected=protons[(protons['reco_energy']>sensitivity_bins[0])& (protons['reco_energy']<sensitivity_bins[N_EBINS])]\n",
    "plt.hist(gammas_selected['gh_score'], bins=100, range=(0, 1),alpha=0.5)\n",
    "plt.hist(protons_selected['gh_score'], bins=100, range=(0, 1),alpha=0.5)\n",
    "plt.yscale('log')"
   ]
  },
  {
   "cell_type": "code",
   "execution_count": null,
   "metadata": {},
   "outputs": [],
   "source": []
  },
  {
   "cell_type": "code",
   "execution_count": null,
   "metadata": {},
   "outputs": [],
   "source": [
    "i=13\n",
    "gammas_selected=gammas[(gammas['reco_energy']>sensitivity_bins[i])& (gammas['reco_energy']<sensitivity_bins[i+1])]\n",
    "protons_selected=protons[(protons['reco_energy']>sensitivity_bins[i])& (protons['reco_energy']<sensitivity_bins[i+1])]\n",
    "plt.hist(gammas_selected['gh_score'], bins=100, range=(0, 1),alpha=0.5,color='c')\n",
    "plt.hist(protons_selected['gh_score'], bins=100, range=(0, 1),alpha=0.5,color='k')\n",
    "gammas_selected=gammas[(gammas['selected_theta']) & (gammas['reco_energy']>sensitivity_bins[i])& (gammas['reco_energy']<sensitivity_bins[i+1])]\n",
    "protons_selected=protons[(protons['theta'].value< 1) & (protons['reco_energy']>sensitivity_bins[i])& (protons['reco_energy']<sensitivity_bins[i+1])]\n",
    "plt.hist(gammas_selected['gh_score'], bins=100, range=(0, 1),alpha=0.5,color='c')\n",
    "plt.hist(protons_selected['gh_score'], bins=100, range=(0, 1),alpha=0.5,color='k')\n",
    "plt.title(\"gammaness Erange \"+str(sensitivity_bins[i])+\"--\"+str(sensitivity_bins[i+1]))\n",
    "plt.vlines(gh_cuts['cut'][i],ymin=plt.ylim()[0],ymax=plt.ylim()[1], color = 'r', label = \"gh_cut\")\n",
    "plt.legend()\n",
    "plt.yscale('log')"
   ]
  },
  {
   "cell_type": "code",
   "execution_count": null,
   "metadata": {},
   "outputs": [],
   "source": []
  },
  {
   "cell_type": "code",
   "execution_count": null,
   "metadata": {},
   "outputs": [],
   "source": []
  }
 ],
 "metadata": {
  "kernelspec": {
   "display_name": "Python 3",
   "language": "python",
   "name": "python3"
  },
  "language_info": {
   "codemirror_mode": {
    "name": "ipython",
    "version": 3
   },
   "file_extension": ".py",
   "mimetype": "text/x-python",
   "name": "python",
   "nbconvert_exporter": "python",
   "pygments_lexer": "ipython3",
   "version": "3.7.9"
  }
 },
 "nbformat": 4,
 "nbformat_minor": 4
}
